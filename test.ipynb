{
 "cells": [
  {
   "cell_type": "code",
   "execution_count": 1,
   "metadata": {},
   "outputs": [],
   "source": [
    "!source kpmedian_test/bin/activate"
   ]
  },
  {
   "cell_type": "code",
   "execution_count": 2,
   "metadata": {},
   "outputs": [
    {
     "name": "stdout",
     "output_type": "stream",
     "text": [
      "Processing /Users/xrb/Desktop/RA-IOE/Untitled\n",
      "  Installing build dependencies ... \u001b[?25ldone\n",
      "\u001b[?25h  Getting requirements to build wheel ... \u001b[?25ldone\n",
      "\u001b[?25h  Installing backend dependencies ... \u001b[?25ldone\n",
      "\u001b[?25h  Preparing metadata (pyproject.toml) ... \u001b[?25ldone\n",
      "\u001b[?25hRequirement already satisfied: geopandas>=0.10 in /opt/anaconda3/lib/python3.8/site-packages (from spopt==0.5.1.dev41+gca8d420.d20230817) (0.13.0)\n",
      "Requirement already satisfied: libpysal in /opt/anaconda3/lib/python3.8/site-packages (from spopt==0.5.1.dev41+gca8d420.d20230817) (4.6.2)\n",
      "Requirement already satisfied: mapclassify in /opt/anaconda3/lib/python3.8/site-packages (from spopt==0.5.1.dev41+gca8d420.d20230817) (2.4.3)\n",
      "Requirement already satisfied: networkx>=2.6 in /opt/anaconda3/lib/python3.8/site-packages (from spopt==0.5.1.dev41+gca8d420.d20230817) (3.1)\n",
      "Requirement already satisfied: numpy>=1.21 in /opt/anaconda3/lib/python3.8/site-packages (from spopt==0.5.1.dev41+gca8d420.d20230817) (1.23.5)\n",
      "Requirement already satisfied: pandas!=1.5.0,>=1.3 in /opt/anaconda3/lib/python3.8/site-packages (from spopt==0.5.1.dev41+gca8d420.d20230817) (1.4.2)\n",
      "Requirement already satisfied: pulp in /opt/anaconda3/lib/python3.8/site-packages (from spopt==0.5.1.dev41+gca8d420.d20230817) (2.6.0)\n",
      "Requirement already satisfied: scikit-learn>=1.0 in /opt/anaconda3/lib/python3.8/site-packages (from spopt==0.5.1.dev41+gca8d420.d20230817) (1.2.1)\n",
      "Requirement already satisfied: scipy>=1.7 in /opt/anaconda3/lib/python3.8/site-packages (from spopt==0.5.1.dev41+gca8d420.d20230817) (1.10.0)\n",
      "Requirement already satisfied: shapely>=2 in /opt/anaconda3/lib/python3.8/site-packages (from spopt==0.5.1.dev41+gca8d420.d20230817) (2.0.1)\n",
      "Requirement already satisfied: spaghetti in /opt/anaconda3/lib/python3.8/site-packages (from spopt==0.5.1.dev41+gca8d420.d20230817) (1.7.3)\n",
      "Requirement already satisfied: tqdm>=4.27.0 in /opt/anaconda3/lib/python3.8/site-packages (from spopt==0.5.1.dev41+gca8d420.d20230817) (4.47.0)\n",
      "Requirement already satisfied: fiona>=1.8.19 in /opt/anaconda3/lib/python3.8/site-packages (from geopandas>=0.10->spopt==0.5.1.dev41+gca8d420.d20230817) (1.8.21)\n",
      "Requirement already satisfied: packaging in /opt/anaconda3/lib/python3.8/site-packages (from geopandas>=0.10->spopt==0.5.1.dev41+gca8d420.d20230817) (23.1)\n",
      "Requirement already satisfied: pyproj>=3.0.1 in /opt/anaconda3/lib/python3.8/site-packages (from geopandas>=0.10->spopt==0.5.1.dev41+gca8d420.d20230817) (3.3.1)\n",
      "Requirement already satisfied: python-dateutil>=2.8.1 in /opt/anaconda3/lib/python3.8/site-packages (from pandas!=1.5.0,>=1.3->spopt==0.5.1.dev41+gca8d420.d20230817) (2.8.2)\n",
      "Requirement already satisfied: pytz>=2020.1 in /opt/anaconda3/lib/python3.8/site-packages (from pandas!=1.5.0,>=1.3->spopt==0.5.1.dev41+gca8d420.d20230817) (2020.1)\n",
      "Requirement already satisfied: joblib>=1.1.1 in /opt/anaconda3/lib/python3.8/site-packages (from scikit-learn>=1.0->spopt==0.5.1.dev41+gca8d420.d20230817) (1.2.0)\n",
      "Requirement already satisfied: threadpoolctl>=2.0.0 in /opt/anaconda3/lib/python3.8/site-packages (from scikit-learn>=1.0->spopt==0.5.1.dev41+gca8d420.d20230817) (2.1.0)\n",
      "Requirement already satisfied: appdirs in /opt/anaconda3/lib/python3.8/site-packages (from libpysal->spopt==0.5.1.dev41+gca8d420.d20230817) (1.4.4)\n",
      "Requirement already satisfied: beautifulsoup4 in /opt/anaconda3/lib/python3.8/site-packages (from libpysal->spopt==0.5.1.dev41+gca8d420.d20230817) (4.9.1)\n",
      "Requirement already satisfied: jinja2 in /opt/anaconda3/lib/python3.8/site-packages (from libpysal->spopt==0.5.1.dev41+gca8d420.d20230817) (3.1.2)\n",
      "Requirement already satisfied: requests in /opt/anaconda3/lib/python3.8/site-packages (from libpysal->spopt==0.5.1.dev41+gca8d420.d20230817) (2.24.0)\n",
      "Requirement already satisfied: esda in /opt/anaconda3/lib/python3.8/site-packages (from spaghetti->spopt==0.5.1.dev41+gca8d420.d20230817) (2.4.1)\n",
      "Requirement already satisfied: rtree in /opt/anaconda3/lib/python3.8/site-packages (from spaghetti->spopt==0.5.1.dev41+gca8d420.d20230817) (0.9.4)\n",
      "Requirement already satisfied: attrs>=17 in /opt/anaconda3/lib/python3.8/site-packages (from fiona>=1.8.19->geopandas>=0.10->spopt==0.5.1.dev41+gca8d420.d20230817) (19.3.0)\n",
      "Requirement already satisfied: certifi in /opt/anaconda3/lib/python3.8/site-packages (from fiona>=1.8.19->geopandas>=0.10->spopt==0.5.1.dev41+gca8d420.d20230817) (2022.6.15)\n",
      "Requirement already satisfied: click>=4.0 in /opt/anaconda3/lib/python3.8/site-packages (from fiona>=1.8.19->geopandas>=0.10->spopt==0.5.1.dev41+gca8d420.d20230817) (8.1.6)\n",
      "Requirement already satisfied: cligj>=0.5 in /opt/anaconda3/lib/python3.8/site-packages (from fiona>=1.8.19->geopandas>=0.10->spopt==0.5.1.dev41+gca8d420.d20230817) (0.7.2)\n",
      "Requirement already satisfied: click-plugins>=1.0 in /opt/anaconda3/lib/python3.8/site-packages (from fiona>=1.8.19->geopandas>=0.10->spopt==0.5.1.dev41+gca8d420.d20230817) (1.1.1)\n",
      "Requirement already satisfied: six>=1.7 in /opt/anaconda3/lib/python3.8/site-packages (from fiona>=1.8.19->geopandas>=0.10->spopt==0.5.1.dev41+gca8d420.d20230817) (1.15.0)\n",
      "Requirement already satisfied: munch in /opt/anaconda3/lib/python3.8/site-packages (from fiona>=1.8.19->geopandas>=0.10->spopt==0.5.1.dev41+gca8d420.d20230817) (2.5.0)\n",
      "Requirement already satisfied: setuptools in /opt/anaconda3/lib/python3.8/site-packages (from fiona>=1.8.19->geopandas>=0.10->spopt==0.5.1.dev41+gca8d420.d20230817) (49.2.0.post20200714)\n",
      "Requirement already satisfied: soupsieve>1.2 in /opt/anaconda3/lib/python3.8/site-packages (from beautifulsoup4->libpysal->spopt==0.5.1.dev41+gca8d420.d20230817) (2.0.1)\n",
      "Requirement already satisfied: MarkupSafe>=2.0 in /opt/anaconda3/lib/python3.8/site-packages (from jinja2->libpysal->spopt==0.5.1.dev41+gca8d420.d20230817) (2.0.1)\n",
      "Requirement already satisfied: chardet<4,>=3.0.2 in /opt/anaconda3/lib/python3.8/site-packages (from requests->libpysal->spopt==0.5.1.dev41+gca8d420.d20230817) (3.0.4)\n",
      "Requirement already satisfied: idna<3,>=2.5 in /opt/anaconda3/lib/python3.8/site-packages (from requests->libpysal->spopt==0.5.1.dev41+gca8d420.d20230817) (2.10)\n",
      "Requirement already satisfied: urllib3!=1.25.0,!=1.25.1,<1.26,>=1.21.1 in /opt/anaconda3/lib/python3.8/site-packages (from requests->libpysal->spopt==0.5.1.dev41+gca8d420.d20230817) (1.25.9)\n",
      "Building wheels for collected packages: spopt\n",
      "  Building wheel for spopt (pyproject.toml) ... \u001b[?25ldone\n",
      "\u001b[?25h  Created wheel for spopt: filename=spopt-0.5.1.dev41+gca8d420.d20230817-py3-none-any.whl size=240178 sha256=8a4b500ec81d22d34c5b277da41b04dbb7a370991edbdea35289f2e9f3528e42\n",
      "  Stored in directory: /private/var/folders/v1/b3bx117j02qghrlmbvc478780000gn/T/pip-ephem-wheel-cache-gj7kxpig/wheels/93/eb/e5/aa211935151a30a3e08a46912bbd072b4e25cd3e834dd97e61\n",
      "Successfully built spopt\n",
      "\u001b[33mDEPRECATION: pyodbc 4.0.0-unsupported has a non-standard version number. pip 23.3 will enforce this behaviour change. A possible replacement is to upgrade to a newer version of pyodbc or contact the author to suggest that they release a version with a conforming version number. Discussion can be found at https://github.com/pypa/pip/issues/12063\u001b[0m\u001b[33m\n",
      "\u001b[0mInstalling collected packages: spopt\n",
      "  Attempting uninstall: spopt\n",
      "    Found existing installation: spopt 0.5.1.dev41+gca8d420.d20230817\n",
      "    Uninstalling spopt-0.5.1.dev41+gca8d420.d20230817:\n",
      "      Successfully uninstalled spopt-0.5.1.dev41+gca8d420.d20230817\n",
      "Successfully installed spopt-0.5.1.dev41+gca8d420.d20230817\n",
      "Note: you may need to restart the kernel to use updated packages.\n"
     ]
    }
   ],
   "source": [
    "pip install /Users/xrb/Desktop/RA-IOE/Untitled"
   ]
  },
  {
   "cell_type": "code",
   "execution_count": 3,
   "metadata": {},
   "outputs": [
    {
     "name": "stderr",
     "output_type": "stream",
     "text": [
      "/opt/anaconda3/lib/python3.8/site-packages/geopandas/_compat.py:124: UserWarning: The Shapely GEOS version (3.8.0-CAPI-1.13.1) is incompatible with the GEOS version PyGEOS was compiled with (3.10.1-CAPI-1.16.0). Conversions between both will be slow.\n",
      "  warnings.warn(\n"
     ]
    }
   ],
   "source": [
    "from spopt.locate.p_median import KNearestPMedian"
   ]
  },
  {
   "cell_type": "code",
   "execution_count": 4,
   "metadata": {},
   "outputs": [],
   "source": [
    "from shapely.geometry import Point\n",
    "import geopandas as gpd\n",
    "import numpy as np\n",
    "\n",
    "# Sample demand points data\n",
    "demand_data = {\n",
    "    \"DemandID\": [1, 2],\n",
    "    \"geometry\": [Point(0.5, 1), Point(1.5, 1)],\n",
    "    \"demand\": [1, 1],\n",
    "}\n",
    "dem = gpd.GeoDataFrame(demand_data, crs=\"EPSG:4326\")\n",
    "\n",
    "# Sample facility points data\n",
    "facility_data = {\n",
    "    \"FacilityID\": [101, 102, 103],\n",
    "    \"geometry\": [Point(1, 1), Point(0, 2), Point(2, 0)],\n",
    "    \"capacity\": [1, 1, 1],\n",
    "}\n",
    "fac = gpd.GeoDataFrame(facility_data, crs=\"EPSG:4326\")\n",
    "intial_k = np.array([1, 1])"
   ]
  },
  {
   "cell_type": "code",
   "execution_count": 7,
   "metadata": {},
   "outputs": [
    {
     "ename": "ValueError",
     "evalue": "The value of k should be no more than the number of totalfacilities (3).",
     "output_type": "error",
     "traceback": [
      "\u001b[0;31m---------------------------------------------------------------------------\u001b[0m",
      "\u001b[0;31mValueError\u001b[0m                                Traceback (most recent call last)",
      "\u001b[0;32m<ipython-input-7-acef2d40872f>\u001b[0m in \u001b[0;36m<module>\u001b[0;34m\u001b[0m\n\u001b[0;32m----> 1\u001b[0;31m prob = KNearestPMedian.from_geodataframe(\n\u001b[0m\u001b[1;32m      2\u001b[0m     \u001b[0mdem\u001b[0m\u001b[0;34m,\u001b[0m\u001b[0;34m\u001b[0m\u001b[0;34m\u001b[0m\u001b[0m\n\u001b[1;32m      3\u001b[0m     \u001b[0mfac\u001b[0m\u001b[0;34m,\u001b[0m\u001b[0;34m\u001b[0m\u001b[0;34m\u001b[0m\u001b[0m\n\u001b[1;32m      4\u001b[0m     \u001b[0;34m\"geometry\"\u001b[0m\u001b[0;34m,\u001b[0m\u001b[0;34m\u001b[0m\u001b[0;34m\u001b[0m\u001b[0m\n\u001b[1;32m      5\u001b[0m     \u001b[0;34m\"geometry\"\u001b[0m\u001b[0;34m,\u001b[0m\u001b[0;34m\u001b[0m\u001b[0;34m\u001b[0m\u001b[0m\n",
      "\u001b[0;32m/opt/anaconda3/lib/python3.8/site-packages/spopt/locate/p_median.py\u001b[0m in \u001b[0;36mfrom_geodataframe\u001b[0;34m(cls, gdf_demand, gdf_fac, demand_col, facility_col, weights_cols, p_facilities, facility_capacity_col, k_array, distance_metric, name)\u001b[0m\n\u001b[1;32m    958\u001b[0m             \u001b[0;32mraise\u001b[0m \u001b[0mTypeError\u001b[0m\u001b[0;34m(\u001b[0m\u001b[0;34m\"k_array should be a numpy array.\"\u001b[0m\u001b[0;34m)\u001b[0m\u001b[0;34m\u001b[0m\u001b[0;34m\u001b[0m\u001b[0m\n\u001b[1;32m    959\u001b[0m         \u001b[0;32melif\u001b[0m \u001b[0;32mnot\u001b[0m \u001b[0;34m(\u001b[0m\u001b[0mk_array\u001b[0m \u001b[0;34m<=\u001b[0m \u001b[0mlen\u001b[0m\u001b[0;34m(\u001b[0m\u001b[0mfac_data\u001b[0m\u001b[0;34m)\u001b[0m\u001b[0;34m)\u001b[0m\u001b[0;34m.\u001b[0m\u001b[0mall\u001b[0m\u001b[0;34m(\u001b[0m\u001b[0;34m)\u001b[0m\u001b[0;34m:\u001b[0m\u001b[0;34m\u001b[0m\u001b[0;34m\u001b[0m\u001b[0m\n\u001b[0;32m--> 960\u001b[0;31m             raise ValueError(\n\u001b[0m\u001b[1;32m    961\u001b[0m                 \u001b[0;34mf\"The value of k should be no more than the number of total\"\u001b[0m\u001b[0;34m\u001b[0m\u001b[0;34m\u001b[0m\u001b[0m\n\u001b[1;32m    962\u001b[0m                 \u001b[0;34mf\"facilities ({len(fac_data)}).\"\u001b[0m\u001b[0;34m\u001b[0m\u001b[0;34m\u001b[0m\u001b[0m\n",
      "\u001b[0;31mValueError\u001b[0m: The value of k should be no more than the number of totalfacilities (3)."
     ]
    }
   ],
   "source": [
    "prob = KNearestPMedian.from_geodataframe(\n",
    "    dem,\n",
    "    fac,\n",
    "    \"geometry\",\n",
    "    \"geometry\",\n",
    "    \"demand\",\n",
    "    3,\n",
    "    facility_capacity_col=\"capacity\",\n",
    "    k_array=np.array([4,1])\n",
    ")"
   ]
  },
  {
   "cell_type": "code",
   "execution_count": 7,
   "metadata": {},
   "outputs": [],
   "source": [
    "import pulp\n",
    "prob = prob.solve(pulp.PULP_CBC_CMD(msg=False))"
   ]
  },
  {
   "cell_type": "code",
   "execution_count": 8,
   "metadata": {},
   "outputs": [
    {
     "name": "stdout",
     "output_type": "stream",
     "text": [
      "0 1\n",
      "1 0\n"
     ]
    }
   ],
   "source": [
    "for i in range(2):\n",
    "    for j in range(3):\n",
    "        if (i, j) in prob.cli_assgn_vars and prob.cli_assgn_vars[(i, j)].value() == 1:\n",
    "            print(i, j)"
   ]
  },
  {
   "cell_type": "code",
   "execution_count": 9,
   "metadata": {},
   "outputs": [
    {
     "data": {
      "text/plain": [
       "[[1], [0], []]"
      ]
     },
     "execution_count": 9,
     "metadata": {},
     "output_type": "execute_result"
    }
   ],
   "source": [
    "prob.fac2cli"
   ]
  },
  {
   "cell_type": "code",
   "execution_count": 12,
   "metadata": {},
   "outputs": [
    {
     "data": {
      "text/plain": [
       "[[1], [0]]"
      ]
     },
     "execution_count": 12,
     "metadata": {},
     "output_type": "execute_result"
    }
   ],
   "source": [
    "prob.cli2fac"
   ]
  },
  {
   "cell_type": "code",
   "execution_count": 13,
   "metadata": {},
   "outputs": [
    {
     "data": {
      "text/plain": [
       "0.8090169943749475"
      ]
     },
     "execution_count": 13,
     "metadata": {},
     "output_type": "execute_result"
    }
   ],
   "source": [
    "prob.mean_dist"
   ]
  },
  {
   "cell_type": "code",
   "execution_count": 10,
   "metadata": {},
   "outputs": [
    {
     "data": {
      "text/plain": [
       "array([2, 1])"
      ]
     },
     "execution_count": 10,
     "metadata": {},
     "output_type": "execute_result"
    }
   ],
   "source": [
    "prob.k_array"
   ]
  },
  {
   "cell_type": "code",
   "execution_count": 19,
   "metadata": {},
   "outputs": [],
   "source": [
    "prob_a = KNearestPMedian.from_geodataframe(\n",
    "    dem,\n",
    "    fac,\n",
    "    \"geometry\",\n",
    "    \"geometry\",\n",
    "    \"demand\",\n",
    "    3,\n",
    "    facility_capacity_col=\"capacity\",\n",
    ")"
   ]
  },
  {
   "cell_type": "code",
   "execution_count": 20,
   "metadata": {},
   "outputs": [],
   "source": [
    "prob_a = prob_a.solve(pulp.PULP_CBC_CMD(msg=False))"
   ]
  },
  {
   "cell_type": "code",
   "execution_count": 21,
   "metadata": {},
   "outputs": [
    {
     "name": "stdout",
     "output_type": "stream",
     "text": [
      "0 1\n",
      "1 0\n"
     ]
    }
   ],
   "source": [
    "for i in range(2):\n",
    "    for j in range(3):\n",
    "        if (i, j) in prob_a.cli_assgn_vars and prob_a.cli_assgn_vars[(i, j)].value() == 1:\n",
    "            print(i, j)"
   ]
  },
  {
   "cell_type": "code",
   "execution_count": 22,
   "metadata": {},
   "outputs": [
    {
     "data": {
      "text/plain": [
       "array([3, 3])"
      ]
     },
     "execution_count": 22,
     "metadata": {},
     "output_type": "execute_result"
    }
   ],
   "source": [
    "prob_a.k_list"
   ]
  },
  {
   "cell_type": "code",
   "execution_count": 14,
   "metadata": {},
   "outputs": [],
   "source": [
    "# Sample demand points data\n",
    "sample_client_b = np.array(\n",
    "    [[10.5, 1], [11.5, 1], [13.5, 1], [14.5, 1], [16.5, 1], [17.5, 1]]\n",
    ")\n",
    "demand_data_b = {\n",
    "    \"DemandID\": [i + 1 for i in range(len(sample_client_b))],\n",
    "    \"geometry\": [Point(x, y) for x, y in sample_client_b],\n",
    "    \"demand\": [1] * len(sample_client_b),\n",
    "}\n",
    "dem_b = gpd.GeoDataFrame(demand_data_b, crs=\"EPSG:4326\")\n",
    "\n",
    "# Sample facility points data\n",
    "sample_facility_b = np.array(\n",
    "    [[11, 1], [10, 2], [12, 0], [14, 1], [13, 2], [15, 0], [17, 1], [16, 2], [18, 0]]\n",
    ")\n",
    "facility_data_b = {\n",
    "    \"FacilityID\": [i + 101 for i in range(len(sample_facility_b))],\n",
    "    \"geometry\": [Point(x, y) for x, y in sample_facility_b],\n",
    "    \"capacity\": [1] * len(sample_facility_b),\n",
    "}\n",
    "fac_b = gpd.GeoDataFrame(facility_data_b, crs=\"EPSG:4326\")\n"
   ]
  },
  {
   "cell_type": "code",
   "execution_count": 16,
   "metadata": {},
   "outputs": [],
   "source": [
    "initial_k_b = np.array([1] * len(sample_client_b))\n",
    "prob_b = KNearestPMedian.from_geodataframe(\n",
    "    dem_b,\n",
    "    fac_b,\n",
    "    \"geometry\",\n",
    "    \"geometry\",\n",
    "    \"demand\",\n",
    "    6,\n",
    "    facility_capacity_col=\"capacity\",\n",
    "    k_list = initial_k_b,\n",
    "    distance_metric=\"euclidean\",\n",
    ")"
   ]
  },
  {
   "cell_type": "code",
   "execution_count": 17,
   "metadata": {},
   "outputs": [],
   "source": [
    "prob_b = prob_b.solve(pulp.PULP_CBC_CMD(msg=False))"
   ]
  },
  {
   "cell_type": "code",
   "execution_count": 18,
   "metadata": {},
   "outputs": [
    {
     "name": "stdout",
     "output_type": "stream",
     "text": [
      "0 1\n",
      "1 0\n",
      "2 4\n",
      "3 3\n",
      "4 7\n",
      "5 6\n"
     ]
    }
   ],
   "source": [
    "for i in range(6):\n",
    "    for j in range(9):\n",
    "        if (i, j) in prob_b.cli_assgn_vars and prob_b.cli_assgn_vars[\n",
    "            (i, j)\n",
    "        ].value() == 1:\n",
    "            print(i, j)"
   ]
  },
  {
   "cell_type": "code",
   "execution_count": 2,
   "metadata": {},
   "outputs": [
    {
     "name": "stdout",
     "output_type": "stream",
     "text": [
      "1\n"
     ]
    }
   ],
   "source": [
    "import numpy as np\n",
    "coordinates = np.array([[1., 1.],\n",
    "       [0., 2.],\n",
    "       [2., 0.]])\n",
    "metric = 'euclidean'\n",
    "from sklearn.neighbors import KDTree, BallTree\n",
    "if metric in KDTree.valid_metrics:\n",
    "    print(1)"
   ]
  },
  {
   "cell_type": "code",
   "execution_count": 4,
   "metadata": {},
   "outputs": [
    {
     "name": "stdout",
     "output_type": "stream",
     "text": [
      "scikit-learn version: 1.2.2\n"
     ]
    }
   ],
   "source": [
    "import sklearn\n",
    "print(\"scikit-learn version:\", sklearn.__version__)"
   ]
  }
 ],
 "metadata": {
  "interpreter": {
   "hash": "bcb02d4a8797ff5ebd92be15b60e9039bcb224cc71066b4afaa532ffd1d19559"
  },
  "kernelspec": {
   "display_name": "Python 3.10.11 ('spopt')",
   "language": "python",
   "name": "python3"
  },
  "language_info": {
   "codemirror_mode": {
    "name": "ipython",
    "version": 3
   },
   "file_extension": ".py",
   "mimetype": "text/x-python",
   "name": "python",
   "nbconvert_exporter": "python",
   "pygments_lexer": "ipython3",
   "version": "3.10.11"
  },
  "orig_nbformat": 4
 },
 "nbformat": 4,
 "nbformat_minor": 2
}
