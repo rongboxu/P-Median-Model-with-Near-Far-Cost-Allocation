{
 "cells": [
  {
   "cell_type": "markdown",
   "metadata": {},
   "source": [
    "Simple outline for this notebook:   \n",
    "\n",
    "1. Introduce the logic of the current code.\n",
    "\n",
    "2. Show the whole code of the k-nearest p-median model.\n",
    "\n",
    "3. Use the example to test the model."
   ]
  },
  {
   "cell_type": "markdown",
   "metadata": {},
   "source": [
    "#### 1. The logic"
   ]
  },
  {
   "cell_type": "markdown",
   "metadata": {},
   "source": [
    "a. The logic of `k_nearest_loop()`.   "
   ]
  },
  {
   "cell_type": "markdown",
   "metadata": {},
   "source": [
    "It can find the optimal solution, when the coordinate information of clients and facilities and the intial k value are given."
   ]
  },
  {
   "cell_type": "markdown",
   "metadata": {},
   "source": [
    "![Flowchart](flowchart/k_nearest_loop()_coordinate.png)"
   ]
  },
  {
   "cell_type": "markdown",
   "metadata": {},
   "source": [
    "b. The content of `from_sparse_matrix()`"
   ]
  },
  {
   "cell_type": "markdown",
   "metadata": {},
   "source": [
    "1. Three types of decision variables:   \n",
    "    one for the pair between clients and facilities,     \n",
    "    one for the placeholder facilities,     \n",
    "    one for all the facilities.\n",
    "\n",
    "2. One objective function\n",
    "\n",
    "3. Three types of constraints:   \n",
    "    one is about assignment constraint (each client must be served by one facility);    \n",
    "    one is about the overall accommodation constraint (the whole facilities are able to serve all the demands);    \n",
    "    the last one is about the individual capacity constraint (each facility has a capacity)"
   ]
  },
  {
   "cell_type": "markdown",
   "metadata": {},
   "source": [
    "#### 2. The complete code (binary version + Euclidean distance version)"
   ]
  },
  {
   "cell_type": "code",
   "execution_count": 1,
   "metadata": {},
   "outputs": [
    {
     "name": "stderr",
     "output_type": "stream",
     "text": [
      "/opt/anaconda3/lib/python3.8/site-packages/geopandas/_compat.py:124: UserWarning: The Shapely GEOS version (3.8.0-CAPI-1.13.1) is incompatible with the GEOS version PyGEOS was compiled with (3.10.1-CAPI-1.16.0). Conversions between both will be slow.\n",
      "  warnings.warn(\n"
     ]
    }
   ],
   "source": [
    "import pandas as pd\n",
    "import numpy as np\n",
    "import pulp\n",
    "from scipy.sparse import csr_matrix\n",
    "from scipy.sparse import find\n",
    "from scipy.spatial import KDTree\n",
    "from pointpats.geometry import build_best_tree\n",
    "import geopandas as gpd\n",
    "from shapely.geometry import Point\n",
    "from geopandas import GeoDataFrame"
   ]
  },
  {
   "cell_type": "code",
   "execution_count": 2,
   "metadata": {},
   "outputs": [],
   "source": [
    "import pandas as pd\n",
    "import numpy as np\n",
    "import pulp\n",
    "from scipy.sparse import csr_matrix\n",
    "from scipy.sparse import find\n",
    "from scipy.spatial import KDTree\n",
    "from pointpats.geometry import build_best_tree\n",
    "import geopandas as gpd\n",
    "from shapely.geometry import Point\n",
    "from geopandas import GeoDataFrame\n",
    "\n",
    "def create_sparse_matrix(clients, facilities, k_list, metric):\n",
    "    \"\"\"\n",
    "    create a sparse matrix reprensents the distance between clients and their k nearest facilities\n",
    "    \"\"\"\n",
    "    row_shape = len(clients)\n",
    "    column_shape = len(facilities)\n",
    "\n",
    "    # check the k value with the total number of facilities\n",
    "    for k in k_list:\n",
    "        if k > column_shape:\n",
    "            raise ValueError(f\"The value of k should be no more than the number of total facilities ({column_shape}).\")\n",
    "\n",
    "    # Initialize empty lists to store the data for the sparse matrix\n",
    "    data = []\n",
    "    row_index = []\n",
    "    col_index = []\n",
    "\n",
    "    # create the suitable Tree\n",
    "    tree = build_best_tree(facilities, metric)\n",
    "\n",
    "    for i, k in enumerate(k_list):\n",
    "        # Query the Tree to find the k nearest facilities for each client\n",
    "        distances, k_nearest_facilities_indices = tree.query([clients[i]], k=k)\n",
    "\n",
    "        # extract the contents of the inner array\n",
    "        distances = distances[0].tolist()\n",
    "        k_nearest_facilities_indices = k_nearest_facilities_indices[0].tolist()\n",
    "        \n",
    "        # Append the data for the sparse matrix\n",
    "        data.extend(distances)\n",
    "        row_index.extend([i] * k)\n",
    "        col_index.extend(k_nearest_facilities_indices)\n",
    "    # Create the sparse matrix using csr_matrix\n",
    "    sparse_matrix = csr_matrix((data, (row_index, col_index)), shape=(row_shape, column_shape))\n",
    "    return sparse_matrix\n",
    "\n",
    "def create_k_list(decision_g, k_list):\n",
    "    \"\"\"\n",
    "    increase the k value of client with the g_i > 0, create a new k list\n",
    "    \"\"\"\n",
    "    new_k_list = k_list.copy()\n",
    "    for i in range(len(decision_g)):\n",
    "        if decision_g[i].value() > 0:\n",
    "            new_k_list[i] = new_k_list[i] + 1\n",
    "    return new_k_list\n",
    "\n",
    "def from_sparse_matrix(\n",
    "    sparse_distance_matrix, \n",
    "    weights: np.array,\n",
    "    facility_capacities: np.array = None,\n",
    "    name: str = \"k-nearest-p-median\",):\n",
    "    \"\"\"\n",
    "    create and solve a p-median problem of a given sparse distance matrix, and demand and capacity\n",
    "    \"\"\"\n",
    "    # get the indices for clients and facilities\n",
    "    n_cli = sparse_distance_matrix.shape[0]\n",
    "    r_cli = range(n_cli)\n",
    "    r_fac = range(sparse_distance_matrix.shape[1])\n",
    "\n",
    "    # get the demand/weights\n",
    "    weights_sum = weights.sum()\n",
    "    weights = np.reshape(weights, (n_cli, 1))\n",
    "\n",
    "    # find the indices in this matrix\n",
    "    row_indices, col_indices, values = find(sparse_distance_matrix)\n",
    "\n",
    "    # set up the problem\n",
    "    problem = pulp.LpProblem(\"k-nearest-p-median\", pulp.LpMinimize)\n",
    "\n",
    "    # set the decision variable for the pair between client and k nearest facilities\n",
    "    decision = pulp.LpVariable.dicts(\"x\", [(i, j) for i, j in zip(row_indices, col_indices)], 0, 1, pulp.LpBinary)\n",
    "\n",
    "    # set the decision variable for placeholder facility\n",
    "    decision_g = pulp.LpVariable.dicts(\"g\", (i for i in r_cli), 0, 1, pulp.LpBinary)\n",
    "\n",
    "    # set the decision variable for all the facilities\n",
    "    decision_f = pulp.LpVariable.dicts(\"y\", (j for j in r_fac), 0, 1, pulp.LpBinary)\n",
    "\n",
    "    # set the objective\n",
    "    # to complete the objective, we need to get the maximum distance for each client first\n",
    "    max_distance = sparse_distance_matrix.max(axis=1).toarray().flatten()\n",
    "    objective = pulp.lpSum(\n",
    "        pulp.lpSum(\n",
    "            decision.get((i, j), 0) * sparse_distance_matrix[i, j] for j in r_fac\n",
    "        )\n",
    "        + (decision_g[i] * (max_distance[i] + 1))\n",
    "        for i in r_cli\n",
    "    )\n",
    "    problem += objective\n",
    "\n",
    "    # constraint 1. Each client is assigned to a facility\n",
    "    for i in r_cli:\n",
    "        problem += (\n",
    "            pulp.lpSum(decision.get((i, j), 0) for j in r_fac)\n",
    "            + decision_g[i] == 1\n",
    "        )\n",
    "\n",
    "    # constraint 2. The amount of capacity equals or exceeds the sum of all demands\n",
    "    problem += pulp.lpSum(decision_f[j] * facility_capacities[j] for j in r_fac) >= weights_sum\n",
    "\n",
    "    # constraint 3. Demand value the k nearest facility can serve is no more than its capacity.\n",
    "    for j in col_indices:\n",
    "        problem += (\n",
    "            pulp.lpSum(weights[i] * decision.get((i, j), 0) for i in r_cli) <= decision_f[j] * facility_capacities[j]\n",
    "        )\n",
    "\n",
    "    problem.solve(pulp.PULP_CBC_CMD(msg=False))\n",
    "    return problem, decision, decision_g\n",
    "\n",
    "def k_nearest_loop(\n",
    "    k_list, \n",
    "    gdf_demand : GeoDataFrame,\n",
    "    gdf_fac : GeoDataFrame,\n",
    "    demand_col: str,\n",
    "    facility_col: str,\n",
    "    weights_cols: str,\n",
    "    facility_capacity_col: str = None, \n",
    "    distance_metric: str = \"euclidean\",\n",
    "    name: str = \"p-median\",\n",
    "    ):\n",
    "    \"\"\"\n",
    "    the iteration which can find the optimal solution of the given geodataframe of clients and facilities and k value\n",
    "    \"\"\"\n",
    "\n",
    "    # intialize the sum of g_i\n",
    "    sum_gi = 1\n",
    "\n",
    "    # create the array of coordinate of clients and facilities\n",
    "    dem = gdf_demand[demand_col]\n",
    "    fac = gdf_fac[facility_col]\n",
    "    dem_data = np.array([dem.x.to_numpy(), dem.y.to_numpy()]).T\n",
    "    fac_data = np.array([fac.x.to_numpy(), fac.y.to_numpy()]).T\n",
    "\n",
    "    # demand and capacity\n",
    "    service_load = gdf_demand[weights_cols].to_numpy()\n",
    "    facility_capacities = None\n",
    "    if facility_capacity_col is not None:\n",
    "        facility_capacities = gdf_fac[facility_capacity_col].to_numpy()\n",
    "\n",
    "    # start the loop\n",
    "    while sum_gi > 0:\n",
    "        sparse_distance_matrix = create_sparse_matrix(dem_data, fac_data, k_list, distance_metric)\n",
    "        prob, decision, decision_g = from_sparse_matrix(\n",
    "            sparse_distance_matrix, \n",
    "            weights = service_load, \n",
    "            facility_capacities = facility_capacities)\n",
    "\n",
    "        # check the result\n",
    "        if prob.status != 1:\n",
    "            print(\"This problem doesn't have the optimal solution\")\n",
    "            break\n",
    "        sum_gi = sum(decision_g[i].value() for i in range(len(decision_g)) if decision_g[i].value() > 0)\n",
    "        if sum_gi > 0:\n",
    "            k_list = create_k_list(decision_g, k_list)\n",
    "            \n",
    "    return prob, decision, decision_g, k_list"
   ]
  },
  {
   "cell_type": "markdown",
   "metadata": {},
   "source": [
    "#### 3. Test case"
   ]
  },
  {
   "cell_type": "markdown",
   "metadata": {},
   "source": [
    "##### a. simple case, set the intial k equal to 1, and through the loop, it needs to be increased to 2."
   ]
  },
  {
   "cell_type": "code",
   "execution_count": 4,
   "metadata": {},
   "outputs": [],
   "source": [
    "# Sample demand points data\n",
    "demand_data = {\n",
    "    'DemandID': [1, 2],\n",
    "    'geometry': [Point(0.5, 1), Point(1.5, 1)],\n",
    "    'demand': [1, 1]\n",
    "}\n",
    "dem = gpd.GeoDataFrame(demand_data, crs='EPSG:4326')\n",
    "\n",
    "# Sample facility points data\n",
    "facility_data = {\n",
    "    'FacilityID': [101, 102, 103],\n",
    "    'geometry': [Point(1,1), Point(0, 2), Point(2, 0)],\n",
    "    'capacity': [1, 1, 1]\n",
    "}\n",
    "fac = gpd.GeoDataFrame(facility_data, crs='EPSG:4326')"
   ]
  },
  {
   "cell_type": "code",
   "execution_count": 5,
   "metadata": {},
   "outputs": [
    {
     "data": {
      "image/png": "[encoded data removed]",
      "text/plain": [
       "<Figure size 432x288 with 1 Axes>"
      ]
     },
     "metadata": {
      "needs_background": "light"
     },
     "output_type": "display_data"
    }
   ],
   "source": [
    "import matplotlib.pyplot as plt\n",
    "from shapely.geometry import LineString\n",
    "\n",
    "# Create a plot\n",
    "fig, ax = plt.subplots()\n",
    "\n",
    "# Plot demand points and facility points\n",
    "dem.plot(ax=ax, color='blue', markersize=50, label='Demand Points')\n",
    "fac.plot(ax=ax, color='red', markersize=50, label='Facility Points')\n",
    "\n",
    "# Plot connections between demand points and facility points\n",
    "for i, demand_point in dem.iterrows():\n",
    "    for j, facility_point in fac.iterrows():\n",
    "        line = LineString([demand_point.geometry, facility_point.geometry])\n",
    "        gpd.GeoSeries([line]).plot(ax=ax, color='gray', linewidth=0.5)\n",
    "\n",
    "# Set plot title and legend\n",
    "ax.set_title('Demand Points and Facility Points')\n",
    "ax.legend()\n",
    "\n",
    "# Show the plot\n",
    "plt.show()"
   ]
  },
  {
   "cell_type": "code",
   "execution_count": 6,
   "metadata": {},
   "outputs": [],
   "source": [
    "intial_k = [1, 1]\n",
    "prob, decision, decision_g, k_list = k_nearest_loop(\n",
    "    intial_k, \n",
    "    dem, \n",
    "    fac,\n",
    "    'geometry',\n",
    "    'geometry',\n",
    "    'demand',\n",
    "    facility_capacity_col = 'capacity',\n",
    "    distance_metric = \"euclidean\")"
   ]
  },
  {
   "cell_type": "code",
   "execution_count": 7,
   "metadata": {},
   "outputs": [
    {
     "data": {
      "text/plain": [
       "1"
      ]
     },
     "execution_count": 7,
     "metadata": {},
     "output_type": "execute_result"
    }
   ],
   "source": [
    "prob.status"
   ]
  },
  {
   "cell_type": "code",
   "execution_count": 8,
   "metadata": {},
   "outputs": [
    {
     "name": "stdout",
     "output_type": "stream",
     "text": [
      "0 1\n",
      "1 0\n"
     ]
    }
   ],
   "source": [
    "for i in range(2):\n",
    "    for j in range(3):\n",
    "        if (i, j) in decision and decision[(i, j)].value() == 1:\n",
    "            print(i, j)"
   ]
  },
  {
   "cell_type": "code",
   "execution_count": 9,
   "metadata": {},
   "outputs": [
    {
     "data": {
      "text/plain": [
       "[2, 1]"
      ]
     },
     "execution_count": 9,
     "metadata": {},
     "output_type": "execute_result"
    }
   ],
   "source": [
    "k_list"
   ]
  },
  {
   "cell_type": "markdown",
   "metadata": {},
   "source": [
    "##### b. more complicated case"
   ]
  },
  {
   "cell_type": "code",
   "execution_count": 16,
   "metadata": {},
   "outputs": [],
   "source": [
    "# Sample demand points data\n",
    "sample_client_b = np.array([[10.5, 1], [11.5, 1], [13.5, 1], [14.5, 1], [16.5, 1], [17.5, 1]])\n",
    "demand_data_b = {\n",
    "    'DemandID': [i + 1 for i in range(len(sample_client_b))],\n",
    "    'geometry': [Point(x, y) for x, y in sample_client_b],\n",
    "    'demand': [1] * len(sample_client_b)\n",
    "}\n",
    "dem_b = gpd.GeoDataFrame(demand_data_b, crs='EPSG:4326')\n",
    "\n",
    "# Sample facility points data\n",
    "sample_facility_b = np.array([[11,1], [10, 2], [12, 0], [14,1], [13, 2], [15, 0], [17,1], [16, 2], [18, 0]])\n",
    "facility_data_b = {\n",
    "    'FacilityID': [i + 101 for i in range(len(sample_facility_b))],\n",
    "    'geometry': [Point(x, y) for x, y in sample_facility_b],\n",
    "    'capacity': [1] * len(sample_facility_b)\n",
    "}\n",
    "fac_b = gpd.GeoDataFrame(facility_data_b, crs='EPSG:4326')"
   ]
  },
  {
   "cell_type": "code",
   "execution_count": 17,
   "metadata": {},
   "outputs": [
    {
     "data": {
      "image/png": "[encoded data removed]",
      "text/plain": [
       "<Figure size 432x288 with 1 Axes>"
      ]
     },
     "metadata": {
      "needs_background": "light"
     },
     "output_type": "display_data"
    }
   ],
   "source": [
    "# Create a plot\n",
    "fig, ax = plt.subplots()\n",
    "\n",
    "# Plot demand points and facility points\n",
    "dem_b.plot(ax=ax, color='blue', markersize=50, label='Demand Points')\n",
    "fac_b.plot(ax=ax, color='red', markersize=50, label='Facility Points')\n",
    "\n",
    "# Set plot title and legend\n",
    "ax.set_title('Demand Points and Facility Points')\n",
    "ax.legend()\n",
    "\n",
    "# Show the plot\n",
    "plt.show()"
   ]
  },
  {
   "cell_type": "code",
   "execution_count": 20,
   "metadata": {},
   "outputs": [],
   "source": [
    "initial_k_b = [1] * len(sample_client_b)\n",
    "prob_b, decision_b, decision_g_b, k_list_b = k_nearest_loop(\n",
    "    initial_k_b, \n",
    "    dem_b, \n",
    "    fac_b,\n",
    "    'geometry',\n",
    "    'geometry',\n",
    "    'demand',\n",
    "    facility_capacity_col = 'capacity',\n",
    "    distance_metric = \"euclidean\")"
   ]
  },
  {
   "cell_type": "code",
   "execution_count": 21,
   "metadata": {},
   "outputs": [
    {
     "name": "stdout",
     "output_type": "stream",
     "text": [
      "0 1\n",
      "1 0\n",
      "2 4\n",
      "3 3\n",
      "4 7\n",
      "5 6\n"
     ]
    }
   ],
   "source": [
    "for i in range(6):\n",
    "    for j in range(9):\n",
    "        if (i, j) in decision_b and decision_b[(i, j)].value() == 1:\n",
    "            print(i, j)"
   ]
  },
  {
   "cell_type": "code",
   "execution_count": 22,
   "metadata": {},
   "outputs": [
    {
     "data": {
      "text/plain": [
       "[2, 1, 2, 1, 2, 1]"
      ]
     },
     "execution_count": 22,
     "metadata": {},
     "output_type": "execute_result"
    }
   ],
   "source": [
    "k_list_b"
   ]
  },
  {
   "cell_type": "markdown",
   "metadata": {},
   "source": [
    "#### 4. error handling"
   ]
  },
  {
   "cell_type": "markdown",
   "metadata": {},
   "source": [
    "##### a. the k value should be no more than the total number of facilities"
   ]
  },
  {
   "cell_type": "code",
   "execution_count": 23,
   "metadata": {},
   "outputs": [
    {
     "ename": "ValueError",
     "evalue": "The value of k should be no more than the number of total facilities (3).",
     "output_type": "error",
     "traceback": [
      "\u001b[0;31m---------------------------------------------------------------------------\u001b[0m",
      "\u001b[0;31mValueError\u001b[0m                                Traceback (most recent call last)",
      "\u001b[0;32m<ipython-input-23-a570cc9fb45d>\u001b[0m in \u001b[0;36m<module>\u001b[0;34m\u001b[0m\n\u001b[0;32m----> 1\u001b[0;31m prob, decision, decision_g, k_list = k_nearest_loop(\n\u001b[0m\u001b[1;32m      2\u001b[0m     \u001b[0;34m[\u001b[0m\u001b[0;36m4\u001b[0m\u001b[0;34m,\u001b[0m \u001b[0;36m4\u001b[0m\u001b[0;34m]\u001b[0m\u001b[0;34m,\u001b[0m\u001b[0;34m\u001b[0m\u001b[0;34m\u001b[0m\u001b[0m\n\u001b[1;32m      3\u001b[0m     \u001b[0mdem\u001b[0m\u001b[0;34m,\u001b[0m\u001b[0;34m\u001b[0m\u001b[0;34m\u001b[0m\u001b[0m\n\u001b[1;32m      4\u001b[0m     \u001b[0mfac\u001b[0m\u001b[0;34m,\u001b[0m\u001b[0;34m\u001b[0m\u001b[0;34m\u001b[0m\u001b[0m\n\u001b[1;32m      5\u001b[0m     \u001b[0;34m'geometry'\u001b[0m\u001b[0;34m,\u001b[0m\u001b[0;34m\u001b[0m\u001b[0;34m\u001b[0m\u001b[0m\n",
      "\u001b[0;32m<ipython-input-2-f86656c53058>\u001b[0m in \u001b[0;36mk_nearest_loop\u001b[0;34m(k_list, gdf_demand, gdf_fac, demand_col, facility_col, weights_cols, facility_capacity_col, distance_metric, name)\u001b[0m\n\u001b[1;32m    140\u001b[0m     \u001b[0;31m# start the loop\u001b[0m\u001b[0;34m\u001b[0m\u001b[0;34m\u001b[0m\u001b[0;34m\u001b[0m\u001b[0m\n\u001b[1;32m    141\u001b[0m     \u001b[0;32mwhile\u001b[0m \u001b[0msum_gi\u001b[0m \u001b[0;34m>\u001b[0m \u001b[0;36m0\u001b[0m\u001b[0;34m:\u001b[0m\u001b[0;34m\u001b[0m\u001b[0;34m\u001b[0m\u001b[0m\n\u001b[0;32m--> 142\u001b[0;31m         \u001b[0msparse_distance_matrix\u001b[0m \u001b[0;34m=\u001b[0m \u001b[0mcreate_sparse_matrix\u001b[0m\u001b[0;34m(\u001b[0m\u001b[0mdem_data\u001b[0m\u001b[0;34m,\u001b[0m \u001b[0mfac_data\u001b[0m\u001b[0;34m,\u001b[0m \u001b[0mk_list\u001b[0m\u001b[0;34m,\u001b[0m \u001b[0mdistance_metric\u001b[0m\u001b[0;34m)\u001b[0m\u001b[0;34m\u001b[0m\u001b[0;34m\u001b[0m\u001b[0m\n\u001b[0m\u001b[1;32m    143\u001b[0m         prob, decision, decision_g = from_sparse_matrix(\n\u001b[1;32m    144\u001b[0m             \u001b[0msparse_distance_matrix\u001b[0m\u001b[0;34m,\u001b[0m\u001b[0;34m\u001b[0m\u001b[0;34m\u001b[0m\u001b[0m\n",
      "\u001b[0;32m<ipython-input-2-f86656c53058>\u001b[0m in \u001b[0;36mcreate_sparse_matrix\u001b[0;34m(clients, facilities, k_list, metric)\u001b[0m\n\u001b[1;32m      9\u001b[0m     \u001b[0;32mfor\u001b[0m \u001b[0mk\u001b[0m \u001b[0;32min\u001b[0m \u001b[0mk_list\u001b[0m\u001b[0;34m:\u001b[0m\u001b[0;34m\u001b[0m\u001b[0;34m\u001b[0m\u001b[0m\n\u001b[1;32m     10\u001b[0m         \u001b[0;32mif\u001b[0m \u001b[0mk\u001b[0m \u001b[0;34m>\u001b[0m \u001b[0mcolumn_shape\u001b[0m\u001b[0;34m:\u001b[0m\u001b[0;34m\u001b[0m\u001b[0;34m\u001b[0m\u001b[0m\n\u001b[0;32m---> 11\u001b[0;31m             \u001b[0;32mraise\u001b[0m \u001b[0mValueError\u001b[0m\u001b[0;34m(\u001b[0m\u001b[0;34mf\"The value of k should be no more than the number of total facilities ({column_shape}).\"\u001b[0m\u001b[0;34m)\u001b[0m\u001b[0;34m\u001b[0m\u001b[0;34m\u001b[0m\u001b[0m\n\u001b[0m\u001b[1;32m     12\u001b[0m \u001b[0;34m\u001b[0m\u001b[0m\n\u001b[1;32m     13\u001b[0m     \u001b[0;31m# Initialize empty lists to store the data for the sparse matrix\u001b[0m\u001b[0;34m\u001b[0m\u001b[0;34m\u001b[0m\u001b[0;34m\u001b[0m\u001b[0m\n",
      "\u001b[0;31mValueError\u001b[0m: The value of k should be no more than the number of total facilities (3)."
     ]
    }
   ],
   "source": [
    "prob, decision, decision_g, k_list = k_nearest_loop(\n",
    "    [4, 4], \n",
    "    dem, \n",
    "    fac,\n",
    "    'geometry',\n",
    "    'geometry',\n",
    "    'demand',\n",
    "    facility_capacity_col = 'capacity',\n",
    "    distance_metric = \"euclidean\")"
   ]
  }
 ],
 "metadata": {
  "interpreter": {
   "hash": "40d3a090f54c6569ab1632332b64b2c03c39dcf918b08424e98f38b5ae0af88f"
  },
  "kernelspec": {
   "display_name": "Python 3.8.3 ('base')",
   "language": "python",
   "name": "python3"
  },
  "language_info": {
   "codemirror_mode": {
    "name": "ipython",
    "version": 3
   },
   "file_extension": ".py",
   "mimetype": "text/x-python",
   "name": "python",
   "nbconvert_exporter": "python",
   "pygments_lexer": "ipython3",
   "version": "3.8.3"
  },
  "orig_nbformat": 4
 },
 "nbformat": 4,
 "nbformat_minor": 2
}
