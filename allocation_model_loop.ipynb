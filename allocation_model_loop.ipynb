{
 "cells": [
  {
   "cell_type": "markdown",
   "metadata": {},
   "source": [
    "Simple outline for this notebook:   \n",
    "\n",
    "1. Introduce the logic of the current code.\n",
    "\n",
    "2. Show the whole code of the k-nearest p-median model.\n",
    "\n",
    "3. Use the example to test the model."
   ]
  },
  {
   "cell_type": "markdown",
   "metadata": {},
   "source": [
    "#### 1. The logic"
   ]
  },
  {
   "cell_type": "markdown",
   "metadata": {},
   "source": [
    "a. The logic of `k_nearest_loop()`.   "
   ]
  },
  {
   "cell_type": "markdown",
   "metadata": {},
   "source": [
    "It can find the optimal solution, when a full distance/travel cost dataframe and the intial k value are given."
   ]
  },
  {
   "cell_type": "markdown",
   "metadata": {},
   "source": [
    "![Flowchart](flowchart/k_nearest_loop().png)"
   ]
  },
  {
   "cell_type": "markdown",
   "metadata": {},
   "source": [
    "b. The logic of `from_cost_table()`"
   ]
  },
  {
   "cell_type": "markdown",
   "metadata": {},
   "source": [
    "from_cost_table()\n",
    "   |\n",
    "   +--> k_nearest_dataframe()\n",
    "   |\n",
    "   +--> build_sparse_matrix()\n",
    "   |\n",
    "   +--> from_cost_matrix() <---"
   ]
  },
  {
   "cell_type": "markdown",
   "metadata": {},
   "source": [
    "c. The content of `from_cost_matrix()`"
   ]
  },
  {
   "cell_type": "markdown",
   "metadata": {},
   "source": [
    "1. Three decision variables:   \n",
    "    one for the pair between clients and facilities,     \n",
    "    one for the placeholder facilities,     \n",
    "    one for all the facilities.\n",
    "\n",
    "2. One objective function\n",
    "\n",
    "3. Three constraints:   \n",
    "    one is about assignment constraint (each client must be served by one facility);    \n",
    "    one is about the overall accommodation constraint (the whole facilities are able to serve all the demands);    \n",
    "    the last one is about the individual capacity constraint (each facility has a capacity)"
   ]
  },
  {
   "cell_type": "markdown",
   "metadata": {},
   "source": [
    "#### 2. The complete code (binary version)"
   ]
  },
  {
   "cell_type": "code",
   "execution_count": 2,
   "metadata": {},
   "outputs": [],
   "source": [
    "import pandas as pd\n",
    "import numpy as np\n",
    "import pulp\n",
    "from sklearn import preprocessing\n",
    "from scipy.sparse import csr_matrix\n",
    "from scipy.sparse import find"
   ]
  },
  {
   "cell_type": "code",
   "execution_count": 14,
   "metadata": {},
   "outputs": [],
   "source": [
    "def clean_travel_table(full_travel_table, facility_name, client_name, cost_column):\n",
    "    \"\"\"\n",
    "    rename key columns in the travel table and create new indices for clients and facilities.\n",
    "    \"\"\"\n",
    "    # rename key columns\n",
    "    full_travel_table.rename(\n",
    "        columns={\n",
    "            client_name: \"client\",\n",
    "            facility_name: \"facility\",\n",
    "            cost_column: \"cost\",\n",
    "        },inplace=True)\n",
    "\n",
    "    # create new index for clients and facilities\n",
    "    # sparse matrix only accpet integar as the index, so if the original ID of clients or facilities are string or\n",
    "    # contain string, we need to create a new integar index for them\n",
    "    encoder = preprocessing.LabelEncoder()\n",
    "    full_travel_table[\"facility_index\"] = encoder.fit_transform(full_travel_table['facility'])\n",
    "    full_travel_table[\"client_index\"] = encoder.fit_transform(full_travel_table['client'])\n",
    "    return full_travel_table\n",
    "\n",
    "def k_nearest_dataframe(distance, k_list):\n",
    "    \"\"\"\n",
    "    create the dataframe contains the distance between the clients and their k nearest facilities;\n",
    "    \"\"\"\n",
    "    result = pd.DataFrame()\n",
    "    for client, k in zip(distance['client'].unique(), k_list):\n",
    "        k_per_client = (\n",
    "            distance[distance['client'] == client]\n",
    "            .nsmallest(k, 'cost')\n",
    "            .reset_index(drop=True)\n",
    "        )\n",
    "        result = pd.concat([result, k_per_client], ignore_index=True)\n",
    "    return result\n",
    "\n",
    "def build_sparse_matrix(table, row_shape, column_shape):\n",
    "    \"\"\"\n",
    "    build the sparse matrix contains the distance between the clients and their k nearest facilities;\n",
    "    \"\"\"\n",
    "    data = table['cost'].values\n",
    "    row = table['client_index'].values\n",
    "    col = table['facility_index'].values\n",
    "    sparse_matrix = csr_matrix((data, (row, col)), shape=(row_shape, column_shape))\n",
    "    return sparse_matrix\n",
    "\n",
    "def create_k_list(decision_g, k_list):\n",
    "    \"\"\"\n",
    "    increase the k value of client with the g_i > 0, create a new k list\n",
    "    \"\"\"\n",
    "    new_k_list = k_list.copy()\n",
    "    for i in range(len(decision_g)):\n",
    "        if decision_g[i].value() > 0:\n",
    "            new_k_list[i] = new_k_list[i] + 1\n",
    "    return new_k_list\n",
    "\n",
    "def from_cost_table(full_travel_table, k, demand=None, capacity=None ):\n",
    "    \"\"\"\n",
    "    transform a cost table into a sparse distance matrix and subsequently solve a location allocation problem\n",
    "    \"\"\"\n",
    "    # get the total number of clients and facilities\n",
    "    row_shape = full_travel_table[\"client\"].nunique()\n",
    "    column_shape = full_travel_table[\"facility\"].nunique()\n",
    "\n",
    "    # call other functions\n",
    "    k_nearest_table = k_nearest_dataframe(full_travel_table, k)\n",
    "    sparse_distance_matrix = build_sparse_matrix(k_nearest_table, row_shape, column_shape)\n",
    "\n",
    "    return from_cost_matrix(sparse_distance_matrix, demand=demand, capacity=capacity)\n",
    "\n",
    "def from_cost_matrix(sparse_distance_matrix, demand=None, capacity=None):\n",
    "    \"\"\"\n",
    "    create and solve a p-median problem of a given sparse distance matrix, and demand and capacity\n",
    "    \"\"\"\n",
    "    # get the indices for clients and facilities\n",
    "    n_cli = sparse_distance_matrix.shape[0]\n",
    "    r_cli = range(n_cli)\n",
    "    r_fac = range(sparse_distance_matrix.shape[1])\n",
    "\n",
    "    # get the demand\n",
    "    demand_sum = demand.sum()\n",
    "    demand = np.reshape(demand, (n_cli, 1))\n",
    "\n",
    "    # find the indices in this matrix\n",
    "    row_indices, col_indices, values = find(sparse_distance_matrix)\n",
    "\n",
    "    # set up the problem\n",
    "    problem = pulp.LpProblem(\"k-nearest-p-median\", pulp.LpMinimize)\n",
    "\n",
    "    # set the decision variable for the pair between client and k nearest facilities\n",
    "    decision = pulp.LpVariable.dicts(\"x\", [(i, j) for i, j in zip(row_indices, col_indices)], 0, 1, pulp.LpBinary)\n",
    "\n",
    "    # set the decision variable for placeholder facility\n",
    "    decision_g = pulp.LpVariable.dicts(\"g\", (i for i in r_cli), 0, 1, pulp.LpBinary)\n",
    "\n",
    "    # set the decision variable for all the facilities\n",
    "    decision_f = pulp.LpVariable.dicts(\"y\", (j for j in r_fac), 0, 1, pulp.LpBinary)\n",
    "\n",
    "    # set the objective\n",
    "    # to complete the objective, we need to get the maximum distance for each client first\n",
    "    max_distance = sparse_distance_matrix.max(axis=1).toarray().flatten()\n",
    "    objective = pulp.lpSum(\n",
    "        pulp.lpSum(\n",
    "            decision.get((i, j), 0) * sparse_distance_matrix[i, j] for j in r_fac\n",
    "        )\n",
    "        + (decision_g[i] * (max_distance[i] + 1))\n",
    "        for i in r_cli\n",
    "    )\n",
    "    problem += objective\n",
    "\n",
    "    # constraint 1. Each client is assigned to a facility\n",
    "    for i in r_cli:\n",
    "        problem += (\n",
    "            pulp.lpSum(decision.get((i, j), 0) for j in r_fac)\n",
    "            + decision_g[i] == 1\n",
    "        )\n",
    "\n",
    "    # constraint 2. The amount of capacity equals or exceeds the sum of all demands\n",
    "    problem += pulp.lpSum(decision_f[j] * capacity[j] for j in r_fac) >= demand_sum\n",
    "\n",
    "    # constraint 3. Demand value the k nearest facility can serve is no more than its capacity.\n",
    "    for j in col_indices:\n",
    "        problem += (\n",
    "            pulp.lpSum(demand[i] * decision.get((i, j), 0) for i in r_cli) <= decision_f[j] * capacity[j]\n",
    "        )\n",
    "\n",
    "    problem.solve(pulp.PULP_CBC_CMD(msg=False))\n",
    "    return problem, decision, decision_g\n",
    "\n",
    "def k_nearest_loop(\n",
    "    k_list, full_travel_table, facility_name, client_name, cost_column,demand=None, capacity=None\n",
    "    ):\n",
    "    \"\"\"\n",
    "    the iteration which can find the optimal solution of a given distance dataframe and k value\n",
    "    \"\"\"\n",
    "    sum_gi = 1\n",
    "    clean_table = clean_travel_table(full_travel_table, facility_name, client_name, cost_column)\n",
    "    while sum_gi > 0:\n",
    "        prob, decision, decision_g = from_cost_table(\n",
    "            clean_table, k_list, demand=demand, capacity=capacity)\n",
    "        if prob.status != 1:\n",
    "            print(\"This problem doesn't have the optimal solution\")\n",
    "            break\n",
    "        sum_gi = sum(decision_g[i].value() for i in range(len(decision_g)) if decision_g[i].value() > 0)\n",
    "        if sum_gi > 0:\n",
    "            k_list = create_k_list(decision_g, k_list)\n",
    "    return prob, decision, decision_g"
   ]
  },
  {
   "cell_type": "markdown",
   "metadata": {},
   "source": [
    "#### 3. Test case"
   ]
  },
  {
   "cell_type": "markdown",
   "metadata": {},
   "source": [
    "##### a. simple case, set the intial k equal to 1, and through the loop, it needs to be increased to 2."
   ]
  },
  {
   "cell_type": "code",
   "execution_count": 16,
   "metadata": {},
   "outputs": [],
   "source": [
    "# Example cost table\n",
    "cost_table = pd.DataFrame({\n",
    "    'client': ['Client 1', 'Client 1', 'Client 1', \n",
    "               'Client 2','Client 2', 'Client 2'],\n",
    "    'facility': ['Facility A', 'Facility B', 'Facility C', \n",
    "                 'Facility A', 'Facility B', 'Facility C',],\n",
    "    'cost': [10, 14, 17, 12, 15, 13]\n",
    "})\n",
    "\n",
    "# Define other inputs\n",
    "k_list = [1, 1]  # List of k values for each client\n",
    "facility_name = 'facility'\n",
    "client_name = 'client'\n",
    "cost_column = 'cost'\n",
    "demand = np.array([1, 1])  # Demand values for each client\n",
    "capacity = np.array([1, 1, 1])  # Capacity values for each facility\n",
    "\n",
    "# Solve the location allocation problem\n",
    "prob, decision, decision_g = k_nearest_loop(k_list, cost_table, 'facility', 'client', 'cost', demand=demand, capacity=capacity)"
   ]
  },
  {
   "cell_type": "code",
   "execution_count": 17,
   "metadata": {},
   "outputs": [
    {
     "data": {
      "text/plain": [
       "1"
      ]
     },
     "execution_count": 17,
     "metadata": {},
     "output_type": "execute_result"
    }
   ],
   "source": [
    "prob.status"
   ]
  },
  {
   "cell_type": "code",
   "execution_count": 19,
   "metadata": {},
   "outputs": [
    {
     "data": {
      "text/html": [
       "<div>\n",
       "<style scoped>\n",
       "    .dataframe tbody tr th:only-of-type {\n",
       "        vertical-align: middle;\n",
       "    }\n",
       "\n",
       "    .dataframe tbody tr th {\n",
       "        vertical-align: top;\n",
       "    }\n",
       "\n",
       "    .dataframe thead th {\n",
       "        text-align: right;\n",
       "    }\n",
       "</style>\n",
       "<table border=\"1\" class=\"dataframe\">\n",
       "  <thead>\n",
       "    <tr style=\"text-align: right;\">\n",
       "      <th></th>\n",
       "      <th>client</th>\n",
       "      <th>facility</th>\n",
       "      <th>cost</th>\n",
       "      <th>facility_index</th>\n",
       "      <th>client_index</th>\n",
       "    </tr>\n",
       "  </thead>\n",
       "  <tbody>\n",
       "    <tr>\n",
       "      <th>0</th>\n",
       "      <td>Client 1</td>\n",
       "      <td>Facility A</td>\n",
       "      <td>10</td>\n",
       "      <td>0</td>\n",
       "      <td>0</td>\n",
       "    </tr>\n",
       "    <tr>\n",
       "      <th>1</th>\n",
       "      <td>Client 1</td>\n",
       "      <td>Facility B</td>\n",
       "      <td>14</td>\n",
       "      <td>1</td>\n",
       "      <td>0</td>\n",
       "    </tr>\n",
       "    <tr>\n",
       "      <th>2</th>\n",
       "      <td>Client 1</td>\n",
       "      <td>Facility C</td>\n",
       "      <td>17</td>\n",
       "      <td>2</td>\n",
       "      <td>0</td>\n",
       "    </tr>\n",
       "    <tr>\n",
       "      <th>3</th>\n",
       "      <td>Client 2</td>\n",
       "      <td>Facility A</td>\n",
       "      <td>12</td>\n",
       "      <td>0</td>\n",
       "      <td>1</td>\n",
       "    </tr>\n",
       "    <tr>\n",
       "      <th>4</th>\n",
       "      <td>Client 2</td>\n",
       "      <td>Facility B</td>\n",
       "      <td>15</td>\n",
       "      <td>1</td>\n",
       "      <td>1</td>\n",
       "    </tr>\n",
       "    <tr>\n",
       "      <th>5</th>\n",
       "      <td>Client 2</td>\n",
       "      <td>Facility C</td>\n",
       "      <td>13</td>\n",
       "      <td>2</td>\n",
       "      <td>1</td>\n",
       "    </tr>\n",
       "  </tbody>\n",
       "</table>\n",
       "</div>"
      ],
      "text/plain": [
       "     client    facility  cost  facility_index  client_index\n",
       "0  Client 1  Facility A    10               0             0\n",
       "1  Client 1  Facility B    14               1             0\n",
       "2  Client 1  Facility C    17               2             0\n",
       "3  Client 2  Facility A    12               0             1\n",
       "4  Client 2  Facility B    15               1             1\n",
       "5  Client 2  Facility C    13               2             1"
      ]
     },
     "execution_count": 19,
     "metadata": {},
     "output_type": "execute_result"
    }
   ],
   "source": [
    "cost_table"
   ]
  },
  {
   "cell_type": "code",
   "execution_count": 20,
   "metadata": {},
   "outputs": [
    {
     "name": "stdout",
     "output_type": "stream",
     "text": [
      "0 0\n",
      "1 2\n"
     ]
    }
   ],
   "source": [
    "for i in range(len(demand)):\n",
    "    for j in range(len(capacity)):\n",
    "        if (i, j) in decision and decision[(i, j)].value() == 1:\n",
    "            print(i, j)"
   ]
  },
  {
   "cell_type": "markdown",
   "metadata": {},
   "source": [
    "Client 1 - Facility A    \n",
    "Client 2 - Facility C"
   ]
  }
 ],
 "metadata": {
  "interpreter": {
   "hash": "40d3a090f54c6569ab1632332b64b2c03c39dcf918b08424e98f38b5ae0af88f"
  },
  "kernelspec": {
   "display_name": "Python 3.8.3 ('base')",
   "language": "python",
   "name": "python3"
  },
  "language_info": {
   "codemirror_mode": {
    "name": "ipython",
    "version": 3
   },
   "file_extension": ".py",
   "mimetype": "text/x-python",
   "name": "python",
   "nbconvert_exporter": "python",
   "pygments_lexer": "ipython3",
   "version": "3.8.3"
  },
  "orig_nbformat": 4
 },
 "nbformat": 4,
 "nbformat_minor": 2
}
