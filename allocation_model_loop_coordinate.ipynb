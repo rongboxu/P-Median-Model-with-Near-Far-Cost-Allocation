{
 "cells": [
  {
   "cell_type": "markdown",
   "metadata": {},
   "source": [
    "Simple outline for this notebook:   \n",
    "\n",
    "1. Introduce the logic of the current code.\n",
    "\n",
    "2. Show the whole code of the k-nearest p-median model.\n",
    "\n",
    "3. Use the example to test the model."
   ]
  },
  {
   "cell_type": "markdown",
   "metadata": {},
   "source": [
    "#### 1. The logic"
   ]
  },
  {
   "cell_type": "markdown",
   "metadata": {},
   "source": [
    "a. The logic of `k_nearest_loop()`.   "
   ]
  },
  {
   "cell_type": "markdown",
   "metadata": {},
   "source": [
    "It can find the optimal solution, when the coordinate information of clients and facilities and the intial k value are given."
   ]
  },
  {
   "cell_type": "markdown",
   "metadata": {},
   "source": [
    "![Flowchart](flowchart/k_nearest_loop()_coordinate.png)"
   ]
  },
  {
   "cell_type": "markdown",
   "metadata": {},
   "source": [
    "b. The content of `from_sparse_matrix()`"
   ]
  },
  {
   "cell_type": "markdown",
   "metadata": {},
   "source": [
    "1. Three types of decision variables:   \n",
    "    one for the pair between clients and facilities,     \n",
    "    one for the placeholder facilities,     \n",
    "    one for all the facilities.\n",
    "\n",
    "2. One objective function\n",
    "\n",
    "3. Three types of constraints:   \n",
    "    one is about assignment constraint (each client must be served by one facility);    \n",
    "    one is about the overall accommodation constraint (the whole facilities are able to serve all the demands);    \n",
    "    the last one is about the individual capacity constraint (each facility has a capacity)"
   ]
  },
  {
   "cell_type": "markdown",
   "metadata": {},
   "source": [
    "c. (don't need to do this part) to deal with the problem that `KDtree` using `Euclidean distance`"
   ]
  },
  {
   "cell_type": "markdown",
   "metadata": {},
   "source": [
    "1. The idea is from:   \n",
    "     https://stackoverflow.com/questions/43020919/scipy-how-to-convert-kd-tree-distance-from-query-to-kilometers-python-pandas   \n",
    "    https://github.com/qingkaikong/blog/tree/master/2017_33_kdtree_2_real_distance\n",
    "\n",
    "2. Before using KDtree, converting the latitude and longitude of the points to 3D cartesian coordinates. Then do the KD-tree query in this cartesian coordinates.\n",
    "\n",
    "3. The distance returned from KDtree query, is cartesian distance. We need to convert it to real distance in km. Then transfer the data to sparse matrix."
   ]
  },
  {
   "cell_type": "markdown",
   "metadata": {},
   "source": [
    "#### 2. The complete code (binary version + Euclidean distance version)"
   ]
  },
  {
   "cell_type": "code",
   "execution_count": 127,
   "metadata": {},
   "outputs": [],
   "source": [
    "import pandas as pd\n",
    "import numpy as np\n",
    "import pulp\n",
    "from scipy.sparse import csr_matrix\n",
    "from scipy.sparse import find\n",
    "from scipy.spatial import KDTree\n",
    "from pointpats.geometry import build_best_tree"
   ]
  },
  {
   "cell_type": "code",
   "execution_count": 113,
   "metadata": {},
   "outputs": [],
   "source": [
    "def create_sparse_matrix(clients, facilities, k_list, metric):\n",
    "    \"\"\"\n",
    "    create a sparse matrix reprensents the distance between clients and their k nearest facilities\n",
    "    \"\"\"\n",
    "    row_shape = len(clients)\n",
    "    column_shape = len(facilities)\n",
    "\n",
    "    # check the k value with the total number of facilities\n",
    "    for k in k_list:\n",
    "        if k > column_shape:\n",
    "            raise ValueError(f\"The value of k should be no more than the number of total facilities ({column_shape}).\")\n",
    "\n",
    "    # Initialize empty lists to store the data for the sparse matrix\n",
    "    data = []\n",
    "    row_index = []\n",
    "    col_index = []\n",
    "\n",
    "    # create the suitable Tree\n",
    "    tree = build_best_tree(facilities, metric)\n",
    "\n",
    "    for i, k in enumerate(k_list):\n",
    "        # Query the Tree to find the k nearest facilities for each client\n",
    "        distances, k_nearest_facilities_indices = tree.query([clients[i]], k=k)\n",
    "\n",
    "        # extract the contents of the inner array\n",
    "        distances = distances[0].tolist()\n",
    "        k_nearest_facilities_indices = k_nearest_facilities_indices[0].tolist()\n",
    "        \n",
    "        # Append the data for the sparse matrix\n",
    "        data.extend(distances)\n",
    "        row_index.extend([i] * k)\n",
    "        col_index.extend(k_nearest_facilities_indices)\n",
    "    # Create the sparse matrix using csr_matrix\n",
    "    sparse_matrix = csr_matrix((data, (row_index, col_index)), shape=(row_shape, column_shape))\n",
    "    return sparse_matrix\n",
    "\n",
    "def create_k_list(decision_g, k_list):\n",
    "    \"\"\"\n",
    "    increase the k value of client with the g_i > 0, create a new k list\n",
    "    \"\"\"\n",
    "    new_k_list = k_list.copy()\n",
    "    for i in range(len(decision_g)):\n",
    "        if decision_g[i].value() > 0:\n",
    "            new_k_list[i] = new_k_list[i] + 1\n",
    "    return new_k_list\n",
    "\n",
    "def from_sparse_matrix(sparse_distance_matrix, demand=None, capacity=None):\n",
    "    \"\"\"\n",
    "    create and solve a p-median problem of a given sparse distance matrix, and demand and capacity\n",
    "    \"\"\"\n",
    "    # get the indices for clients and facilities\n",
    "    n_cli = sparse_distance_matrix.shape[0]\n",
    "    r_cli = range(n_cli)\n",
    "    r_fac = range(sparse_distance_matrix.shape[1])\n",
    "\n",
    "    # get the demand\n",
    "    demand_sum = demand.sum()\n",
    "    demand = np.reshape(demand, (n_cli, 1))\n",
    "\n",
    "    # find the indices in this matrix\n",
    "    row_indices, col_indices, values = find(sparse_distance_matrix)\n",
    "\n",
    "    # set up the problem\n",
    "    problem = pulp.LpProblem(\"k-nearest-p-median\", pulp.LpMinimize)\n",
    "\n",
    "    # set the decision variable for the pair between client and k nearest facilities\n",
    "    decision = pulp.LpVariable.dicts(\"x\", [(i, j) for i, j in zip(row_indices, col_indices)], 0, 1, pulp.LpBinary)\n",
    "\n",
    "    # set the decision variable for placeholder facility\n",
    "    decision_g = pulp.LpVariable.dicts(\"g\", (i for i in r_cli), 0, 1, pulp.LpBinary)\n",
    "\n",
    "    # set the decision variable for all the facilities\n",
    "    decision_f = pulp.LpVariable.dicts(\"y\", (j for j in r_fac), 0, 1, pulp.LpBinary)\n",
    "\n",
    "    # set the objective\n",
    "    # to complete the objective, we need to get the maximum distance for each client first\n",
    "    max_distance = sparse_distance_matrix.max(axis=1).toarray().flatten()\n",
    "    objective = pulp.lpSum(\n",
    "        pulp.lpSum(\n",
    "            decision.get((i, j), 0) * sparse_distance_matrix[i, j] for j in r_fac\n",
    "        )\n",
    "        + (decision_g[i] * (max_distance[i] + 1))\n",
    "        for i in r_cli\n",
    "    )\n",
    "    problem += objective\n",
    "\n",
    "    # constraint 1. Each client is assigned to a facility\n",
    "    for i in r_cli:\n",
    "        problem += (\n",
    "            pulp.lpSum(decision.get((i, j), 0) for j in r_fac)\n",
    "            + decision_g[i] == 1\n",
    "        )\n",
    "\n",
    "    # constraint 2. The amount of capacity equals or exceeds the sum of all demands\n",
    "    problem += pulp.lpSum(decision_f[j] * capacity[j] for j in r_fac) >= demand_sum\n",
    "\n",
    "    # constraint 3. Demand value the k nearest facility can serve is no more than its capacity.\n",
    "    for j in col_indices:\n",
    "        problem += (\n",
    "            pulp.lpSum(demand[i] * decision.get((i, j), 0) for i in r_cli) <= decision_f[j] * capacity[j]\n",
    "        )\n",
    "\n",
    "    problem.solve(pulp.PULP_CBC_CMD(msg=False))\n",
    "    return problem, decision, decision_g\n",
    "    \n",
    "def k_nearest_loop(\n",
    "    k_list, client, facility, demand=None, capacity=None, metric = 'euclidean'\n",
    "    ):\n",
    "    \"\"\"\n",
    "    the iteration which can find the optimal solution of the given coordinate of clients and facilities and k value\n",
    "    \"\"\"\n",
    "    sum_gi = 1\n",
    "    while sum_gi > 0:\n",
    "        sparse_distance_matrix = create_sparse_matrix(client, facility, k_list, metric)\n",
    "        prob, decision, decision_g = from_sparse_matrix(\n",
    "            sparse_distance_matrix, demand=demand, capacity=capacity)\n",
    "        if prob.status != 1:\n",
    "            print(\"This problem doesn't have the optimal solution\")\n",
    "            break\n",
    "        sum_gi = sum(decision_g[i].value() for i in range(len(decision_g)) if decision_g[i].value() > 0)\n",
    "        if sum_gi > 0:\n",
    "            k_list = create_k_list(decision_g, k_list)\n",
    "    return prob, decision, decision_g, k_list"
   ]
  },
  {
   "cell_type": "markdown",
   "metadata": {},
   "source": [
    "#### 3. Test case"
   ]
  },
  {
   "cell_type": "markdown",
   "metadata": {},
   "source": [
    "##### a. simple case, set the intial k equal to 1, and through the loop, it needs to be increased to 2."
   ]
  },
  {
   "cell_type": "code",
   "execution_count": 93,
   "metadata": {},
   "outputs": [],
   "source": [
    "sample_client = np.array([[0.5, 1], [1.5, 1]])\n",
    "sample_facility = np.array([[1,1], [0, 2], [2, 0]])"
   ]
  },
  {
   "cell_type": "code",
   "execution_count": 100,
   "metadata": {},
   "outputs": [
    {
     "data": {
      "image/png": "[encoded data removed]",
      "text/plain": [
       "<Figure size 432x288 with 1 Axes>"
      ]
     },
     "metadata": {
      "needs_background": "light"
     },
     "output_type": "display_data"
    }
   ],
   "source": [
    "import matplotlib.pyplot as plt\n",
    "\n",
    "client_x, client_y = sample_client[:, 0], sample_client[:, 1]\n",
    "facility_x, facility_y = sample_facility[:, 0], sample_facility[:, 1]\n",
    "\n",
    "plt.plot(client_x, client_y, 'bo', label='Clients')  # 'bo' means blue color and circular marker for clients\n",
    "plt.plot(facility_x, facility_y, 'rx', label='Facilities')  # 'rx' means red color and 'x' marker for facilities\n",
    "\n",
    "plt.xlabel('X-axis')\n",
    "plt.ylabel('Y-axis')\n",
    "plt.title('Sample Client and Facility Points')\n",
    "plt.legend()\n",
    "\n",
    "plt.grid()\n",
    "plt.show()"
   ]
  },
  {
   "cell_type": "code",
   "execution_count": 94,
   "metadata": {},
   "outputs": [],
   "source": [
    "prob, decision, decision_g = k_nearest_loop(\n",
    "    [1, 1], sample_client, sample_facility, demand=np.array([1, 1]), capacity=np.array([1, 1, 1]))"
   ]
  },
  {
   "cell_type": "code",
   "execution_count": 95,
   "metadata": {},
   "outputs": [
    {
     "data": {
      "text/plain": [
       "1"
      ]
     },
     "execution_count": 95,
     "metadata": {},
     "output_type": "execute_result"
    }
   ],
   "source": [
    "prob.status"
   ]
  },
  {
   "cell_type": "code",
   "execution_count": 96,
   "metadata": {},
   "outputs": [
    {
     "name": "stdout",
     "output_type": "stream",
     "text": [
      "0 1\n",
      "1 0\n"
     ]
    }
   ],
   "source": [
    "for i in range(2):\n",
    "    for j in range(3):\n",
    "        if (i, j) in decision and decision[(i, j)].value() == 1:\n",
    "            print(i, j)"
   ]
  },
  {
   "cell_type": "markdown",
   "metadata": {},
   "source": [
    "##### b. more complicated case"
   ]
  },
  {
   "cell_type": "code",
   "execution_count": 104,
   "metadata": {},
   "outputs": [],
   "source": [
    "sample_client_b = np.array([[10.5, 1], [11.5, 1], [13.5, 1], [14.5, 1], [16.5, 1], [17.5, 1]])\n",
    "sample_facility_b = np.array([[11,1], [10, 2], [12, 0], [14,1], [13, 2], [15, 0], [17,1], [16, 2], [18, 0]])"
   ]
  },
  {
   "cell_type": "code",
   "execution_count": 105,
   "metadata": {},
   "outputs": [
    {
     "data": {
      "image/png": "[encoded data removed]",
      "text/plain": [
       "<Figure size 432x288 with 1 Axes>"
      ]
     },
     "metadata": {
      "needs_background": "light"
     },
     "output_type": "display_data"
    }
   ],
   "source": [
    "client_x, client_y = sample_client_b[:, 0], sample_client_b[:, 1]\n",
    "facility_x, facility_y = sample_facility_b[:, 0], sample_facility_b[:, 1]\n",
    "\n",
    "plt.plot(client_x, client_y, 'bo', label='Clients')  # 'bo' means blue color and circular marker for clients\n",
    "plt.plot(facility_x, facility_y, 'rx', label='Facilities')  # 'rx' means red color and 'x' marker for facilities\n",
    "\n",
    "plt.xlabel('X-axis')\n",
    "plt.ylabel('Y-axis')\n",
    "plt.title('Sample Client and Facility Points')\n",
    "plt.legend()\n",
    "\n",
    "plt.grid()\n",
    "plt.show()"
   ]
  },
  {
   "cell_type": "code",
   "execution_count": 108,
   "metadata": {},
   "outputs": [],
   "source": [
    "intial_k = [1, 1, 1, 1, 1, 1]\n",
    "demand_b = np.array([1, 1, 1, 1, 1, 1])\n",
    "capacity_b = np.array([1, 1, 1, 1, 1, 1, 1, 1, 1])"
   ]
  },
  {
   "cell_type": "code",
   "execution_count": 114,
   "metadata": {},
   "outputs": [],
   "source": [
    "prob, decision, decision_g, k_list = k_nearest_loop(\n",
    "    intial_k, sample_client_b, sample_facility_b, demand=demand_b, capacity=capacity_b)"
   ]
  },
  {
   "cell_type": "code",
   "execution_count": 115,
   "metadata": {},
   "outputs": [
    {
     "data": {
      "text/plain": [
       "1"
      ]
     },
     "execution_count": 115,
     "metadata": {},
     "output_type": "execute_result"
    }
   ],
   "source": [
    "prob.status"
   ]
  },
  {
   "cell_type": "code",
   "execution_count": 116,
   "metadata": {},
   "outputs": [
    {
     "name": "stdout",
     "output_type": "stream",
     "text": [
      "0 1\n",
      "1 0\n",
      "2 4\n",
      "3 3\n",
      "4 7\n",
      "5 6\n"
     ]
    }
   ],
   "source": [
    "for i in range(6):\n",
    "    for j in range(9):\n",
    "        if (i, j) in decision and decision[(i, j)].value() == 1:\n",
    "            print(i, j)"
   ]
  },
  {
   "cell_type": "code",
   "execution_count": 118,
   "metadata": {},
   "outputs": [
    {
     "data": {
      "text/plain": [
       "[2, 1, 2, 1, 2, 1]"
      ]
     },
     "execution_count": 118,
     "metadata": {},
     "output_type": "execute_result"
    }
   ],
   "source": [
    "k_list"
   ]
  },
  {
   "cell_type": "markdown",
   "metadata": {},
   "source": [
    "#### 4. error handling"
   ]
  },
  {
   "cell_type": "markdown",
   "metadata": {},
   "source": [
    "##### a. the k value should be no more than the total number of facilities"
   ]
  },
  {
   "cell_type": "code",
   "execution_count": 21,
   "metadata": {},
   "outputs": [
    {
     "ename": "ValueError",
     "evalue": "The value of k should be no more than the number of total facilities (3).",
     "output_type": "error",
     "traceback": [
      "\u001b[0;31m---------------------------------------------------------------------------\u001b[0m",
      "\u001b[0;31mValueError\u001b[0m                                Traceback (most recent call last)",
      "\u001b[0;32m<ipython-input-21-fcd365334e63>\u001b[0m in \u001b[0;36m<module>\u001b[0;34m\u001b[0m\n\u001b[0;32m----> 1\u001b[0;31m prob, decision, decision_g = k_nearest_loop(\n\u001b[0m\u001b[1;32m      2\u001b[0m     [4, 4], sample_client, sample_facility, demand=np.array([1, 1]), capacity=np.array([1, 1, 1]))\n",
      "\u001b[0;32m<ipython-input-20-8df26fb7b5ea>\u001b[0m in \u001b[0;36mk_nearest_loop\u001b[0;34m(k_list, client, facility, demand, capacity)\u001b[0m\n\u001b[1;32m    109\u001b[0m     \u001b[0msum_gi\u001b[0m \u001b[0;34m=\u001b[0m \u001b[0;36m1\u001b[0m\u001b[0;34m\u001b[0m\u001b[0;34m\u001b[0m\u001b[0m\n\u001b[1;32m    110\u001b[0m     \u001b[0;32mwhile\u001b[0m \u001b[0msum_gi\u001b[0m \u001b[0;34m>\u001b[0m \u001b[0;36m0\u001b[0m\u001b[0;34m:\u001b[0m\u001b[0;34m\u001b[0m\u001b[0;34m\u001b[0m\u001b[0m\n\u001b[0;32m--> 111\u001b[0;31m         \u001b[0msparse_distance_matrix\u001b[0m \u001b[0;34m=\u001b[0m \u001b[0mcreate_sparse_matrix\u001b[0m\u001b[0;34m(\u001b[0m\u001b[0mclient\u001b[0m\u001b[0;34m,\u001b[0m \u001b[0mfacility\u001b[0m\u001b[0;34m,\u001b[0m \u001b[0mk_list\u001b[0m\u001b[0;34m)\u001b[0m\u001b[0;34m\u001b[0m\u001b[0;34m\u001b[0m\u001b[0m\n\u001b[0m\u001b[1;32m    112\u001b[0m         prob, decision, decision_g = from_sparse_matrix(\n\u001b[1;32m    113\u001b[0m             sparse_distance_matrix, demand=demand, capacity=capacity)\n",
      "\u001b[0;32m<ipython-input-20-8df26fb7b5ea>\u001b[0m in \u001b[0;36mcreate_sparse_matrix\u001b[0;34m(clients, facilities, k_list)\u001b[0m\n\u001b[1;32m      9\u001b[0m     \u001b[0;32mfor\u001b[0m \u001b[0mk\u001b[0m \u001b[0;32min\u001b[0m \u001b[0mk_list\u001b[0m\u001b[0;34m:\u001b[0m\u001b[0;34m\u001b[0m\u001b[0;34m\u001b[0m\u001b[0m\n\u001b[1;32m     10\u001b[0m         \u001b[0;32mif\u001b[0m \u001b[0mk\u001b[0m \u001b[0;34m>\u001b[0m \u001b[0mcolumn_shape\u001b[0m\u001b[0;34m:\u001b[0m\u001b[0;34m\u001b[0m\u001b[0;34m\u001b[0m\u001b[0m\n\u001b[0;32m---> 11\u001b[0;31m             \u001b[0;32mraise\u001b[0m \u001b[0mValueError\u001b[0m\u001b[0;34m(\u001b[0m\u001b[0;34mf\"The value of k should be no more than the number of total facilities ({column_shape}).\"\u001b[0m\u001b[0;34m)\u001b[0m\u001b[0;34m\u001b[0m\u001b[0;34m\u001b[0m\u001b[0m\n\u001b[0m\u001b[1;32m     12\u001b[0m \u001b[0;34m\u001b[0m\u001b[0m\n\u001b[1;32m     13\u001b[0m     \u001b[0;31m# Initialize empty lists to store the data for the sparse matrix\u001b[0m\u001b[0;34m\u001b[0m\u001b[0;34m\u001b[0m\u001b[0;34m\u001b[0m\u001b[0m\n",
      "\u001b[0;31mValueError\u001b[0m: The value of k should be no more than the number of total facilities (3)."
     ]
    }
   ],
   "source": [
    "prob, decision, decision_g = k_nearest_loop(\n",
    "    [4, 4], sample_client, sample_facility, demand=np.array([1, 1]), capacity=np.array([1, 1, 1]))"
   ]
  }
 ],
 "metadata": {
  "interpreter": {
   "hash": "40d3a090f54c6569ab1632332b64b2c03c39dcf918b08424e98f38b5ae0af88f"
  },
  "kernelspec": {
   "display_name": "Python 3.8.3 ('base')",
   "language": "python",
   "name": "python3"
  },
  "language_info": {
   "codemirror_mode": {
    "name": "ipython",
    "version": 3
   },
   "file_extension": ".py",
   "mimetype": "text/x-python",
   "name": "python",
   "nbconvert_exporter": "python",
   "pygments_lexer": "ipython3",
   "version": "3.8.3"
  },
  "orig_nbformat": 4
 },
 "nbformat": 4,
 "nbformat_minor": 2
}
