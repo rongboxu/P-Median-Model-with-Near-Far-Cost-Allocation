{
 "cells": [
  {
   "cell_type": "markdown",
   "metadata": {},
   "source": [
    "### Class K_Nearest_PMedian"
   ]
  },
  {
   "cell_type": "markdown",
   "metadata": {},
   "source": [
    "| Class: K_Nearest_PMedian                |\n",
    "|-----------------------------------------|\n",
    "| - aij: np.array                         |\n",
    "| - ai_sum: Union[int, float]             |\n",
    "| - name: str                             |\n",
    "| - problem: pulp.LpProblem               |\n",
    "|-----------------------------------------|\n",
    "| + __init__(name, problem, aij, ai_sum)          |\n",
    "| + __add_obj(max_distance, range_clients, range_facility) |\n",
    "| + _create_sparse_matrix(clients, facilities, k_list, metric) |\n",
    "| + _create_k_list(k_list)                 |\n",
    "| + _from_sparse_matrix(sparse_distance_matrix, weights, facility_capacities, name) |\n",
    "| + from_geodataframe(k_list, gdf_demand, gdf_fac, demand_col, facility_col, weights_cols, facility_capacity_col, distance_metric, name) |\n",
    "| + from_cost_matrix(cls, *args, **kwargs) |\n",
    "| + facility_client_array()                |\n",
    "| + solve(solver, results)                |"
   ]
  },
  {
   "cell_type": "code",
   "execution_count": 1,
   "metadata": {},
   "outputs": [
    {
     "name": "stderr",
     "output_type": "stream",
     "text": [
      "/opt/anaconda3/lib/python3.8/site-packages/geopandas/_compat.py:124: UserWarning: The Shapely GEOS version (3.8.0-CAPI-1.13.1) is incompatible with the GEOS version PyGEOS was compiled with (3.10.1-CAPI-1.16.0). Conversions between both will be slow.\n",
      "  warnings.warn(\n",
      "<ipython-input-1-34568d5adc21>:6: DeprecationWarning: Shapely 2.0 is installed, but because PyGEOS is also installed, GeoPandas still uses PyGEOS by default. However, starting with version 0.14, the default will switch to Shapely. To force to use Shapely 2.0 now, you can either uninstall PyGEOS or set the environment variable USE_PYGEOS=0. You can do this before starting the Python process, or in your code before importing geopandas:\n",
      "\n",
      "import os\n",
      "os.environ['USE_PYGEOS'] = '0'\n",
      "import geopandas\n",
      "\n",
      "In the next release, GeoPandas will switch to using Shapely by default, even if PyGEOS is installed. If you only have PyGEOS installed to get speed-ups, this switch should be smooth. However, if you are using PyGEOS directly (calling PyGEOS functions on geometries from GeoPandas), this will then stop working and you are encouraged to migrate from PyGEOS to Shapely 2.0 (https://shapely.readthedocs.io/en/latest/migration_pygeos.html).\n",
      "  from geopandas import GeoDataFrame\n"
     ]
    }
   ],
   "source": [
    "import warnings\n",
    "from typing import Union\n",
    "\n",
    "import numpy as np\n",
    "import pulp\n",
    "from geopandas import GeoDataFrame\n",
    "from scipy.spatial.distance import cdist\n",
    "\n",
    "from spopt.locate.p_median import PMedian\n",
    "from spopt.locate.base import (\n",
    "    BaseOutputMixin,\n",
    "    FacilityModelBuilder,\n",
    "    LocateSolver,\n",
    "    MeanDistanceMixin,\n",
    "    SpecificationError,\n",
    ")"
   ]
  },
  {
   "cell_type": "code",
   "execution_count": 1,
   "metadata": {},
   "outputs": [
    {
     "name": "stderr",
     "output_type": "stream",
     "text": [
      "/opt/anaconda3/lib/python3.8/site-packages/geopandas/_compat.py:124: UserWarning: The Shapely GEOS version (3.8.0-CAPI-1.13.1) is incompatible with the GEOS version PyGEOS was compiled with (3.10.1-CAPI-1.16.0). Conversions between both will be slow.\n",
      "  warnings.warn(\n"
     ]
    }
   ],
   "source": [
    "from scipy.sparse import find\n",
    "from pointpats.geometry import build_best_tree\n",
    "from scipy.sparse import csr_matrix"
   ]
  },
  {
   "cell_type": "code",
   "execution_count": 3,
   "metadata": {},
   "outputs": [],
   "source": [
    "class KNearestPMedian(PMedian):\n",
    "    r\"\"\"\n",
    "    Implement the P-Median Model with Near-Far Cost Allocation and solve it. The model is adapted from :cite:`richard_2018`, \n",
    "    can be formulated as:\n",
    "\n",
    "\n",
    "    .. math::\n",
    "\n",
    "       \\begin{array}{lllll}\n",
    "       \\displaystyle \\textbf{Minimize}      & \\displaystyle \\sum_{i \\in I}\\sum_{k \\in k_{i}}{a_i d_{ik} X_{ik}} + \\sum_{i \\in I}{g_i (d_{i{k_i}} + 1)}  &&                                          & (1)                                                                               \\\\\n",
    "       \\displaystyle \\textbf{Subject To}    & \\\\sum_{k \\in k_{i}}{X_{ik} + g_i = 1}                                                                     && \\forall i \\in I                          & (2)                                                                               \\\\\n",
    "                                            & \\sum_{j \\in J}{Y_j} = p                                                                                   &&                                          & (3)                                                                               \\\\\n",
    "                                            & \\sum_{i \\in I}{a_i X_{ik}} \\leq {Y_{k} c_{k}}                                                             &&  \\forall k \\in k_{i}                     & (4)                                                                               \\\\  \n",
    "                                            & X_{ij} \\leq Y_{j}                                                                                         && \\forall i \\in I \\quad \\forall j \\in J    & (5)                                                                               \\\\\n",
    "                                            & X_{ij} \\in \\{0, 1\\}                                                                                       && \\forall i \\in I \\quad \\forall j \\in J    & (6)                                                                               \\\\\n",
    "                                            & Y_j \\in \\{0, 1\\}                                                                                          && \\forall j \\in J                          & (7)                                                                               \\\\\n",
    "                                            &                                                                                                           &&                                          &                                                                                   \\\\\n",
    "       \\displaystyle \\textbf{Where}         && i                                                                                                        & =                                         & \\textrm{index of demand points/areas/objects in set } I                           \\\\\n",
    "                                            && j                                                                                                        & =                                         & \\textrm{index of potential facility sites in set } J                              \\\\\n",
    "                                            && p                                                                                                        & =                                         & \\textrm{the number of facilities to be sited}                                     \\\\\n",
    "                                            && a_i                                                                                                      & =                                         & \\textrm{service load or population demand at client location } i                  \\\\\n",
    "                                            && k_{i}                                                                                                    & =                                         & \\textrm{the } k {nearest facilities of client location } i                        \\\\\n",
    "                                            && c_{j}                                                                                                    & =                                         & \\textrm{the capacity of facility} j                                               \\\\   \n",
    "                                            && d_{ij}                                                                                                   & =                                         & \\textrm{shortest distance or travel time between locations } i \\textrm{ and } j   \\\\\n",
    "                                            && X_{ij}                                                                                                   & =                                         & \\begin{cases}\n",
    "                                                                                                                                                                                                       1, \\textrm{if client location } i \\textrm{ is served by facility } j             \\\\\n",
    "                                                                                                                                                                                                       0, \\textrm{otherwise}                                                            \\\\\n",
    "                                                                                                                                                                                                      \\end{cases}                                                                       \\\\\n",
    "                                            && Y_j                                                                                                      & =                                         & \\begin{cases}\n",
    "                                                                                                                                                                                                       1, \\textrm{if a facility is sited at location } j                                \\\\\n",
    "                                                                                                                                                                                                       0, \\textrm{otherwise}                                                            \\\\\n",
    "                                                                                                                                                                                                      \\end{cases}                                                                       \\\\ \n",
    "                                            && g_i                                                                                                      & =                                         & \\begin{cases}\n",
    "                                                                                                                                                                                                       1, \\textrm{if the client } i {need to be served by non-k-nearest facilities}     \\\\\n",
    "                                                                                                                                                                                                       0, \\textrm{otherwise}                                                            \\\\\n",
    "                                                                                                                                                                                                      \\end{cases}                                                                       \\\\\n",
    "       \\end{array}\n",
    "\n",
    "    Parameters\n",
    "    ----------\n",
    "\n",
    "    name : str\n",
    "        The problem name.\n",
    "    ai_sum : Union[int, float]\n",
    "        The sum of weights representing the service loads of the clients.\n",
    "    clients : np.array\n",
    "        An array of coordinates of clients.\n",
    "    facilities : np.array\n",
    "        An array of coordinates of facilities.\n",
    "    weights : np.array\n",
    "        An array of weights representing the service loads of the clients.\n",
    "    p_facilities: int\n",
    "        The number of facilities to be located.\n",
    "    capacities : np.array or None\n",
    "        An array of facility capacities. None if capacity constraints are not considered.\n",
    "    k_list : np.array\n",
    "        An array of k values representing the number of nearest facilities for each client.\n",
    "    distance_metric : str\n",
    "        The distance metric used for computing distances between clients and facilities.\n",
    "    \n",
    "    Attributes\n",
    "    ----------\n",
    "    \n",
    "    sparse_matrix : Compressed Sparse Row matrix\n",
    "        A cost matrix in the form of a compressed sparse row matrix between origins and destinations.\n",
    "    aij : Compressed Sparse Row matrix\n",
    "        A weighted cost matrix in the form of a compressed sparse row matrix between origins and destinations.\n",
    "    problem : pulp.LpProblem\n",
    "        A ``pulp`` instance of an optimization model that contains\n",
    "        constraints, variables, and an objective function.\n",
    "    fac2cli : numpy.array\n",
    "        A 2D array storing facility to client relationships where each\n",
    "        row represents a facility and contains an array of client indices\n",
    "        with which it is associated. An empty client array indicates\n",
    "        the facility is associated with no clients.\n",
    "    cli2fac : numpy.array\n",
    "        The inverse of ``fac2cli`` where client to facility relationships\n",
    "        are shown.\n",
    "    \n",
    "\n",
    "    \"\"\"  # noqa\n",
    "\n",
    "    def __init__(\n",
    "        self,\n",
    "        weights_sum: Union[int, float],\n",
    "        clients: np.array, \n",
    "        facilities: np.array,\n",
    "        weights: np.array,\n",
    "        k_list: np.array,\n",
    "        p_facilities: int,\n",
    "        capacities: np.array = None,\n",
    "        distance_metric: str = \"euclidean\",\n",
    "        name='k-nearest p median'\n",
    "    ):\n",
    "        self.ai_sum = weights_sum\n",
    "        self.clients = clients\n",
    "        self.facilities = facilities\n",
    "        self.weights = weights\n",
    "        self.k_list = k_list\n",
    "        self.p_facilities = p_facilities\n",
    "        self.capacities = capacities\n",
    "        self.distance_metric = distance_metric\n",
    "        self.name = name\n",
    "\n",
    "    def __add_obj(\n",
    "        self, max_distance: np.array, range_clients: range, range_facility: range\n",
    "    ) -> None:\n",
    "        \"\"\"\n",
    "        Add the objective function to the model.\n",
    "        \n",
    "        Parameters\n",
    "        ----------\n",
    "\n",
    "        max_distance : np.array\n",
    "            An array of distances between each client and their kth nearest facility. For example, if k = 2, this array\n",
    "            will only store the distance between each client and their 2nd nearest facility.\n",
    "        range_clients : range\n",
    "            The range of demand points.\n",
    "        range_facility : range\n",
    "            The range of facility point.\n",
    "\n",
    "        Returns\n",
    "        -------\n",
    "\n",
    "        None\n",
    "\n",
    "        \"\"\"\n",
    "        cli_assgn_vars = getattr(self, \"cli_assgn_vars\")\n",
    "        placeholder_vars = getattr(self, \"placeholder_vars\")\n",
    "\n",
    "        self.problem += (\n",
    "            pulp.lpSum(\n",
    "                pulp.lpSum(\n",
    "                    self.aij[i, j] * cli_assgn_vars.get((i, j), 0)\n",
    "                    for j in range_facility\n",
    "                )\n",
    "                + (placeholder_vars[i] * (max_distance[i] + 1))\n",
    "                for i in range_clients\n",
    "            ),\n",
    "            \"objective function\",\n",
    "        )\n",
    "\n",
    "    @classmethod\n",
    "    def from_cost_matrix(cls, *args, **kwargs):\n",
    "        \"\"\"\n",
    "        Warning: This method is not supported in the KNearestPMedian subclass.\n",
    "        \"\"\"\n",
    "        raise NotImplementedError(\n",
    "            \"from_cost_matrix method is not supported in KNearestPMedian class.\"\n",
    "        )\n",
    "\n",
    "    def _create_sparse_matrix(self) -> None:\n",
    "        \"\"\"\n",
    "        Create a sparse matrix representing the distance between clients and their k nearest facilities.\n",
    "\n",
    "        This method uses a suitable tree data structure (built with the `build_best_tree` function)\n",
    "        to efficiently find the k nearest facilities for each client based on the specified distance metric.\n",
    "        The resulting distances are stored in a sparse matrix format to conserve memory for large datasets.\n",
    "\n",
    "        Returns\n",
    "        -------\n",
    "\n",
    "        None\n",
    "        \"\"\"\n",
    "\n",
    "        row_shape = len(self.clients)\n",
    "        column_shape = len(self.facilities)\n",
    "\n",
    "        # check the k value with the total number of facilities\n",
    "        for k in self.k_list:\n",
    "            if k > column_shape:\n",
    "                raise ValueError(\n",
    "                    f\"The value of k should be no more than the number of total facilities ({column_shape}).\"\n",
    "                )\n",
    "\n",
    "        # Initialize empty lists to store the data for the sparse matrix\n",
    "        data = []\n",
    "        row_index = []\n",
    "        col_index = []\n",
    "\n",
    "        # create the suitable Tree\n",
    "        tree = build_best_tree(self.facilities, self.distance_metric)\n",
    "\n",
    "        for i, k in enumerate(self.k_list):\n",
    "            # Query the Tree to find the k nearest facilities for each client\n",
    "            distances, k_nearest_facilities_indices = tree.query([self.clients[i]], k=k)\n",
    "\n",
    "            # extract the contents of the inner array\n",
    "            distances = distances[0].tolist()\n",
    "            k_nearest_facilities_indices = k_nearest_facilities_indices[0].tolist()\n",
    "\n",
    "            # Append the data for the sparse matrix\n",
    "            data.extend(distances)\n",
    "            row_index.extend([i] * k)\n",
    "            col_index.extend(k_nearest_facilities_indices)\n",
    "        # Create the sparse matrix using csr_matrix\n",
    "        self.sparse_matrix = csr_matrix(\n",
    "            (data, (row_index, col_index)), shape=(row_shape, column_shape)\n",
    "        )\n",
    "\n",
    "    def _create_k_list(self) -> None:\n",
    "        \"\"\"\n",
    "        Increase the k value of clients with any g_i > 0 and create a new k list.\n",
    "        This method is used to adjust the k values for clients based on their placeholder variable g_i.\n",
    "        For clients with g_i greater than 0, the corresponding k value is increased by 1 in the new k list.\n",
    "\n",
    "        Returns\n",
    "        -------\n",
    "\n",
    "        None\n",
    "        \"\"\"\n",
    "        new_k_list = self.k_list.copy()\n",
    "        placeholder_vars = getattr(self, \"placeholder_vars\")\n",
    "        for i in range(len(placeholder_vars)):\n",
    "            if placeholder_vars[i].value() > 0:\n",
    "                new_k_list[i] = new_k_list[i] + 1\n",
    "        self.k_list = new_k_list\n",
    "\n",
    "    def _from_sparse_matrix(self) -> None:\n",
    "        \"\"\"\n",
    "        Create the k nearest p-median problem from the sparse distance matrix.\n",
    "\n",
    "        Returns\n",
    "        -------\n",
    "\n",
    "        None\n",
    "        \"\"\"\n",
    "        n_cli = self.sparse_matrix.shape[0]\n",
    "        r_cli = range(n_cli)\n",
    "        r_fac = range(self.sparse_matrix.shape[1])\n",
    "\n",
    "        self.weights = np.reshape(self.weights, (n_cli, 1))\n",
    "        self.aij = self.sparse_matrix.multiply(self.weights).tocsr()\n",
    "\n",
    "        # create the model/problem\n",
    "        self.problem = pulp.LpProblem(self.name, pulp.LpMinimize)\n",
    "\n",
    "        # add all the 1)decision variable, 2)objective function, and 3)constraints\n",
    "\n",
    "        # Facility integer decision variable\n",
    "        FacilityModelBuilder.add_facility_integer_variable(\n",
    "            self, r_fac, \"y[{i}]\"\n",
    "        )\n",
    "        fac_vars = getattr(self, \"fac_vars\")\n",
    "        # Placeholder decision variable\n",
    "        placeholder_vars = pulp.LpVariable.dicts(\n",
    "            \"g\", (i for i in r_cli), 0, 1, pulp.LpBinary\n",
    "        )\n",
    "        setattr(self, \"placeholder_vars\", placeholder_vars)\n",
    "\n",
    "        # Client assignment integer decision variables\n",
    "        row_indices, col_indices, values = find(self.aij)\n",
    "        cli_assgn_vars = pulp.LpVariable.dicts(\n",
    "            \"z\", [(i, j) for i, j in zip(row_indices, col_indices)], 0, 1, pulp.LpBinary\n",
    "        )\n",
    "        setattr(self, \"cli_assgn_vars\", cli_assgn_vars)\n",
    "\n",
    "        # Add the objective function\n",
    "        max_distance = self.aij.max(axis=1).toarray().flatten()\n",
    "        self.__add_obj(max_distance, r_cli, r_fac)\n",
    "\n",
    "        # Create the capacity constraints\n",
    "        if self.capacities is not None:\n",
    "            sorted_capacities = np.sort(self.capacities)\n",
    "            highest_possible_capacity = sorted_capacities[-self.p_facilities:].sum()\n",
    "            if highest_possible_capacity < self.ai_sum:\n",
    "                raise SpecificationError(\n",
    "                    \"Problem is infeasible. The highest possible capacity \"\n",
    "                    f\"{highest_possible_capacity}, coming from the {self.p_facilities} \"\n",
    "                    \"sites with the highest capacity, is smaller than \"\n",
    "                    f\"the total demand {self.ai_sum}.\"\n",
    "                )\n",
    "            for j in col_indices:\n",
    "                self.problem += (\n",
    "                    pulp.lpSum(\n",
    "                        self.weights[i] * cli_assgn_vars.get((i, j), 0) for i in r_cli\n",
    "                    )\n",
    "                    <= fac_vars[j] * self.capacities[j]\n",
    "                )\n",
    "\n",
    "        # Create assignment constraints.\n",
    "        for i in r_cli:\n",
    "            self.problem += (\n",
    "                pulp.lpSum(cli_assgn_vars.get((i, j), 0) for j in set(col_indices))\n",
    "                + placeholder_vars[i]\n",
    "                == 1\n",
    "            )\n",
    "        # Create the facility constraint.\n",
    "        FacilityModelBuilder.add_facility_constraint(self, self.p_facilities)\n",
    "\n",
    "\n",
    "    @classmethod\n",
    "    def from_geodataframe(\n",
    "        cls,\n",
    "        k_list: np.array,\n",
    "        gdf_demand: GeoDataFrame,\n",
    "        gdf_fac: GeoDataFrame,\n",
    "        demand_col: str,\n",
    "        facility_col: str,\n",
    "        weights_cols: str,\n",
    "        p_facilities: int,\n",
    "        facility_capacity_col: str = None,\n",
    "        distance_metric: str = \"euclidean\",\n",
    "        name: str = \"k-nearest-p-median\",\n",
    "    ):\n",
    "        \"\"\"\n",
    "        Create the object of KNearestPMedian class using input data.\n",
    "\n",
    "        Parameters\n",
    "        ----------\n",
    "        k_list : np.array\n",
    "            An array of integers representing the list of k values for each client.\n",
    "        gdf_demand : GeoDataFrame\n",
    "            A GeoDataFrame containing demand points (clients) with their associated attributes.\n",
    "        gdf_fac : GeoDataFrame\n",
    "            A GeoDataFrame containing facility points with their associated attributes.\n",
    "        demand_col : str\n",
    "            The column name in gdf_demand representing the coordinate information of each client.\n",
    "        facility_col : str\n",
    "            The column name in gdf_fac representing the coordinate information of each facility.\n",
    "        weights_cols : str\n",
    "            The column name in gdf_demand representing the weights or service load for each client.\n",
    "        p_facilities: int\n",
    "           The number of facilities to be located.\n",
    "        facility_capacity_col : str, optional\n",
    "            The column name in gdf_fac representing the capacity of each facility, by default None.\n",
    "        distance_metric : str, optional\n",
    "            The distance metric to be used in calculating distances between clients and facilities,\n",
    "            by default \"euclidean\".\n",
    "        name : str, optional\n",
    "            The name of the problem, by default \"k-nearest-p-median\".\n",
    "\n",
    "        Returns\n",
    "        -------\n",
    "        \n",
    "        spopt.locate.p_median.KNearestPMedian\n",
    "\n",
    "        Exceptions\n",
    "        --------\n",
    "        - The GeoDataFrames must have a valid CRS to perform distance calculations accurately. And the CRS of gdf_demand\n",
    "            and gdf_fac must be the same one.\n",
    "\n",
    "        Examples\n",
    "        --------\n",
    "        >>> from spopt.locate import KNearestPMedian\n",
    "        >>> import geopandas\n",
    "\n",
    "        Create the input data and attributes.\n",
    "\n",
    "        >>> k_list = np.array([1, 1])\n",
    "        >>> demand_data = {'ID': [1, 2], 'geometry': [Point(0.5, 1), Point(1.5, 1)],'demand': [1, 1]}\n",
    "        >>> facility_data = {'ID': [101, 102], 'geometry': [Point(1,1), Point(0, 2), Point(2, 0)],'capacity': [1, 1, 1]}\n",
    "        >>> gdf_demand = geopandas.GeoDataFrame(demand_data, crs='EPSG:4326')\n",
    "        >>> gdf_fac = geopandas.GeoDataFrame(facility_data, crs='EPSG:4326')\n",
    "\n",
    "        Create and solve a ``KNearestPMedian`` instance from the geodataframe.\n",
    "        \n",
    "        >>> k_nearest_pmedian = KNearestPMedian.from_geodataframe(k_list, gdf_demand, gdf_fac,\n",
    "        ...                                                         'geometry','geometry',\n",
    "        ...                                                         demand_col='ID',\n",
    "        ...                                                         facility_col='ID',\n",
    "        ...                                                         weights_cols='demand',\n",
    "        ...                                                         2,\n",
    "        ...                                                         facility_capacity_col='capacity')\n",
    "        >>> k_nearest_pmedian = k_nearest_pmedian.solve(pulp.PULP_CBC_CMD(msg=False))\n",
    "        \n",
    "        Get the facility-client associations.\n",
    "        \n",
    "        >>> for fac, cli in enumerate(k_nearest_pmedian.fac2cli):\n",
    "        ...     print(f\"facility {fac} serving {len(cli)} clients\")\n",
    "        facility 0 serving 1 clients\n",
    "        facility 1 serving 1 clients\n",
    "        facility 2 serving 0 clients\n",
    "\n",
    "        Get the total and average weighted travel cost.\n",
    "\n",
    "        >>> round(k_nearest_pmedian.problem.objective.value(), 3)\n",
    "        1.618\n",
    "        >>> round(k_nearest_pmedian.mean_dist, 3)\n",
    "        0.809\n",
    "\n",
    "        Get the k list for the last iteration.\n",
    "        >>> print(k_nearest_pmedian.k_list)\n",
    "        [2, 1]\n",
    "\n",
    "        \"\"\"\n",
    "\n",
    "        # check the crs of two geodataframes\n",
    "        if gdf_demand.crs is None:\n",
    "            raise ValueError(\"GeoDataFrame gdf_demand does not have a valid CRS.\")\n",
    "        if gdf_fac.crs is None:\n",
    "            raise ValueError(\"GeoDataFrame gdf_facility does not have a valid CRS.\")\n",
    "        if gdf_demand.crs != gdf_fac.crs:\n",
    "            raise ValueError(\n",
    "                \"Geodataframes crs are different: \"\n",
    "                f\"gdf_demand-{gdf_demand.crs}, gdf_fac-{gdf_fac.crs}\"\n",
    "            )\n",
    "\n",
    "        # create the array of coordinate of clients and facilities\n",
    "        dem = gdf_demand[demand_col]\n",
    "        fac = gdf_fac[facility_col]\n",
    "        dem_data = np.array([dem.x.to_numpy(), dem.y.to_numpy()]).T\n",
    "        fac_data = np.array([fac.x.to_numpy(), fac.y.to_numpy()]).T\n",
    "\n",
    "        # set the demand and capacity\n",
    "        service_load = gdf_demand[weights_cols].to_numpy()\n",
    "        weights_sum = service_load.sum()\n",
    "        facility_capacities = None\n",
    "        if facility_capacity_col is not None:\n",
    "            facility_capacities = gdf_fac[facility_capacity_col].to_numpy()\n",
    "\n",
    "        return KNearestPMedian(\n",
    "            weights_sum, \n",
    "            dem_data, \n",
    "            fac_data, \n",
    "            service_load,\n",
    "            k_list,\n",
    "            p_facilities,\n",
    "            facility_capacities,\n",
    "            distance_metric,\n",
    "            name)\n",
    "        \n",
    "    def facility_client_array(self) -> None:\n",
    "        \"\"\"\n",
    "\n",
    "        Create a 2D array storing **facility to client relationships** where each\n",
    "        row represents a facility and contains an array of client indices\n",
    "        with which it is associated. An empty client array indicates\n",
    "        the facility is associated with no clients.\n",
    "\n",
    "        Returns\n",
    "        -------\n",
    "\n",
    "        None\n",
    "        \"\"\"\n",
    "        fac_vars = getattr(self, \"fac_vars\")\n",
    "        cli_vars = getattr(self, \"cli_assgn_vars\")\n",
    "        len_fac_vars = len(fac_vars)\n",
    "\n",
    "        self.fac2cli = []\n",
    "\n",
    "        for j in range(len_fac_vars):\n",
    "            array_cli = []\n",
    "            if fac_vars[j].value() > 0:\n",
    "                for i in range(len(cli_vars)):\n",
    "                    if (i, j) in cli_vars and cli_vars[i, j].value() > 0:\n",
    "                        array_cli.append(i)\n",
    "\n",
    "            self.fac2cli.append(array_cli)\n",
    "\n",
    "    def solve(self, solver: pulp.LpSolver, results: bool = True):\n",
    "        \"\"\"\n",
    "\n",
    "        Solve the k nearest p-median model.\n",
    "\n",
    "        This method iteratively solves the KNearestPMedian model using a specified solver\n",
    "        until no more clients need to be assigned to placeholder facilities. The k values for clients\n",
    "        are increased dynamically based on the presence of clients not assigned to k nearest facilities.\n",
    "    \n",
    "        Parameters\n",
    "        ----------\n",
    "        solver : pulp.LpSolver\n",
    "            The solver to be used for solving the optimization model.\n",
    "        results : bool (default True)\n",
    "            If ``True`` it will create metainfo (which facilities cover\n",
    "            which demand) and vice-versa, and the uncovered demand.\n",
    "\n",
    "        Returns\n",
    "        -------\n",
    "        \n",
    "        spopt.locate.p_median.KNearestPMedian\n",
    "\n",
    "        \"\"\"\n",
    "\n",
    "        # initialize sum_gi\n",
    "        sum_gi = 1\n",
    "\n",
    "        # start the loop\n",
    "        while sum_gi > 0:\n",
    "            self._create_sparse_matrix()\n",
    "            self._from_sparse_matrix()\n",
    "            self.problem.solve(solver)\n",
    "            self.check_status()\n",
    "\n",
    "            # check the result\n",
    "            placeholder_vars = getattr(self, \"placeholder_vars\")\n",
    "            sum_gi = sum(\n",
    "                placeholder_vars[i].value()\n",
    "                for i in range(len(placeholder_vars))\n",
    "                if placeholder_vars[i].value() > 0\n",
    "            )\n",
    "            if sum_gi > 0:\n",
    "                self._create_k_list()\n",
    "\n",
    "        if results:\n",
    "            self.facility_client_array()\n",
    "            self.client_facility_array()\n",
    "            self.get_mean_distance()\n",
    "\n",
    "        return self\n"
   ]
  },
  {
   "cell_type": "markdown",
   "metadata": {},
   "source": [
    "#### test"
   ]
  },
  {
   "cell_type": "markdown",
   "metadata": {},
   "source": [
    "##### simple one"
   ]
  },
  {
   "cell_type": "code",
   "execution_count": 4,
   "metadata": {},
   "outputs": [],
   "source": [
    "from shapely.geometry import Point\n",
    "import geopandas as gpd\n",
    "\n",
    "# Sample demand points data\n",
    "demand_data = {\n",
    "    \"DemandID\": [1, 2],\n",
    "    \"geometry\": [Point(0.5, 1), Point(1.5, 1)],\n",
    "    \"demand\": [1, 1],\n",
    "}\n",
    "dem = gpd.GeoDataFrame(demand_data, crs=\"EPSG:4326\")\n",
    "\n",
    "# Sample facility points data\n",
    "facility_data = {\n",
    "    \"FacilityID\": [101, 102, 103],\n",
    "    \"geometry\": [Point(1, 1), Point(0, 2), Point(2, 0)],\n",
    "    \"capacity\": [1, 1, 1],\n",
    "}\n",
    "fac = gpd.GeoDataFrame(facility_data, crs=\"EPSG:4326\")\n",
    "intial_k = [1, 1]"
   ]
  },
  {
   "cell_type": "code",
   "execution_count": 5,
   "metadata": {},
   "outputs": [],
   "source": [
    "prob = KNearestPMedian.from_geodataframe(\n",
    "    intial_k,\n",
    "    dem,\n",
    "    fac,\n",
    "    \"geometry\",\n",
    "    \"geometry\",\n",
    "    \"demand\",\n",
    "    3,\n",
    "    facility_capacity_col=\"capacity\",\n",
    "    distance_metric=\"euclidean\",\n",
    ")"
   ]
  },
  {
   "cell_type": "code",
   "execution_count": 6,
   "metadata": {},
   "outputs": [],
   "source": [
    "prob = prob.solve(pulp.PULP_CBC_CMD(msg=False))"
   ]
  },
  {
   "cell_type": "code",
   "execution_count": 7,
   "metadata": {},
   "outputs": [
    {
     "name": "stdout",
     "output_type": "stream",
     "text": [
      "0 1\n",
      "1 0\n"
     ]
    }
   ],
   "source": [
    "for i in range(2):\n",
    "    for j in range(3):\n",
    "        if (i, j) in prob.cli_assgn_vars and prob.cli_assgn_vars[(i, j)].value() == 1:\n",
    "            print(i, j)"
   ]
  },
  {
   "cell_type": "code",
   "execution_count": 8,
   "metadata": {},
   "outputs": [
    {
     "name": "stdout",
     "output_type": "stream",
     "text": [
      "facility 0 serving 1 clients\n",
      "facility 1 serving 1 clients\n",
      "facility 2 serving 0 clients\n"
     ]
    }
   ],
   "source": [
    "for fac, cli in enumerate(prob.fac2cli):\n",
    "    print(f\"facility {fac} serving {len(cli)} clients\")"
   ]
  },
  {
   "cell_type": "code",
   "execution_count": 9,
   "metadata": {},
   "outputs": [
    {
     "data": {
      "text/plain": [
       "1.618"
      ]
     },
     "execution_count": 9,
     "metadata": {},
     "output_type": "execute_result"
    }
   ],
   "source": [
    "round(prob.problem.objective.value(), 3)"
   ]
  },
  {
   "cell_type": "code",
   "execution_count": 10,
   "metadata": {},
   "outputs": [
    {
     "data": {
      "text/plain": [
       "0.809"
      ]
     },
     "execution_count": 10,
     "metadata": {},
     "output_type": "execute_result"
    }
   ],
   "source": [
    "round(prob.mean_dist, 3)"
   ]
  },
  {
   "cell_type": "code",
   "execution_count": 11,
   "metadata": {},
   "outputs": [
    {
     "data": {
      "text/plain": [
       "[2, 1]"
      ]
     },
     "execution_count": 11,
     "metadata": {},
     "output_type": "execute_result"
    }
   ],
   "source": [
    "last_k_list = prob.k_list\n",
    "last_k_list"
   ]
  },
  {
   "cell_type": "markdown",
   "metadata": {},
   "source": [
    "##### complicated one"
   ]
  },
  {
   "cell_type": "code",
   "execution_count": 12,
   "metadata": {},
   "outputs": [],
   "source": [
    "# Sample demand points data\n",
    "sample_client_b = np.array(\n",
    "    [[10.5, 1], [11.5, 1], [13.5, 1], [14.5, 1], [16.5, 1], [17.5, 1]]\n",
    ")\n",
    "demand_data_b = {\n",
    "    \"DemandID\": [i + 1 for i in range(len(sample_client_b))],\n",
    "    \"geometry\": [Point(x, y) for x, y in sample_client_b],\n",
    "    \"demand\": [1] * len(sample_client_b),\n",
    "}\n",
    "dem_b = gpd.GeoDataFrame(demand_data_b, crs=\"EPSG:4326\")\n",
    "\n",
    "# Sample facility points data\n",
    "sample_facility_b = np.array(\n",
    "    [[11, 1], [10, 2], [12, 0], [14, 1], [13, 2], [15, 0], [17, 1], [16, 2], [18, 0]]\n",
    ")\n",
    "facility_data_b = {\n",
    "    \"FacilityID\": [i + 101 for i in range(len(sample_facility_b))],\n",
    "    \"geometry\": [Point(x, y) for x, y in sample_facility_b],\n",
    "    \"capacity\": [1] * len(sample_facility_b),\n",
    "}\n",
    "fac_b = gpd.GeoDataFrame(facility_data_b, crs=\"EPSG:4326\")\n",
    "\n"
   ]
  },
  {
   "cell_type": "code",
   "execution_count": 13,
   "metadata": {},
   "outputs": [
    {
     "data": {
      "image/png": "[encoded data removed]",
      "text/plain": [
       "<Figure size 432x288 with 1 Axes>"
      ]
     },
     "metadata": {
      "needs_background": "light"
     },
     "output_type": "display_data"
    }
   ],
   "source": [
    "import matplotlib.pyplot as plt\n",
    "\n",
    "# Create a plot\n",
    "fig, ax = plt.subplots()\n",
    "\n",
    "# Plot demand points and facility points\n",
    "dem_b.plot(ax=ax, color=\"blue\", markersize=50, label=\"Demand Points\")\n",
    "fac_b.plot(ax=ax, color=\"red\", markersize=50, label=\"Facility Points\")\n",
    "\n",
    "# Set plot title and legend\n",
    "ax.set_title(\"Demand Points and Facility Points\")\n",
    "ax.legend()\n",
    "\n",
    "# Show the plot\n",
    "plt.show()\n"
   ]
  },
  {
   "cell_type": "code",
   "execution_count": 14,
   "metadata": {},
   "outputs": [],
   "source": [
    "initial_k_b = [1] * len(sample_client_b)\n",
    "prob_b = KNearestPMedian.from_geodataframe(\n",
    "    initial_k_b,\n",
    "    dem_b,\n",
    "    fac_b,\n",
    "    \"geometry\",\n",
    "    \"geometry\",\n",
    "    \"demand\",\n",
    "    6,\n",
    "    facility_capacity_col=\"capacity\",\n",
    "    distance_metric=\"euclidean\",\n",
    ")"
   ]
  },
  {
   "cell_type": "code",
   "execution_count": 15,
   "metadata": {},
   "outputs": [],
   "source": [
    "prob_b = prob_b.solve(pulp.PULP_CBC_CMD(msg=False))"
   ]
  },
  {
   "cell_type": "code",
   "execution_count": 16,
   "metadata": {},
   "outputs": [
    {
     "name": "stdout",
     "output_type": "stream",
     "text": [
      "0 1\n",
      "1 0\n",
      "2 4\n",
      "3 3\n",
      "4 7\n",
      "5 6\n"
     ]
    }
   ],
   "source": [
    "for i in range(6):\n",
    "    for j in range(9):\n",
    "        if (i, j) in prob_b.cli_assgn_vars and prob_b.cli_assgn_vars[\n",
    "            (i, j)\n",
    "        ].value() == 1:\n",
    "            print(i, j)\n"
   ]
  },
  {
   "cell_type": "markdown",
   "metadata": {},
   "source": [
    "##### Test with spopt"
   ]
  },
  {
   "cell_type": "code",
   "execution_count": 150,
   "metadata": {},
   "outputs": [],
   "source": [
    "import sys\n",
    "!{sys.executable} -m venv kpmedian_test\n"
   ]
  },
  {
   "cell_type": "code",
   "execution_count": 1,
   "metadata": {},
   "outputs": [],
   "source": [
    "!source kpmedian_test/bin/activate"
   ]
  },
  {
   "cell_type": "code",
   "execution_count": 171,
   "metadata": {},
   "outputs": [
    {
     "name": "stdout",
     "output_type": "stream",
     "text": [
      "Processing /Users/xrb/Desktop/RA-IOE/Untitled\n",
      "  Installing build dependencies ... \u001b[?25ldone\n",
      "\u001b[?25h  Getting requirements to build wheel ... \u001b[?25ldone\n",
      "\u001b[?25h  Installing backend dependencies ... \u001b[?25ldone\n",
      "\u001b[?25h  Preparing metadata (pyproject.toml) ... \u001b[?25ldone\n",
      "\u001b[?25hRequirement already satisfied: geopandas>=0.10 in /opt/anaconda3/lib/python3.8/site-packages (from spopt==0.1.dev980+g5ef3bdc.d20230808) (0.13.0)\n",
      "Requirement already satisfied: libpysal in /opt/anaconda3/lib/python3.8/site-packages (from spopt==0.1.dev980+g5ef3bdc.d20230808) (4.6.2)\n",
      "Requirement already satisfied: mapclassify in /opt/anaconda3/lib/python3.8/site-packages (from spopt==0.1.dev980+g5ef3bdc.d20230808) (2.4.3)\n",
      "Requirement already satisfied: networkx>=2.6 in /opt/anaconda3/lib/python3.8/site-packages (from spopt==0.1.dev980+g5ef3bdc.d20230808) (3.1)\n",
      "Requirement already satisfied: numpy>=1.21 in /opt/anaconda3/lib/python3.8/site-packages (from spopt==0.1.dev980+g5ef3bdc.d20230808) (1.23.5)\n",
      "Requirement already satisfied: pandas!=1.5.0,>=1.3 in /opt/anaconda3/lib/python3.8/site-packages (from spopt==0.1.dev980+g5ef3bdc.d20230808) (1.4.2)\n",
      "Requirement already satisfied: pulp in /opt/anaconda3/lib/python3.8/site-packages (from spopt==0.1.dev980+g5ef3bdc.d20230808) (2.6.0)\n",
      "Requirement already satisfied: scikit-learn>=1.0 in /opt/anaconda3/lib/python3.8/site-packages (from spopt==0.1.dev980+g5ef3bdc.d20230808) (1.2.1)\n",
      "Requirement already satisfied: scipy>=1.7 in /opt/anaconda3/lib/python3.8/site-packages (from spopt==0.1.dev980+g5ef3bdc.d20230808) (1.10.0)\n",
      "Requirement already satisfied: shapely>=2 in /opt/anaconda3/lib/python3.8/site-packages (from spopt==0.1.dev980+g5ef3bdc.d20230808) (2.0.1)\n",
      "Requirement already satisfied: spaghetti in /opt/anaconda3/lib/python3.8/site-packages (from spopt==0.1.dev980+g5ef3bdc.d20230808) (1.7.3)\n",
      "Requirement already satisfied: tqdm>=4.27.0 in /opt/anaconda3/lib/python3.8/site-packages (from spopt==0.1.dev980+g5ef3bdc.d20230808) (4.47.0)\n",
      "Requirement already satisfied: fiona>=1.8.19 in /opt/anaconda3/lib/python3.8/site-packages (from geopandas>=0.10->spopt==0.1.dev980+g5ef3bdc.d20230808) (1.8.21)\n",
      "Requirement already satisfied: packaging in /opt/anaconda3/lib/python3.8/site-packages (from geopandas>=0.10->spopt==0.1.dev980+g5ef3bdc.d20230808) (23.1)\n",
      "Requirement already satisfied: pyproj>=3.0.1 in /opt/anaconda3/lib/python3.8/site-packages (from geopandas>=0.10->spopt==0.1.dev980+g5ef3bdc.d20230808) (3.3.1)\n",
      "Requirement already satisfied: python-dateutil>=2.8.1 in /opt/anaconda3/lib/python3.8/site-packages (from pandas!=1.5.0,>=1.3->spopt==0.1.dev980+g5ef3bdc.d20230808) (2.8.2)\n",
      "Requirement already satisfied: pytz>=2020.1 in /opt/anaconda3/lib/python3.8/site-packages (from pandas!=1.5.0,>=1.3->spopt==0.1.dev980+g5ef3bdc.d20230808) (2020.1)\n",
      "Requirement already satisfied: joblib>=1.1.1 in /opt/anaconda3/lib/python3.8/site-packages (from scikit-learn>=1.0->spopt==0.1.dev980+g5ef3bdc.d20230808) (1.2.0)\n",
      "Requirement already satisfied: threadpoolctl>=2.0.0 in /opt/anaconda3/lib/python3.8/site-packages (from scikit-learn>=1.0->spopt==0.1.dev980+g5ef3bdc.d20230808) (2.1.0)\n",
      "Requirement already satisfied: appdirs in /opt/anaconda3/lib/python3.8/site-packages (from libpysal->spopt==0.1.dev980+g5ef3bdc.d20230808) (1.4.4)\n",
      "Requirement already satisfied: beautifulsoup4 in /opt/anaconda3/lib/python3.8/site-packages (from libpysal->spopt==0.1.dev980+g5ef3bdc.d20230808) (4.9.1)\n",
      "Requirement already satisfied: jinja2 in /opt/anaconda3/lib/python3.8/site-packages (from libpysal->spopt==0.1.dev980+g5ef3bdc.d20230808) (3.1.2)\n",
      "Requirement already satisfied: requests in /opt/anaconda3/lib/python3.8/site-packages (from libpysal->spopt==0.1.dev980+g5ef3bdc.d20230808) (2.24.0)\n",
      "Requirement already satisfied: esda in /opt/anaconda3/lib/python3.8/site-packages (from spaghetti->spopt==0.1.dev980+g5ef3bdc.d20230808) (2.4.1)\n",
      "Requirement already satisfied: rtree in /opt/anaconda3/lib/python3.8/site-packages (from spaghetti->spopt==0.1.dev980+g5ef3bdc.d20230808) (0.9.4)\n",
      "Requirement already satisfied: attrs>=17 in /opt/anaconda3/lib/python3.8/site-packages (from fiona>=1.8.19->geopandas>=0.10->spopt==0.1.dev980+g5ef3bdc.d20230808) (19.3.0)\n",
      "Requirement already satisfied: certifi in /opt/anaconda3/lib/python3.8/site-packages (from fiona>=1.8.19->geopandas>=0.10->spopt==0.1.dev980+g5ef3bdc.d20230808) (2022.6.15)\n",
      "Requirement already satisfied: click>=4.0 in /opt/anaconda3/lib/python3.8/site-packages (from fiona>=1.8.19->geopandas>=0.10->spopt==0.1.dev980+g5ef3bdc.d20230808) (8.1.6)\n",
      "Requirement already satisfied: cligj>=0.5 in /opt/anaconda3/lib/python3.8/site-packages (from fiona>=1.8.19->geopandas>=0.10->spopt==0.1.dev980+g5ef3bdc.d20230808) (0.7.2)\n",
      "Requirement already satisfied: click-plugins>=1.0 in /opt/anaconda3/lib/python3.8/site-packages (from fiona>=1.8.19->geopandas>=0.10->spopt==0.1.dev980+g5ef3bdc.d20230808) (1.1.1)\n",
      "Requirement already satisfied: six>=1.7 in /opt/anaconda3/lib/python3.8/site-packages (from fiona>=1.8.19->geopandas>=0.10->spopt==0.1.dev980+g5ef3bdc.d20230808) (1.15.0)\n",
      "Requirement already satisfied: munch in /opt/anaconda3/lib/python3.8/site-packages (from fiona>=1.8.19->geopandas>=0.10->spopt==0.1.dev980+g5ef3bdc.d20230808) (2.5.0)\n",
      "Requirement already satisfied: setuptools in /opt/anaconda3/lib/python3.8/site-packages (from fiona>=1.8.19->geopandas>=0.10->spopt==0.1.dev980+g5ef3bdc.d20230808) (49.2.0.post20200714)\n",
      "Requirement already satisfied: soupsieve>1.2 in /opt/anaconda3/lib/python3.8/site-packages (from beautifulsoup4->libpysal->spopt==0.1.dev980+g5ef3bdc.d20230808) (2.0.1)\n",
      "Requirement already satisfied: MarkupSafe>=2.0 in /opt/anaconda3/lib/python3.8/site-packages (from jinja2->libpysal->spopt==0.1.dev980+g5ef3bdc.d20230808) (2.0.1)\n",
      "Requirement already satisfied: chardet<4,>=3.0.2 in /opt/anaconda3/lib/python3.8/site-packages (from requests->libpysal->spopt==0.1.dev980+g5ef3bdc.d20230808) (3.0.4)\n",
      "Requirement already satisfied: idna<3,>=2.5 in /opt/anaconda3/lib/python3.8/site-packages (from requests->libpysal->spopt==0.1.dev980+g5ef3bdc.d20230808) (2.10)\n",
      "Requirement already satisfied: urllib3!=1.25.0,!=1.25.1,<1.26,>=1.21.1 in /opt/anaconda3/lib/python3.8/site-packages (from requests->libpysal->spopt==0.1.dev980+g5ef3bdc.d20230808) (1.25.9)\n",
      "Building wheels for collected packages: spopt\n",
      "  Building wheel for spopt (pyproject.toml) ... \u001b[?25ldone\n",
      "\u001b[?25h  Created wheel for spopt: filename=spopt-0.1.dev980+g5ef3bdc.d20230808-py3-none-any.whl size=239547 sha256=bb4417880f7e64f55f8217ec65e6d4a1a4b17e18e36c9bebcb1a9edbb3a70a0a\n",
      "  Stored in directory: /private/var/folders/v1/b3bx117j02qghrlmbvc478780000gn/T/pip-ephem-wheel-cache-8mqjqpm2/wheels/93/eb/e5/aa211935151a30a3e08a46912bbd072b4e25cd3e834dd97e61\n",
      "Successfully built spopt\n",
      "\u001b[33mDEPRECATION: pyodbc 4.0.0-unsupported has a non-standard version number. pip 23.3 will enforce this behaviour change. A possible replacement is to upgrade to a newer version of pyodbc or contact the author to suggest that they release a version with a conforming version number. Discussion can be found at https://github.com/pypa/pip/issues/12063\u001b[0m\u001b[33m\n",
      "\u001b[0mInstalling collected packages: spopt\n",
      "  Attempting uninstall: spopt\n",
      "    Found existing installation: spopt 0.1.dev980+g5ef3bdc\n",
      "    Uninstalling spopt-0.1.dev980+g5ef3bdc:\n",
      "      Successfully uninstalled spopt-0.1.dev980+g5ef3bdc\n",
      "Successfully installed spopt-0.1.dev980+g5ef3bdc.d20230808\n",
      "Note: you may need to restart the kernel to use updated packages.\n"
     ]
    }
   ],
   "source": [
    "pip install /Users/xrb/Desktop/RA-IOE/Untitled"
   ]
  },
  {
   "cell_type": "code",
   "execution_count": 3,
   "metadata": {},
   "outputs": [],
   "source": [
    "from shapely.geometry import Point\n",
    "import geopandas as gpd\n",
    "\n",
    "# Sample demand points data\n",
    "demand_data = {\n",
    "    \"DemandID\": [1, 2],\n",
    "    \"geometry\": [Point(0.5, 1), Point(1.5, 1)],\n",
    "    \"demand\": [1, 1],\n",
    "}\n",
    "dem = gpd.GeoDataFrame(demand_data, crs=\"EPSG:4326\")\n",
    "\n",
    "# Sample facility points data\n",
    "facility_data = {\n",
    "    \"FacilityID\": [101, 102, 103],\n",
    "    \"geometry\": [Point(1, 1), Point(0, 2), Point(2, 0)],\n",
    "    \"capacity\": [1, 1, 1],\n",
    "}\n",
    "fac = gpd.GeoDataFrame(facility_data, crs=\"EPSG:4326\")\n",
    "intial_k = [1, 1]"
   ]
  },
  {
   "cell_type": "code",
   "execution_count": 17,
   "metadata": {},
   "outputs": [],
   "source": [
    "from spopt.locate import KNearestPMedian"
   ]
  },
  {
   "cell_type": "code",
   "execution_count": 4,
   "metadata": {},
   "outputs": [],
   "source": [
    "prob = KNearestPMedian.from_geodataframe(\n",
    "    intial_k,\n",
    "    dem,\n",
    "    fac,\n",
    "    \"geometry\",\n",
    "    \"geometry\",\n",
    "    \"demand\",\n",
    "    3,\n",
    "    facility_capacity_col=\"capacity\",\n",
    "    distance_metric=\"euclidean\",\n",
    ")"
   ]
  },
  {
   "cell_type": "code",
   "execution_count": 6,
   "metadata": {},
   "outputs": [],
   "source": [
    "import pulp\n",
    "prob = prob.solve(pulp.PULP_CBC_CMD(msg=False))"
   ]
  },
  {
   "cell_type": "code",
   "execution_count": 7,
   "metadata": {},
   "outputs": [
    {
     "name": "stdout",
     "output_type": "stream",
     "text": [
      "0 1\n",
      "1 0\n"
     ]
    }
   ],
   "source": [
    "for i in range(2):\n",
    "    for j in range(3):\n",
    "        if (i, j) in prob.cli_assgn_vars and prob.cli_assgn_vars[(i, j)].value() == 1:\n",
    "            print(i, j)"
   ]
  },
  {
   "cell_type": "code",
   "execution_count": 1,
   "metadata": {},
   "outputs": [
    {
     "name": "stdout",
     "output_type": "stream",
     "text": [
      "1.3.0\n"
     ]
    }
   ],
   "source": [
    "import sklearn\n",
    "from sklearn.neighbors import KDTree, BallTree\n",
    "print(sklearn.__version__)"
   ]
  },
  {
   "cell_type": "code",
   "execution_count": 3,
   "metadata": {},
   "outputs": [
    {
     "ename": "TypeError",
     "evalue": "argument of type 'builtin_function_or_method' is not iterable",
     "output_type": "error",
     "traceback": [
      "\u001b[0;31m---------------------------------------------------------------------------\u001b[0m",
      "\u001b[0;31mTypeError\u001b[0m                                 Traceback (most recent call last)",
      "Cell \u001b[0;32mIn[3], line 3\u001b[0m\n\u001b[1;32m      1\u001b[0m kdtree_valid_metrics \u001b[38;5;241m=\u001b[39m KDTree\u001b[38;5;241m.\u001b[39mvalid_metrics\n\u001b[1;32m      2\u001b[0m metric \u001b[38;5;241m=\u001b[39m \u001b[38;5;124m'\u001b[39m\u001b[38;5;124meuclidean\u001b[39m\u001b[38;5;124m'\u001b[39m\n\u001b[0;32m----> 3\u001b[0m \u001b[38;5;28;01mif\u001b[39;00m \u001b[43mmetric\u001b[49m\u001b[43m \u001b[49m\u001b[38;5;129;43;01min\u001b[39;49;00m\u001b[43m \u001b[49m\u001b[43mkdtree_valid_metrics\u001b[49m:\n\u001b[1;32m      4\u001b[0m     \u001b[38;5;28mprint\u001b[39m(metric)\n",
      "\u001b[0;31mTypeError\u001b[0m: argument of type 'builtin_function_or_method' is not iterable"
     ]
    }
   ],
   "source": [
    "kdtree_valid_metrics = KDTree.valid_metrics\n",
    "metric = 'euclidean'\n",
    "if metric in kdtree_valid_metrics:\n",
    "    print(metric)"
   ]
  },
  {
   "cell_type": "code",
   "execution_count": 5,
   "metadata": {},
   "outputs": [
    {
     "name": "stdout",
     "output_type": "stream",
     "text": [
      "[0, 0, 2, 0, 0, 2, 2, 1, 1, 2, 2, 1, 2, 1, 1, 2, 1, 1, 1, 1, 1, 1, 0, 0, 0, 2, 2, 2, 0, 0, 0, 1]\n"
     ]
    }
   ],
   "source": [
    "basic_from_w_labels = [0, 0, 2, 0, 0, 2, 2, 1, 1, 2, 2, 1, 2, 1, 1, 2]\n",
    "basic_from_w_labels += [1, 1, 1, 1, 1, 1, 0, 0, 0, 2, 2, 2, 0, 0, 0, 1]\n",
    "print(basic_from_w_labels)"
   ]
  },
  {
   "cell_type": "code",
   "execution_count": 6,
   "metadata": {},
   "outputs": [
    {
     "name": "stdout",
     "output_type": "stream",
     "text": [
      "32\n"
     ]
    }
   ],
   "source": [
    "print(len(basic_from_w_labels))"
   ]
  },
  {
   "cell_type": "code",
   "execution_count": 11,
   "metadata": {},
   "outputs": [],
   "source": [
    "y= basic_from_w_labels"
   ]
  },
  {
   "cell_type": "code",
   "execution_count": 7,
   "metadata": {},
   "outputs": [],
   "source": [
    "y=[0, 0, 2, 0, 0, 2, 2, 1, 1, 2, 2, 1, 2, 1, 1, 2, 1, 1, 1, 1, 1, 1,0, 0, 0, 2, 2, 2, 0, 0, 0, 1]"
   ]
  }
 ],
 "metadata": {
  "interpreter": {
   "hash": "40d3a090f54c6569ab1632332b64b2c03c39dcf918b08424e98f38b5ae0af88f"
  },
  "kernelspec": {
   "display_name": "Python 3.8.3 ('base')",
   "language": "python",
   "name": "python3"
  },
  "language_info": {
   "codemirror_mode": {
    "name": "ipython",
    "version": 3
   },
   "file_extension": ".py",
   "mimetype": "text/x-python",
   "name": "python",
   "nbconvert_exporter": "python",
   "pygments_lexer": "ipython3",
   "version": "3.8.17"
  },
  "orig_nbformat": 4
 },
 "nbformat": 4,
 "nbformat_minor": 2
}
