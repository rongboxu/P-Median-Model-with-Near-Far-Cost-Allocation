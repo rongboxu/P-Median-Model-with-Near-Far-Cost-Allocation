{
 "cells": [
  {
   "cell_type": "markdown",
   "metadata": {},
   "source": [
    "# K Nearest P Median Problem and Implementation\n",
    "\n",
    "## Introduction\n",
    "\n",
    "The P-Median Model with Near-Far Cost Allocation, alternatively known as the k nearest p-median Problem, offers a distinctive twist on the traditional p-median problem. This approach enhances our capability to effectively address location allocation challenges. In this notebook, we'll dive into the problem's formulation, and showcase the implementation of the `KNearestPMedian` class in the `spopt` package.\n",
    "\n",
    "This newly developed model is a contribution to the `spopt` as part of the [Google Summer of Code 2023](https://summerofcode.withgoogle.com/).\n",
    "\n",
    "### Understanding the K Nearest P-median Problem\n",
    "\n",
    "The k nearest p-median problem extends the concept of facility location allocation by considering both nearest and non-nearest facilities. In the article by Church (2018), it proposed this new p-median model which can distinguish between near and far facilities, use both explicit and implicit variables for capacity allocations. By integrating this model, the `spopt` package becomes equipped to deliver heightened precision and efficiency in solving spatial optimization problems, especially those involving extensive datasets and substantial demand volumes."
   ]
  },
  {
   "cell_type": "markdown",
   "metadata": {},
   "source": [
    "The model can be formulated as:\n",
    "\n",
    "$\\begin{array}\n",
    "       \\displaystyle \\textbf{Minimize} & \\displaystyle \\sum_{i \\in I}\\sum_{k \\in k_{i}}{a_i d_{ik} X_{ik}} + \\sum_{i \\in I}{g_i (d_{i{k_i}} + 1)}  &&& (1) \\\\\n",
    "       \\displaystyle \\textbf{Subject To} & \\sum_{k \\in k_{i}}{X_{ik} + g_i = 1} && \\forall i \\in I & (2) \\\\\n",
    "                                            & \\sum_{j \\in J}{Y_j} = p                                                                                   &&                                          & (3)                                                                               \\\\\n",
    "                                            & \\sum_{i \\in I}{a_i X_{ik}} \\leq {Y_{k} c_{k}}                                                             &&  \\forall k \\in k_{i}                     & (4)                                                                               \\\\  \n",
    "                                            & X_{ij} \\leq Y_{j}                                                                                         && \\forall i \\in I \\quad \\forall j \\in J    & (5)                                                                               \\\\\n",
    "                                            & X_{ij} \\in \\{0, 1\\}                                                                                       && \\forall i \\in I \\quad \\forall j \\in J    & (6)                                                                               \\\\\n",
    "                                            & Y_j \\in \\{0, 1\\}                                                                                          && \\forall j \\in J                          & (7)                                                                               \\\\\n",
    "                                            &                                                                                                           &&                                          &                                                                                   \\\\ \\end{array}$\n",
    "                                            \n",
    "$\\begin{array} \\displaystyle \\textbf{Where}&& i& =& \\textrm{index of demand points/areas/objects in set } I\\\\\n",
    "                                            && j                                                                                                        & =                                         & \\textrm{index of potential facility sites in set } J                              \\\\\n",
    "                                            && p                                                                                                        & =                                         & \\textrm{the number of facilities to be sited}                                     \\\\\n",
    "                                            && a_i                                                                                                      & =                                         & \\textrm{service load or population demand at client location } i                  \\\\\n",
    "                                            && k_{i}                                                                                                    & =                                         & \\textrm{the } k \\textrm{ nearest facilities of client location } i                        \\\\\n",
    "                                            && c_{j}                                                                                                    & =                                         & \\textrm{the capacity of facility} j                                               \\\\   \n",
    "                                            && d_{ij}                                                                                                   & =                                         & \\textrm{shortest distance or travel time between locations } i \\textrm{ and } j   \\\\\n",
    "                                            && X_{ij}                                                                                                   & =                                         & \\begin{cases}\n",
    "                                                                                                                                                                                                       1, \\textrm{if client location } i \\textrm{ is served by facility } j             \\\\\n",
    "                                                                                                                                                                                                       0, \\textrm{otherwise}                                                            \\\\\n",
    "                                                                                                                                                                                                      \\end{cases}                                                                       \\\\\n",
    "                                            && Y_j                                                                                                      & =                                         & \\begin{cases}\n",
    "                                                                                                                                                                                                       1, \\textrm{if a facility is sited at location } j                                \\\\\n",
    "                                                                                                                                                                                                       0, \\textrm{otherwise}                                                            \\\\\n",
    "                                                                                                                                                                                                      \\end{cases}                                                                       \\\\ \n",
    "                                            && g_i                                                                                                      & =                                         & \\begin{cases}\n",
    "                                                                                                                                                                                                       1, \\textrm{if the client } i \\textrm{ need to be served by non-k-nearest facilities}     \\\\\n",
    "                                                                                                                                                                                                       0, \\textrm{otherwise}                                                            \\\\\n",
    "                                                                                                                                                                                                      \\end{cases}                                                                       \\\\ \\end{array}$"
   ]
  },
  {
   "cell_type": "markdown",
   "metadata": {},
   "source": [
    "This model introduces a clever approach by differentiating between nearby and distant facilities. For instance, at the beginning, only the five closest facilities to each client are considered, which are termed as \"near\" facilities. If all client demands and constraints can be satisfied, the problem will have an optimal solution right away. However, if the initial facilities can't meet all the demands, we can supplement them with additional nearby facilities.\n",
    "\n",
    "Mathematically, we create a variable called the **placeholder facility decision variable**, which is $g_i$\n",
    "in the formula, presenting the distant facilities.\n",
    "\n",
    "In terms of the **solution approach**:\n",
    "1. For each client, identify their five closest facilities.\n",
    "2. Run the p-median model only for the selected facilities from Step 1 (referred to as \"explicitly assigned\" in the paper).\n",
    "3. Check the model outcome. If all $g_i$ values for clients are equal to 0 and an optimal solution exists, we accept this solution.\n",
    "4. If some $g_i$ values are more than 0, we need to increase the value $k$ for specific clients. Then, rerun the model. Ensure that all $g_i$ values become 0, indicating an optimal solution.\n",
    "\n",
    "The default starting value for $k$ is 5, or the total number of facilities if it is fewer than 5. Nevertheless, users have the flexibility to customize this value according to their particular requirements.\n",
    "\n",
    "This model allows us to avoid incorporating the complete set of distances and facilities into the model. Instead, we can focus on integrating smaller segments of these elements and utilize iteration to identify the optimal solution, thereby enhancing computational speed and efficiency."
   ]
  },
  {
   "cell_type": "markdown",
   "metadata": {},
   "source": [
    "## The `KNearestPMedian` Class Implementation\n",
    "\n",
    "We opt to generate a fresh subclass named `KNearestPMedian` within the `spopt` library, derived from the `PMedian` class. This new subclass can inherit all the modules employed by its parent class.\n",
    "\n",
    "Following this, we will proceed to outline its benefits and features, encompassing two key aspects: \n",
    "1. enhanced efficiency and performance with tree query and sparse matrices,\n",
    "2. structural composition and logical framework.\n",
    "\n",
    "### Enhanced Efficiency\n",
    "\n",
    "The `KNearestPMedian` class exclusively allows the use of **geodataframes** as input data. This approach eliminates the need for users to manually compute distances. A significant enhancement is the utilization of an appropriate **tree data structure**, enabling efficient retrieval of the k nearest facilities for each client. This method significantly reduces computation time by avoiding the calculation and comparison of all distances. Additionally, the resultant distances will be stored in a format of a **sparse matrix**, optimizing memory utilization, particularly for extensive datasets.\n",
    "\n",
    "### Structure and Logics\n",
    "\n",
    "The class works with weighted service loads of clients and facilitates, offering flexibility in assigning the number of nearest facilities for each client. Optional capacity constraints and various distance metrics can be applied. The class offers methods to initialize attributes, add objective functions, create sparse matrices for distances, dynamically update k values, and solve the model iteratively. It provides insights into facility-to-client relationships and related attributes.\n",
    "\n",
    "The `KNearestPMedian` class and its methods are as following:"
   ]
  },
  {
   "cell_type": "markdown",
   "metadata": {},
   "source": [
    "| Aspect               | Description                                                                                                                                                                              |\n",
    "|----------------------|------------------------------------------------------------------------------------------------------------------------------------------------------------------------------------------|\n",
    "| **Class Definition** |                                                                                                                                                                                          |\n",
    "| Class Name           | `KNearestPMedian` (subclass of `PMedian`)                                                                                                                                                |\n",
    "| Description          | Implements the P-Median Model with Near-Far Cost Allocation and solves it.                                                                                                             |\n",
    "|                      | Adapted from a specific citation and formulation.                                                                                                                                      |\n",
    "| **Parameters**       |                                                                                                                                                                                          |\n",
    "| `ai_sum`        | Sum of weights representing the service loads of clients.                                                                                                                               |\n",
    "| `clients`            | An array of coordinates of clients.                                                                                                                                                     |\n",
    "| `facilities`         | An array of coordinates of facilities.                                                                                                                                                  |\n",
    "| `weights`            | An array of weights representing the service loads of clients.                                                                                                                          |\n",
    "| `k_array`            | An array of k values representing the number of nearest facilities for each client.                                                                                                    |\n",
    "| `p_facilities`       | The number of facilities to be located.                                                                                                                                                 |\n",
    "| `capacities`         | An array of facility capacities (optional).                                                                                                                                             |\n",
    "| `distance_metric`    | The distance metric used for computing distances between clients and facilities.                                                                                                        |\n",
    "| `name`               | The problem name.                                                                                                                                                                       |\n",
    "| **Methods**          |                                                                                                                                                                                          |\n",
    "| `__init__`           | Constructor method to initialize class attributes and parameters.                                                                                                                      |\n",
    "| `__add_obj`          | Method to add the objective function to the model.                                                                                                                                     |\n",
    "| `from_cost_matrix`   | Static method (not supported in this subclass).                                                                                                                                         |\n",
    "| `_create_sparse_matrix` | Method to create a sparse matrix representing the distances between clients and their k nearest facilities.                                                                           |\n",
    "| `_update_k_array`    | Method to increase the k value for clients with `g_i` > 0 and update the k array.                                                                                                     |\n",
    "| `_from_sparse_matrix` | Method to create the problem from the sparse distance matrix.                                                                                                                           |\n",
    "| `from_geodataframe`  | Class method to create an instance from geodataframes.                                                                                                                                  |\n",
    "| `facility_client_array` | Method to create a 2D array storing facility to client relationships.                                                                                                                   |\n",
    "| `solve`              | Method to solve the k nearest p-median model iteratively.                                                                                                                              |\n",
    "| **Attributes**       |                                                                                                                                                                                          |\n",
    "| `sparse_matrix`      | Compressed Sparse Row matrix representing the distance matrix between clients and facilities.                                                                                          |\n",
    "| `aij`                | Compressed Sparse Row matrix storing the weighted cost matrix between clients and facilities.                                                                                          |\n",
    "| `problem`            | A `pulp` instance of an optimization model with constraints, variables, and an objective function.                                                                                     |\n",
    "| `fac2cli`            | A 2D array storing facility to client relationships.                                                                                                                                   |\n",
    "| `cli2fac`            | Inverse of `fac2cli` showing client to facility relationships.                                                                                                                          |"
   ]
  },
  {
   "cell_type": "markdown",
   "metadata": {},
   "source": [
    "**Iterative Solution Approach**:\n",
    "\n",
    "The `solve()` method implements an iterative approach to solving the problem.\n",
    "It repeatedly constructs sparse matrices and creates the problem based on the calculated distances.\n",
    "The goal is to iteratively allocate clients to their nearest facilities and dynamically adjust k values for unallocated clients.\n",
    "This iterative process continues until no more clients need to be assigned to placeholder facilities.\n",
    "\n",
    "The logic of `solve()` is as following:"
   ]
  },
  {
   "cell_type": "markdown",
   "metadata": {},
   "source": [
    "![Flowchart](../flowchart/solve().png)"
   ]
  },
  {
   "cell_type": "markdown",
   "metadata": {},
   "source": [
    "## Use the New Model\n",
    "\n",
    "In this part, we will introduce how to prepare the data and use the function with simple sample data."
   ]
  },
  {
   "cell_type": "code",
   "execution_count": 2,
   "metadata": {},
   "outputs": [],
   "source": [
    "import numpy as np\n",
    "import geopandas as gpd\n",
    "import pandas as pd\n",
    "from shapely.geometry import Point\n",
    "import pulp\n",
    "import matplotlib.pyplot as plt\n",
    "from spopt.locate.p_median import KNearestPMedian"
   ]
  },
  {
   "cell_type": "markdown",
   "metadata": {},
   "source": [
    "The accepted input format is a geodataframe. It's crucial that the coordinate reference system (CRS) of the demand points geodataframe matches that of the facilities points geodataframe. Otherwise, the module will generate an error due to CRS mismatch."
   ]
  },
  {
   "cell_type": "code",
   "execution_count": 4,
   "metadata": {},
   "outputs": [],
   "source": [
    "# Sample demand points data\n",
    "sample_client = np.array(\n",
    "    [[10.5, 1], [11.5, 1], [13.5, 1], [14.5, 1], [16.5, 1], [17.5, 1]]\n",
    ")\n",
    "demand_data = {\n",
    "    \"DemandID\": [i + 1 for i in range(len(sample_client))],\n",
    "    \"geometry\": [Point(x, y) for x, y in sample_client],\n",
    "    \"demand\": [1] * len(sample_client),\n",
    "}\n",
    "dem = gpd.GeoDataFrame(demand_data, crs=\"EPSG:4326\")\n",
    "\n",
    "# Sample facility points data\n",
    "sample_facility = np.array(\n",
    "    [[11, 1], [10, 2], [12, 0], [14, 1], [13, 2], [15, 0], [17, 1], [16, 2], [18, 0]]\n",
    ")\n",
    "facility_data = {\n",
    "    \"FacilityID\": [i + 101 for i in range(len(sample_facility))],\n",
    "    \"geometry\": [Point(x, y) for x, y in sample_facility],\n",
    "    \"capacity\": [1] * len(sample_facility),\n",
    "}\n",
    "fac = gpd.GeoDataFrame(facility_data, crs=\"EPSG:4326\")"
   ]
  },
  {
   "cell_type": "code",
   "execution_count": 5,
   "metadata": {},
   "outputs": [
    {
     "data": {
      "image/png": "[encoded data removed]",
      "text/plain": [
       "<Figure size 640x480 with 1 Axes>"
      ]
     },
     "metadata": {},
     "output_type": "display_data"
    }
   ],
   "source": [
    "# Create a plot\n",
    "fig, ax = plt.subplots()\n",
    "\n",
    "# Plot demand points and facility points\n",
    "dem.plot(ax=ax, color=\"blue\", markersize=50, label=\"Demand Points\")\n",
    "fac.plot(ax=ax, color=\"red\", markersize=50, label=\"Facility Points\")\n",
    "\n",
    "# Set plot title and legend\n",
    "ax.set_title(\"Demand Points and Facility Points\")\n",
    "ax.legend()\n",
    "\n",
    "# Show the plot\n",
    "plt.show()"
   ]
  },
  {
   "cell_type": "markdown",
   "metadata": {},
   "source": [
    "Examining this uncomplicated dataset reveals that two demand points share the closest facility. However, each facility has a capacity to serve only one client. Consequently, one of the points must be assigned to its second nearest facility.\n",
    "\n",
    "To demonstrate the effectiveness of the new model in this scenario, we can initialize the k values at 1 for all clients. It's important to note that the k values should be created as a numpy array."
   ]
  },
  {
   "cell_type": "code",
   "execution_count": 11,
   "metadata": {},
   "outputs": [],
   "source": [
    "intial_k = np.ones(6, dtype=int)\n",
    "prob = KNearestPMedian.from_geodataframe(\n",
    "    dem,\n",
    "    fac,\n",
    "    \"geometry\",\n",
    "    \"geometry\",\n",
    "    \"demand\",\n",
    "    6,\n",
    "    facility_capacity_col=\"capacity\",\n",
    "    k_array=intial_k\n",
    ")"
   ]
  },
  {
   "cell_type": "code",
   "execution_count": 12,
   "metadata": {},
   "outputs": [],
   "source": [
    "prob = prob.solve(pulp.PULP_CBC_CMD(msg=False))"
   ]
  },
  {
   "cell_type": "markdown",
   "metadata": {},
   "source": [
    "Now we can look at the model results."
   ]
  },
  {
   "cell_type": "code",
   "execution_count": 14,
   "metadata": {},
   "outputs": [
    {
     "name": "stdout",
     "output_type": "stream",
     "text": [
      "Client 0 is served by Facility 1\n",
      "Client 1 is served by Facility 0\n",
      "Client 2 is served by Facility 4\n",
      "Client 3 is served by Facility 3\n",
      "Client 4 is served by Facility 7\n",
      "Client 5 is served by Facility 6\n"
     ]
    }
   ],
   "source": [
    "for i in range(len(dem)):\n",
    "    for j in range(len(fac)):\n",
    "        if (i, j) in prob.cli_assgn_vars and prob.cli_assgn_vars[(i, j)].value() == 1:\n",
    "            print(f\"Client {i} is served by Facility {j}\")"
   ]
  },
  {
   "cell_type": "markdown",
   "metadata": {},
   "source": [
    "The outcome aligns with our anticipations. Furthermore, we can retrieve additional parameters using the code provided below:"
   ]
  },
  {
   "cell_type": "code",
   "execution_count": 15,
   "metadata": {},
   "outputs": [
    {
     "data": {
      "text/plain": [
       "[[1], [0], [], [3], [2], [], [5], [4], []]"
      ]
     },
     "execution_count": 15,
     "metadata": {},
     "output_type": "execute_result"
    }
   ],
   "source": [
    "prob.fac2cli"
   ]
  },
  {
   "cell_type": "code",
   "execution_count": 16,
   "metadata": {},
   "outputs": [
    {
     "data": {
      "text/plain": [
       "0.8090169943749475"
      ]
     },
     "execution_count": 16,
     "metadata": {},
     "output_type": "execute_result"
    }
   ],
   "source": [
    "prob.mean_dist"
   ]
  },
  {
   "cell_type": "markdown",
   "metadata": {},
   "source": [
    "By utilizing the `k_array`, we can extract the k values from the last iteration. In this example, due to the presence of capacity constraints, specific clients have had their k values augmented to 2, even though our initial input for k was uniform and set to 1."
   ]
  },
  {
   "cell_type": "code",
   "execution_count": 17,
   "metadata": {},
   "outputs": [
    {
     "data": {
      "text/plain": [
       "array([2, 1, 2, 1, 2, 1])"
      ]
     },
     "execution_count": 17,
     "metadata": {},
     "output_type": "execute_result"
    }
   ],
   "source": [
    "prob.k_array"
   ]
  },
  {
   "cell_type": "markdown",
   "metadata": {},
   "source": [
    "You also have the option to obtain the complete sparse distance matrix from the most recent iteration. You can achieve this by using `sparse_matrix` to retrieve the distance without weights, and by using `aij` to obtain the distance with weights incorporated."
   ]
  },
  {
   "cell_type": "code",
   "execution_count": 19,
   "metadata": {},
   "outputs": [
    {
     "name": "stdout",
     "output_type": "stream",
     "text": [
      "[[0.5        1.11803399 0.         0.         0.         0.\n",
      "  0.         0.         0.        ]\n",
      " [0.5        0.         0.         0.         0.         0.\n",
      "  0.         0.         0.        ]\n",
      " [0.         0.         0.         0.5        1.11803399 0.\n",
      "  0.         0.         0.        ]\n",
      " [0.         0.         0.         0.5        0.         0.\n",
      "  0.         0.         0.        ]\n",
      " [0.         0.         0.         0.         0.         0.\n",
      "  0.5        1.11803399 0.        ]\n",
      " [0.         0.         0.         0.         0.         0.\n",
      "  0.5        0.         0.        ]]\n"
     ]
    }
   ],
   "source": [
    "print(prob.sparse_matrix.toarray())"
   ]
  },
  {
   "cell_type": "markdown",
   "metadata": {},
   "source": [
    "### References:\n",
    "\n",
    "- [Church, R. L. (2018). Tobler’s Law and Spatial Optimization: Why Bakersfield? International Regional Science Review, 41(3), 287–310.](https://doi.org/10.1177/0160017616650612) "
   ]
  }
 ],
 "metadata": {
  "interpreter": {
   "hash": "40d3a090f54c6569ab1632332b64b2c03c39dcf918b08424e98f38b5ae0af88f"
  },
  "kernelspec": {
   "display_name": "Python 3",
   "language": "python",
   "name": "python3"
  },
  "language_info": {
   "codemirror_mode": {
    "name": "ipython",
    "version": 3
   },
   "file_extension": ".py",
   "mimetype": "text/x-python",
   "name": "python",
   "nbconvert_exporter": "python",
   "pygments_lexer": "ipython3",
   "version": "3.8.17"
  }
 },
 "nbformat": 4,
 "nbformat_minor": 2
}
