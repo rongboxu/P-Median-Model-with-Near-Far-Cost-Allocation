{
 "cells": [
  {
   "cell_type": "markdown",
   "metadata": {},
   "source": [
    "# K Nearest P Median Problem and Implementation\n",
    "\n",
    "## Introduction\n",
    "\n",
    "The P-Median Model with Near-Far Cost Allocation, alternatively known as the k nearest p-median Problem, offers a distinctive twist on the traditional p-median problem. This approach enhances our capability to effectively address location allocation challenges. In this notebook, we'll dive into the problem's formulation, and showcase the implementation of the `KNearestPMedian` class in the `spopt` package.\n",
    "\n",
    "### Understanding the K Nearest P-median Problem\n",
    "\n",
    "The k nearest p-median problem extends the concept of facility location allocation by considering both nearest and non-nearest facilities. In the article by Church (2018), it proposed this new p-median model which can distinguish between near and far facilities, use both explicit and implicit variables for capacity allocations. By integrating this model, the `spopt` package becomes equipped to deliver heightened precision and efficiency in solving spatial optimization problems, especially those involving extensive datasets and substantial demand volumes."
   ]
  },
  {
   "cell_type": "markdown",
   "metadata": {},
   "source": [
    "The model can be formulated as:\n",
    "\n",
    "$\\begin{array}\n",
    "       \\displaystyle \\textbf{Minimize} & \\displaystyle \\sum_{i \\in I}\\sum_{k \\in k_{i}}{a_i d_{ik} X_{ik}} + \\sum_{i \\in I}{g_i (d_{i{k_i}} + 1)}  &&& (1) \\\\\n",
    "       \\displaystyle \\textbf{Subject To} & \\sum_{k \\in k_{i}}{X_{ik} + g_i = 1} && \\forall i \\in I & (2) \\\\\n",
    "                                            & \\sum_{j \\in J}{Y_j} = p                                                                                   &&                                          & (3)                                                                               \\\\\n",
    "                                            & \\sum_{i \\in I}{a_i X_{ik}} \\leq {Y_{k} c_{k}}                                                             &&  \\forall k \\in k_{i}                     & (4)                                                                               \\\\  \n",
    "                                            & X_{ij} \\leq Y_{j}                                                                                         && \\forall i \\in I \\quad \\forall j \\in J    & (5)                                                                               \\\\\n",
    "                                            & X_{ij} \\in \\{0, 1\\}                                                                                       && \\forall i \\in I \\quad \\forall j \\in J    & (6)                                                                               \\\\\n",
    "                                            & Y_j \\in \\{0, 1\\}                                                                                          && \\forall j \\in J                          & (7)                                                                               \\\\\n",
    "                                            &                                                                                                           &&                                          &                                                                                   \\\\ \\end{array}$\n",
    "                                            \n",
    "$\\begin{array} \\displaystyle \\textbf{Where}&& i& =& \\textrm{index of demand points/areas/objects in set } I\\\\\n",
    "                                            && j                                                                                                        & =                                         & \\textrm{index of potential facility sites in set } J                              \\\\\n",
    "                                            && p                                                                                                        & =                                         & \\textrm{the number of facilities to be sited}                                     \\\\\n",
    "                                            && a_i                                                                                                      & =                                         & \\textrm{service load or population demand at client location } i                  \\\\\n",
    "                                            && k_{i}                                                                                                    & =                                         & \\textrm{the } k \\textrm{ nearest facilities of client location } i                        \\\\\n",
    "                                            && c_{j}                                                                                                    & =                                         & \\textrm{the capacity of facility} j                                               \\\\   \n",
    "                                            && d_{ij}                                                                                                   & =                                         & \\textrm{shortest distance or travel time between locations } i \\textrm{ and } j   \\\\\n",
    "                                            && X_{ij}                                                                                                   & =                                         & \\begin{cases}\n",
    "                                                                                                                                                                                                       1, \\textrm{if client location } i \\textrm{ is served by facility } j             \\\\\n",
    "                                                                                                                                                                                                       0, \\textrm{otherwise}                                                            \\\\\n",
    "                                                                                                                                                                                                      \\end{cases}                                                                       \\\\\n",
    "                                            && Y_j                                                                                                      & =                                         & \\begin{cases}\n",
    "                                                                                                                                                                                                       1, \\textrm{if a facility is sited at location } j                                \\\\\n",
    "                                                                                                                                                                                                       0, \\textrm{otherwise}                                                            \\\\\n",
    "                                                                                                                                                                                                      \\end{cases}                                                                       \\\\ \n",
    "                                            && g_i                                                                                                      & =                                         & \\begin{cases}\n",
    "                                                                                                                                                                                                       1, \\textrm{if the client } i \\textrm{ need to be served by non-k-nearest facilities}     \\\\\n",
    "                                                                                                                                                                                                       0, \\textrm{otherwise}                                                            \\\\\n",
    "                                                                                                                                                                                                      \\end{cases}                                                                       \\\\ \\end{array}$"
   ]
  },
  {
   "cell_type": "markdown",
   "metadata": {},
   "source": [
    "This model introduces a clever approach by differentiating between nearby and distant facilities. For instance, at the beginning, only the five closest facilities to each client are considered, which are termed as \"near\" facilities. If all client demands and constraints can be satisfied, the problem will have an optimal solution right away. However, if the initial facilities can't meet all the demands, we can supplement them with additional nearby facilities.\n",
    "\n",
    "Mathematically, we introduce a variable called the placeholder facility decision variable, which is $g_i$\n",
    "in the formula, presenting the distant facilities.\n",
    "\n",
    "In terms of the solution approach:\n",
    "1. For each client, identify their five closest facilities.\n",
    "2. Run the p-median model only for the selected facilities from Step 1 (referred to as \"explicitly assigned\" in the paper).\n",
    "3. Check the model outcome. If all $g_i$ values for clients are equal to 0 and an optimal solution exists, we accept this solution.\n",
    "4. If some $g_i$ values are more than 0, we need to increase the value $k$ for specific clients. Then, rerun the model. Ensure that all $g_i$ values become 0, indicating an optimal solution.\n",
    "\n",
    "The default starting value for $k$ is 5, or the total number of facilities if it is fewer than 5. Nevertheless, users have the flexibility to customize this value according to their particular requirements.\n",
    "\n",
    "This model allows us to avoid incorporating the complete set of distances and facilities into the model. Instead, we can focus on integrating smaller segments of these elements and utilize iteration to identify the optimal solution, thereby enhancing computational speed and efficiency."
   ]
  },
  {
   "cell_type": "markdown",
   "metadata": {},
   "source": [
    "## The `KNearestPMedian` Class Implementation\n",
    "\n",
    "We opt to generate a fresh subclass named `KNearestPMedian` within the `spopt` library, derived from the `PMedian` class. This new subclass can inherit all the modules employed by its parent class.\n",
    "\n",
    "Following this, we will proceed to outline its benefits and features, encompassing three key aspects: \n",
    "1. enhanced performance with tree query and sparse matrices,\n",
    "2. structural composition and logical framework.\n",
    "\n",
    "### Great Efficiency\n",
    "\n",
    "The `KNearestPMedian` class exclusively allows the use of **geodataframes** as input data. This approach eliminates the need for users to manually compute distances. A significant enhancement is the utilization of an appropriate **tree data structure**, enabling efficient retrieval of the k nearest facilities for each client. This method significantly reduces computation time by avoiding the calculation and comparison of all distances. Additionally, the resultant distances will be stored in a format of a **sparse matrix**, optimizing memory utilization, particularly for extensive datasets.\n",
    "\n",
    "### Structure and Logics\n",
    "\n",
    "The `KNearestPMedian` class and its methods are as following:"
   ]
  },
  {
   "cell_type": "markdown",
   "metadata": {},
   "source": [
    "| Aspect               | Description                                                                                                                                                                              |\n",
    "|----------------------|------------------------------------------------------------------------------------------------------------------------------------------------------------------------------------------|\n",
    "| **Class Definition** |                                                                                                                                                                                          |\n",
    "| Class Name           | `KNearestPMedian` (subclass of `PMedian`)                                                                                                                                                |\n",
    "| Description          | Implements the P-Median Model with Near-Far Cost Allocation and solves it.                                                                                                             |\n",
    "|                      | Adapted from a specific citation and formulation.                                                                                                                                      |\n",
    "| **Parameters**       |                                                                                                                                                                                          |\n",
    "| `weights_sum`        | Sum of weights representing the service loads of clients.                                                                                                                               |\n",
    "| `clients`            | An array of coordinates of clients.                                                                                                                                                     |\n",
    "| `facilities`         | An array of coordinates of facilities.                                                                                                                                                  |\n",
    "| `weights`            | An array of weights representing the service loads of clients.                                                                                                                          |\n",
    "| `k_array`            | An array of k values representing the number of nearest facilities for each client.                                                                                                    |\n",
    "| `p_facilities`       | The number of facilities to be located.                                                                                                                                                 |\n",
    "| `capacities`         | An array of facility capacities (optional).                                                                                                                                             |\n",
    "| `distance_metric`    | The distance metric used for computing distances between clients and facilities.                                                                                                        |\n",
    "| `name`               | The problem name.                                                                                                                                                                       |\n",
    "| **Methods**          |                                                                                                                                                                                          |\n",
    "| `__init__`           | Constructor method to initialize class attributes and parameters.                                                                                                                      |\n",
    "| `__add_obj`          | Method to add the objective function to the model.                                                                                                                                     |\n",
    "| `from_cost_matrix`   | Static method (not supported in this subclass).                                                                                                                                         |\n",
    "| `_create_sparse_matrix` | Method to create a sparse matrix representing the distances between clients and their k nearest facilities.                                                                           |\n",
    "| `_update_k_array`    | Method to increase the k value for clients with `g_i` > 0 and update the k array.                                                                                                     |\n",
    "| `_from_sparse_matrix` | Method to create the problem from the sparse distance matrix.                                                                                                                           |\n",
    "| `from_geodataframe`  | Class method to create an instance from geodataframes.                                                                                                                                  |\n",
    "| `facility_client_array` | Method to create a 2D array storing facility to client relationships.                                                                                                                   |\n",
    "| `solve`              | Method to solve the k nearest p-median model iteratively.                                                                                                                              |\n",
    "| **Attributes**       |                                                                                                                                                                                          |\n",
    "| `sparse_matrix`      | Compressed Sparse Row matrix representing the distance matrix between clients and facilities.                                                                                          |\n",
    "| `aij`                | Compressed Sparse Row matrix storing the weighted cost matrix between clients and facilities.                                                                                          |\n",
    "| `problem`            | A `pulp` instance of an optimization model with constraints, variables, and an objective function.                                                                                     |\n",
    "| `fac2cli`            | A 2D array storing facility to client relationships.                                                                                                                                   |\n",
    "| `cli2fac`            | Inverse of `fac2cli` showing client to facility relationships.                                                                                                                          |"
   ]
  },
  {
   "cell_type": "markdown",
   "metadata": {},
   "source": [
    "## Use the New Model"
   ]
  },
  {
   "cell_type": "code",
   "execution_count": null,
   "metadata": {},
   "outputs": [],
   "source": []
  },
  {
   "cell_type": "markdown",
   "metadata": {},
   "source": [
    "### References:\n",
    "\n",
    "- [Church, R. L. (2018). Tobler’s Law and Spatial Optimization: Why Bakersfield? International Regional Science Review, 41(3), 287–310.](https://doi.org/10.1177/0160017616650612) "
   ]
  }
 ],
 "metadata": {
  "interpreter": {
   "hash": "40d3a090f54c6569ab1632332b64b2c03c39dcf918b08424e98f38b5ae0af88f"
  },
  "kernelspec": {
   "display_name": "Python 3",
   "language": "python",
   "name": "python3"
  },
  "language_info": {
   "codemirror_mode": {
    "name": "ipython",
    "version": 3
   },
   "file_extension": ".py",
   "mimetype": "text/x-python",
   "name": "python",
   "nbconvert_exporter": "python",
   "pygments_lexer": "ipython3",
   "version": "3.8.17"
  }
 },
 "nbformat": 4,
 "nbformat_minor": 2
}
