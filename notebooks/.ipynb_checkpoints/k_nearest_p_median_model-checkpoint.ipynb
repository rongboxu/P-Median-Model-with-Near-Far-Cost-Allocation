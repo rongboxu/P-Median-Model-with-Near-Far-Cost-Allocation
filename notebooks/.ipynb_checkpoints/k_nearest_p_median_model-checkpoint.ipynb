{
 "cells": [
  {
   "cell_type": "markdown",
   "metadata": {},
   "source": [
    "goal of this notebook: introduce this project and its results\n",
    "\n",
    "(what is k nearest p median and how to achieve it)\n",
    "\n",
    "towards the problem, we need to define things like:\n",
    "a. what type of input data belongs to? (from_cost_matrix/from_geodataframe/cost_dataframe. if from_geodataframe, the way to query the nearest facilities in spatial area)\n",
    "b. how to deal with placeholder facility? (decision variable for them, how it works. it considers the impact of far facility in a special way, no need to store the large data of them, but still indicates if the client needs them)\n",
    "c. how to deal with large na values enrousing from k nearest facilities? (normal matrix → sparse matrix. plus the latter has advantages like reducing storage space)\n",
    "\n",
    "moreover, at the level of programming design, we need to decide things like:\n",
    "a. what methods we need in this new class? (update k_list, create_sparse_matrix, solve, etc...)\n",
    "b. what are the parameters and attributes of the object, and how to use them during the whole process? (the model becomes one of the attributes of the object, we call it 'problem'. and each loop/iteration will refresh/update the 'problem', the k_list and the sparse matrix)\n",
    "c. what part we want to show to user, which part the user don't need to know? (we want the user to get access to the latest k_list besides the normal model results. and some methods, like, update k_list, create_sparse_matrix, the user don't need to know and use)"
   ]
  },
  {
   "cell_type": "markdown",
   "metadata": {},
   "source": [
    "# K Nearest P Median Problem and Implementation\n",
    "\n",
    "## Introduction\n",
    "\n",
    "The K Nearest P Median problem presents a unique twist on the classical P Median problem, enabling us to address location allocation challenges more effectively. In this notebook, we'll dive into the problem's formulation, explore the role of k nearest facilities, placeholder facilities, and sparse matrices, and showcase the implementation of the `KNearestPMedian` class in the `spopt` package.\n",
    "\n",
    "### Understanding the K Nearest P Median Problem\n",
    "\n",
    "The K Nearest P Median problem extends the concept of facility location allocation by considering both nearest and non-nearest facilities. In the article by Church (2018), it proposed this new p-median model which can distinguish between near and far facilities, use both explicit and implicit variables for capacity allocations. By implementing this model, the `spopt` package can provide more accurate and efficient solutions to spatial optimization problems, typically for the problems with large data points, and large demand volume.\n",
    "\n",
    "The model can be formulated as:\n",
    "\n",
    "$\\begin{array}\n",
    "       \\displaystyle \\textbf{Minimize} & \\displaystyle \\sum_{i \\in I}\\sum_{k \\in k_{i}}{a_i d_{ik} X_{ik}} + \\sum_{i \\in I}{g_i (d_{i{k_i}} + 1)}  &&& (1) \\\\\n",
    "       \\displaystyle \\textbf{Subject To} & \\sum_{k \\in k_{i}}{X_{ik} + g_i = 1} && \\forall i \\in I & (2) \\\\\n",
    "                                            & \\sum_{j \\in J}{Y_j} = p                                                                                   &&                                          & (3)                                                                               \\\\\n",
    "                                            & \\sum_{i \\in I}{a_i X_{ik}} \\leq {Y_{k} c_{k}}                                                             &&  \\forall k \\in k_{i}                     & (4)                                                                               \\\\  \n",
    "                                            & X_{ij} \\leq Y_{j}                                                                                         && \\forall i \\in I \\quad \\forall j \\in J    & (5)                                                                               \\\\\n",
    "                                            & X_{ij} \\in \\{0, 1\\}                                                                                       && \\forall i \\in I \\quad \\forall j \\in J    & (6)                                                                               \\\\\n",
    "                                            & Y_j \\in \\{0, 1\\}                                                                                          && \\forall j \\in J                          & (7)                                                                               \\\\\n",
    "                                            &                                                                                                           &&                                          &                                                                                   \\\\ \\end{array}$\n",
    "                                            \n",
    "$\\begin{array} \\displaystyle \\textbf{Where}&& i& =& \\textrm{index of demand points/areas/objects in set } I\\\\\n",
    "                                            && j                                                                                                        & =                                         & \\textrm{index of potential facility sites in set } J                              \\\\\n",
    "                                            && p                                                                                                        & =                                         & \\textrm{the number of facilities to be sited}                                     \\\\\n",
    "                                            && a_i                                                                                                      & =                                         & \\textrm{service load or population demand at client location } i                  \\\\\n",
    "                                            && k_{i}                                                                                                    & =                                         & \\textrm{the } k \\textrm{ nearest facilities of client location } i                        \\\\\n",
    "                                            && c_{j}                                                                                                    & =                                         & \\textrm{the capacity of facility} j                                               \\\\   \n",
    "                                            && d_{ij}                                                                                                   & =                                         & \\textrm{shortest distance or travel time between locations } i \\textrm{ and } j   \\\\\n",
    "                                            && X_{ij}                                                                                                   & =                                         & \\begin{cases}\n",
    "                                                                                                                                                                                                       1, \\textrm{if client location } i \\textrm{ is served by facility } j             \\\\\n",
    "                                                                                                                                                                                                       0, \\textrm{otherwise}                                                            \\\\\n",
    "                                                                                                                                                                                                      \\end{cases}                                                                       \\\\\n",
    "                                            && Y_j                                                                                                      & =                                         & \\begin{cases}\n",
    "                                                                                                                                                                                                       1, \\textrm{if a facility is sited at location } j                                \\\\\n",
    "                                                                                                                                                                                                       0, \\textrm{otherwise}                                                            \\\\\n",
    "                                                                                                                                                                                                      \\end{cases}                                                                       \\\\ \n",
    "                                            && g_i                                                                                                      & =                                         & \\begin{cases}\n",
    "                                                                                                                                                                                                       1, \\textrm{if the client } i {need to be served by non-k-nearest facilities}     \\\\\n",
    "                                                                                                                                                                                                       0, \\textrm{otherwise}                                                            \\\\\n",
    "                                                                                                                                                                                                      \\end{cases}                                                                       \\\\ \\end{array}$\n",
    "\n",
    "### Input Data Types: A Flexible Approach / Kdtree to get the nearest facilities\n",
    "\n",
    "To cater to diverse scenarios, the `KNearestPMedian` class supports multiple input data types:\n",
    "\n",
    "1. **From Cost Matrix:** Utilize precomputed distances between demand points and facility locations.\n",
    "2. **From GeoDataFrame:** Leverage geospatial data for dynamic distance calculations based on a chosen metric.\n",
    "3. **Cost DataFrame:** Employ a flexible cost matrix that accommodates various distance metrics.\n",
    "\n",
    "### Placeholder Facilities: Enhancing Solutions\n",
    "\n",
    "The K Nearest P Median problem introduces \"placeholder facilities\" to address scenarios where non-nearest facilities can yield better solutions. These placeholders bridge the gap between nearest facilities and strategically located options based on constraints.\n",
    "\n",
    "### Efficiency with Sparse Matrices\n",
    "\n",
    "Managing large datasets efficiently is paramount. The `KNearestPMedian` class employs sparse matrices to optimize memory usage while retaining computational efficiency for distance calculations.\n",
    "\n",
    "## The `KNearestPMedian` Class Implementation\n",
    "\n",
    "To exemplify these concepts, let's explore the `KNearestPMedian` class and its key methods:\n",
    "\n",
    "```python\n",
    "# Place the code from your implementation here\n"
   ]
  },
  {
   "cell_type": "code",
   "execution_count": null,
   "metadata": {},
   "outputs": [],
   "source": []
  }
 ],
 "metadata": {
  "interpreter": {
   "hash": "40d3a090f54c6569ab1632332b64b2c03c39dcf918b08424e98f38b5ae0af88f"
  },
  "kernelspec": {
   "display_name": "Python 3",
   "language": "python",
   "name": "python3"
  },
  "language_info": {
   "codemirror_mode": {
    "name": "ipython",
    "version": 3
   },
   "file_extension": ".py",
   "mimetype": "text/x-python",
   "name": "python",
   "nbconvert_exporter": "python",
   "pygments_lexer": "ipython3",
   "version": "3.8.3"
  }
 },
 "nbformat": 4,
 "nbformat_minor": 2
}
