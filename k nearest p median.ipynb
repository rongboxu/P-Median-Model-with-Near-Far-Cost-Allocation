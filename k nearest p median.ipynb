{
 "cells": [
  {
   "cell_type": "code",
   "execution_count": 1,
   "metadata": {},
   "outputs": [],
   "source": [
    "import pandas as pd\n",
    "import numpy as np\n",
    "from pulp import *"
   ]
  },
  {
   "cell_type": "markdown",
   "metadata": {},
   "source": [
    "### the p-median model with k nearest facilities"
   ]
  },
  {
   "cell_type": "markdown",
   "metadata": {},
   "source": [
    "For this first stage, only k nearest facilities will be imported in the model.    \n",
    "1. After importing original data, I create the new table only containing k nearest facilities.   \n",
    "2. To test the method, I use the test IOE data as I used for capacitated p-median case.   \n",
    "So in this model, the capacity constraint is still live.   \n",
    "3. In a broader case, it should be that, the sum of demand value of the facility can serve is no more than its capacity."
   ]
  },
  {
   "cell_type": "code",
   "execution_count": 2,
   "metadata": {},
   "outputs": [],
   "source": [
    "# import data\n",
    "time = pd.read_csv('data/example_subject_student_school_journeys.csv')\n",
    "time_table = (\n",
    "    time.pivot_table(\n",
    "        columns=\"school\",\n",
    "        fill_value=10000,\n",
    "        index=\"student\",\n",
    "        sort=False,\n",
    "        values=\"time\",\n",
    "    )\n",
    "    .astype(int)\n",
    "    .values\n",
    ")\n",
    "students_df = pd.read_csv('data/example_subject_students.csv')\n",
    "schools_df = pd.read_csv('data/example_subject_schools.csv')"
   ]
  },
  {
   "cell_type": "code",
   "execution_count": 3,
   "metadata": {},
   "outputs": [],
   "source": [
    "# find the k nearest facility from distance matrix\n",
    "\n",
    "# Define the value of k\n",
    "k = 5\n",
    "\n",
    "# Create an empty list to hold the rows\n",
    "rows = []\n",
    "\n",
    "# Iterate over each client point and add the k nearest facility indices to the new pivot table\n",
    "for client_idx in range(time_table.shape[0]):\n",
    "    distances = time_table[client_idx]\n",
    "    nearest_index = np.argsort(distances)[:k]\n",
    "    # Append rows to the list\n",
    "    for i in nearest_index:\n",
    "        row = {'client_id': client_idx, 'facility_id': i, 'distance': distances[i]}\n",
    "        rows.append(row)\n",
    "\n",
    "# Create a new_distance_df dataframe by concatenating the rows\n",
    "new_distance_df = pd.DataFrame(rows, columns=['client_id', 'facility_id', 'distance'])"
   ]
  },
  {
   "cell_type": "code",
   "execution_count": 4,
   "metadata": {},
   "outputs": [
    {
     "data": {
      "text/html": [
       "<div>\n",
       "<style scoped>\n",
       "    .dataframe tbody tr th:only-of-type {\n",
       "        vertical-align: middle;\n",
       "    }\n",
       "\n",
       "    .dataframe tbody tr th {\n",
       "        vertical-align: top;\n",
       "    }\n",
       "\n",
       "    .dataframe thead th {\n",
       "        text-align: right;\n",
       "    }\n",
       "</style>\n",
       "<table border=\"1\" class=\"dataframe\">\n",
       "  <thead>\n",
       "    <tr style=\"text-align: right;\">\n",
       "      <th></th>\n",
       "      <th>client_id</th>\n",
       "      <th>facility_id</th>\n",
       "      <th>distance</th>\n",
       "    </tr>\n",
       "  </thead>\n",
       "  <tbody>\n",
       "    <tr>\n",
       "      <th>0</th>\n",
       "      <td>0</td>\n",
       "      <td>68</td>\n",
       "      <td>53</td>\n",
       "    </tr>\n",
       "    <tr>\n",
       "      <th>1</th>\n",
       "      <td>0</td>\n",
       "      <td>49</td>\n",
       "      <td>55</td>\n",
       "    </tr>\n",
       "    <tr>\n",
       "      <th>2</th>\n",
       "      <td>0</td>\n",
       "      <td>67</td>\n",
       "      <td>56</td>\n",
       "    </tr>\n",
       "    <tr>\n",
       "      <th>3</th>\n",
       "      <td>0</td>\n",
       "      <td>32</td>\n",
       "      <td>59</td>\n",
       "    </tr>\n",
       "    <tr>\n",
       "      <th>4</th>\n",
       "      <td>0</td>\n",
       "      <td>66</td>\n",
       "      <td>60</td>\n",
       "    </tr>\n",
       "    <tr>\n",
       "      <th>5</th>\n",
       "      <td>1</td>\n",
       "      <td>52</td>\n",
       "      <td>18</td>\n",
       "    </tr>\n",
       "    <tr>\n",
       "      <th>6</th>\n",
       "      <td>1</td>\n",
       "      <td>42</td>\n",
       "      <td>46</td>\n",
       "    </tr>\n",
       "    <tr>\n",
       "      <th>7</th>\n",
       "      <td>1</td>\n",
       "      <td>41</td>\n",
       "      <td>48</td>\n",
       "    </tr>\n",
       "    <tr>\n",
       "      <th>8</th>\n",
       "      <td>1</td>\n",
       "      <td>43</td>\n",
       "      <td>49</td>\n",
       "    </tr>\n",
       "    <tr>\n",
       "      <th>9</th>\n",
       "      <td>1</td>\n",
       "      <td>50</td>\n",
       "      <td>55</td>\n",
       "    </tr>\n",
       "  </tbody>\n",
       "</table>\n",
       "</div>"
      ],
      "text/plain": [
       "   client_id  facility_id  distance\n",
       "0          0           68        53\n",
       "1          0           49        55\n",
       "2          0           67        56\n",
       "3          0           32        59\n",
       "4          0           66        60\n",
       "5          1           52        18\n",
       "6          1           42        46\n",
       "7          1           41        48\n",
       "8          1           43        49\n",
       "9          1           50        55"
      ]
     },
     "execution_count": 4,
     "metadata": {},
     "output_type": "execute_result"
    }
   ],
   "source": [
    "new_distance_df.head(10)"
   ]
  },
  {
   "cell_type": "code",
   "execution_count": 5,
   "metadata": {},
   "outputs": [],
   "source": [
    "# transform the new df to the pivot table\n",
    "new_time_table = (\n",
    "    new_distance_df.pivot_table(\n",
    "        columns=\"facility_id\",\n",
    "        fill_value=10000,\n",
    "        index=\"client_id\",\n",
    "        sort=False,\n",
    "        values=\"distance\",\n",
    "    )\n",
    "    .astype(int)\n",
    "    .values\n",
    ")"
   ]
  },
  {
   "cell_type": "code",
   "execution_count": 7,
   "metadata": {},
   "outputs": [
    {
     "data": {
      "text/plain": [
       "array([[10000, 10000, 10000, 10000, 10000, 10000, 10000, 10000, 10000,\n",
       "        10000, 10000, 10000, 10000, 10000,    59, 10000, 10000, 10000,\n",
       "        10000, 10000, 10000, 10000, 10000,    55, 10000, 10000, 10000,\n",
       "        10000,    60,    56,    53, 10000],\n",
       "       [10000, 10000, 10000, 10000, 10000, 10000, 10000, 10000, 10000,\n",
       "        10000, 10000, 10000, 10000, 10000, 10000, 10000, 10000, 10000,\n",
       "        10000, 10000,    48,    46,    49, 10000,    55,    18, 10000,\n",
       "        10000, 10000, 10000, 10000, 10000],\n",
       "       [10000, 10000,     8, 10000, 10000, 10000,    15,    15,    13,\n",
       "            8, 10000, 10000, 10000, 10000, 10000, 10000, 10000, 10000,\n",
       "        10000, 10000, 10000, 10000, 10000, 10000, 10000, 10000, 10000,\n",
       "        10000, 10000, 10000, 10000, 10000],\n",
       "       [  130, 10000, 10000, 10000, 10000,   147, 10000, 10000, 10000,\n",
       "        10000, 10000, 10000, 10000,   153, 10000, 10000,   152,   151,\n",
       "        10000, 10000, 10000, 10000, 10000, 10000, 10000, 10000, 10000,\n",
       "        10000, 10000, 10000, 10000, 10000]])"
      ]
     },
     "execution_count": 7,
     "metadata": {},
     "output_type": "execute_result"
    }
   ],
   "source": [
    "new_time_table[:4]"
   ]
  },
  {
   "cell_type": "code",
   "execution_count": 20,
   "metadata": {},
   "outputs": [
    {
     "data": {
      "text/html": [
       "<div>\n",
       "<style scoped>\n",
       "    .dataframe tbody tr th:only-of-type {\n",
       "        vertical-align: middle;\n",
       "    }\n",
       "\n",
       "    .dataframe tbody tr th {\n",
       "        vertical-align: top;\n",
       "    }\n",
       "\n",
       "    .dataframe thead th {\n",
       "        text-align: right;\n",
       "    }\n",
       "</style>\n",
       "<table border=\"1\" class=\"dataframe\">\n",
       "  <thead>\n",
       "    <tr style=\"text-align: right;\">\n",
       "      <th></th>\n",
       "      <th>facility_id</th>\n",
       "      <th>Unnamed: 0</th>\n",
       "      <th>SE2 PP: Code</th>\n",
       "      <th>SE2 PP: PC</th>\n",
       "      <th>PL: Subject</th>\n",
       "      <th>Count</th>\n",
       "      <th>priority</th>\n",
       "    </tr>\n",
       "  </thead>\n",
       "  <tbody>\n",
       "    <tr>\n",
       "      <th>0</th>\n",
       "      <td>1</td>\n",
       "      <td>1</td>\n",
       "      <td>IOE00044</td>\n",
       "      <td>NW11RX</td>\n",
       "      <td>Mathematics</td>\n",
       "      <td>1</td>\n",
       "      <td>3.0</td>\n",
       "    </tr>\n",
       "    <tr>\n",
       "      <th>1</th>\n",
       "      <td>2</td>\n",
       "      <td>2</td>\n",
       "      <td>IOE00045</td>\n",
       "      <td>NW23RT</td>\n",
       "      <td>Mathematics</td>\n",
       "      <td>1</td>\n",
       "      <td>3.0</td>\n",
       "    </tr>\n",
       "    <tr>\n",
       "      <th>2</th>\n",
       "      <td>5</td>\n",
       "      <td>5</td>\n",
       "      <td>IOE00128</td>\n",
       "      <td>E28LS</td>\n",
       "      <td>Mathematics</td>\n",
       "      <td>1</td>\n",
       "      <td>2.0</td>\n",
       "    </tr>\n",
       "    <tr>\n",
       "      <th>3</th>\n",
       "      <td>8</td>\n",
       "      <td>8</td>\n",
       "      <td>IOE00172</td>\n",
       "      <td>SW64UN</td>\n",
       "      <td>Mathematics</td>\n",
       "      <td>1</td>\n",
       "      <td>3.0</td>\n",
       "    </tr>\n",
       "    <tr>\n",
       "      <th>4</th>\n",
       "      <td>12</td>\n",
       "      <td>12</td>\n",
       "      <td>IOE00348</td>\n",
       "      <td>SE264RD</td>\n",
       "      <td>Mathematics</td>\n",
       "      <td>1</td>\n",
       "      <td>2.0</td>\n",
       "    </tr>\n",
       "  </tbody>\n",
       "</table>\n",
       "</div>"
      ],
      "text/plain": [
       "   facility_id  Unnamed: 0 SE2 PP: Code SE2 PP: PC  PL: Subject  Count  \\\n",
       "0            1           1     IOE00044     NW11RX  Mathematics      1   \n",
       "1            2           2     IOE00045     NW23RT  Mathematics      1   \n",
       "2            5           5     IOE00128      E28LS  Mathematics      1   \n",
       "3            8           8     IOE00172     SW64UN  Mathematics      1   \n",
       "4           12          12     IOE00348    SE264RD  Mathematics      1   \n",
       "\n",
       "   priority  \n",
       "0       3.0  \n",
       "1       3.0  \n",
       "2       2.0  \n",
       "3       3.0  \n",
       "4       2.0  "
      ]
     },
     "execution_count": 20,
     "metadata": {},
     "output_type": "execute_result"
    }
   ],
   "source": [
    "# create capacity df\n",
    "new_school_index =  new_distance_df['facility_id'].sort_values().unique()\n",
    "new_school_df = pd.DataFrame({'facility_id': new_school_index})\n",
    "\n",
    "new_school_df = new_school_df.merge(schools_df, left_on='facility_id',right_on='Unnamed: 0', how='left')\n",
    "new_school_df.head(5)"
   ]
  },
  {
   "cell_type": "code",
   "execution_count": 10,
   "metadata": {},
   "outputs": [],
   "source": [
    "# set the parameter\n",
    "school_indices = range(len(new_time_table[0]))\n",
    "student_indices = range(len(new_time_table))"
   ]
  },
  {
   "cell_type": "code",
   "execution_count": 22,
   "metadata": {},
   "outputs": [
    {
     "data": {
      "text/plain": [
       "1"
      ]
     },
     "execution_count": 22,
     "metadata": {},
     "output_type": "execute_result"
    }
   ],
   "source": [
    "# p-median model considering k nearest facility\n",
    "\n",
    "from pulp import *\n",
    "import gurobipy\n",
    "\n",
    "prob = pulp.LpProblem(\"k-nearest\", LpMinimize)\n",
    "\n",
    "# create decision variable: whether student i is assigned to school j\n",
    "decision = LpVariable.dicts(\"x\", ((i, j) for i in student_indices for j in school_indices), 0, 1, LpBinary)\n",
    "\n",
    "# set the objective function to minimize the total distance travelled\n",
    "objective = pulp.lpSum(\n",
    "    pulp.lpSum(decision[i,j] * new_time_table[i,j] for j in school_indices) \n",
    "    for i in student_indices)\n",
    "prob += objective\n",
    "\n",
    "# add all the constraints\n",
    "\n",
    "# 1. Each client is assigned to a facility\n",
    "for i in student_indices:\n",
    "    prob +=  pulp.lpSum(decision[i,j] for j in school_indices) == 1\n",
    "\n",
    "# 2. Demand value the facility can serve is no more than its capacity.\n",
    "for j in school_indices:\n",
    "    prob +=  pulp.lpSum(decision[i,j] for i in student_indices) <= new_school_df['Count'][j]\n",
    "    \n",
    "# solve the problem\n",
    "prob.solve(pulp.PULP_CBC_CMD(msg=False))"
   ]
  },
  {
   "cell_type": "code",
   "execution_count": 23,
   "metadata": {},
   "outputs": [
    {
     "name": "stdout",
     "output_type": "stream",
     "text": [
      "0 30\n",
      "1 25\n",
      "2 9\n",
      "3 0\n",
      "4 3\n",
      "5 29\n",
      "6 23\n",
      "7 17\n",
      "8 27\n",
      "9 31\n"
     ]
    }
   ],
   "source": [
    "for i in student_indices:\n",
    "    for j in school_indices:\n",
    "        if decision[i,j].value() == 1:\n",
    "            print(i,j)"
   ]
  }
 ],
 "metadata": {
  "interpreter": {
   "hash": "40d3a090f54c6569ab1632332b64b2c03c39dcf918b08424e98f38b5ae0af88f"
  },
  "kernelspec": {
   "display_name": "Python 3.8.3 ('base')",
   "language": "python",
   "name": "python3"
  },
  "language_info": {
   "codemirror_mode": {
    "name": "ipython",
    "version": 3
   },
   "file_extension": ".py",
   "mimetype": "text/x-python",
   "name": "python",
   "nbconvert_exporter": "python",
   "pygments_lexer": "ipython3",
   "version": "3.8.3"
  },
  "orig_nbformat": 4
 },
 "nbformat": 4,
 "nbformat_minor": 2
}
