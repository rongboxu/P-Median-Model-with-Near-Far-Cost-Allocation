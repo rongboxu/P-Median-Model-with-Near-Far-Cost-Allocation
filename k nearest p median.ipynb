{
 "cells": [
  {
   "cell_type": "code",
   "execution_count": 15,
   "metadata": {},
   "outputs": [],
   "source": [
    "import pandas as pd\n",
    "import numpy as np\n",
    "from pulp import *"
   ]
  },
  {
   "cell_type": "markdown",
   "metadata": {},
   "source": [
    "### (old) the p-median model with k nearest facilities"
   ]
  },
  {
   "cell_type": "markdown",
   "metadata": {},
   "source": [
    "For this first stage, only k nearest facilities will be imported in the model.    \n",
    "1. After importing original data, I create the new table only containing k nearest facilities.   \n",
    "2. To test the method, I use the test IOE data as I used for capacitated p-median case.   \n",
    "So in this model, the capacity constraint is still live.   \n",
    "3. In a broader case, it should be that, the sum of demand value of the facility can serve is no more than its capacity."
   ]
  },
  {
   "cell_type": "code",
   "execution_count": 16,
   "metadata": {},
   "outputs": [],
   "source": [
    "# import data\n",
    "time = pd.read_csv('data/example_subject_student_school_journeys.csv')\n",
    "time_table = (\n",
    "    time.pivot_table(\n",
    "        columns=\"school\",\n",
    "        fill_value=10000,\n",
    "        index=\"student\",\n",
    "        sort=False,\n",
    "        values=\"time\",\n",
    "    )\n",
    "    .astype(int)\n",
    "    .values\n",
    ")\n",
    "students_df = pd.read_csv('data/example_subject_students.csv')\n",
    "schools_df = pd.read_csv('data/example_subject_schools.csv')"
   ]
  },
  {
   "cell_type": "code",
   "execution_count": 17,
   "metadata": {},
   "outputs": [],
   "source": [
    "# find the k nearest facility from distance matrix\n",
    "\n",
    "# Define the value of k\n",
    "k = 5\n",
    "\n",
    "# Create an empty list to hold the rows\n",
    "rows = []\n",
    "\n",
    "# Iterate over each client point and add the k nearest facility indices to the new pivot table\n",
    "for client_idx in range(time_table.shape[0]):\n",
    "    distances = time_table[client_idx]\n",
    "    nearest_index = np.argsort(distances)[:k]\n",
    "    # Append rows to the list\n",
    "    for i in nearest_index:\n",
    "        row = {'client_id': client_idx, 'facility_id': i, 'distance': distances[i]}\n",
    "        rows.append(row)\n",
    "\n",
    "# Create a new_distance_df dataframe by concatenating the rows\n",
    "new_distance_df = pd.DataFrame(rows, columns=['client_id', 'facility_id', 'distance'])"
   ]
  },
  {
   "cell_type": "code",
   "execution_count": 18,
   "metadata": {},
   "outputs": [
    {
     "data": {
      "text/html": [
       "<div>\n",
       "<style scoped>\n",
       "    .dataframe tbody tr th:only-of-type {\n",
       "        vertical-align: middle;\n",
       "    }\n",
       "\n",
       "    .dataframe tbody tr th {\n",
       "        vertical-align: top;\n",
       "    }\n",
       "\n",
       "    .dataframe thead th {\n",
       "        text-align: right;\n",
       "    }\n",
       "</style>\n",
       "<table border=\"1\" class=\"dataframe\">\n",
       "  <thead>\n",
       "    <tr style=\"text-align: right;\">\n",
       "      <th></th>\n",
       "      <th>client_id</th>\n",
       "      <th>facility_id</th>\n",
       "      <th>distance</th>\n",
       "    </tr>\n",
       "  </thead>\n",
       "  <tbody>\n",
       "    <tr>\n",
       "      <th>0</th>\n",
       "      <td>0</td>\n",
       "      <td>68</td>\n",
       "      <td>53</td>\n",
       "    </tr>\n",
       "    <tr>\n",
       "      <th>1</th>\n",
       "      <td>0</td>\n",
       "      <td>49</td>\n",
       "      <td>55</td>\n",
       "    </tr>\n",
       "    <tr>\n",
       "      <th>2</th>\n",
       "      <td>0</td>\n",
       "      <td>67</td>\n",
       "      <td>56</td>\n",
       "    </tr>\n",
       "    <tr>\n",
       "      <th>3</th>\n",
       "      <td>0</td>\n",
       "      <td>32</td>\n",
       "      <td>59</td>\n",
       "    </tr>\n",
       "    <tr>\n",
       "      <th>4</th>\n",
       "      <td>0</td>\n",
       "      <td>66</td>\n",
       "      <td>60</td>\n",
       "    </tr>\n",
       "    <tr>\n",
       "      <th>5</th>\n",
       "      <td>1</td>\n",
       "      <td>52</td>\n",
       "      <td>18</td>\n",
       "    </tr>\n",
       "    <tr>\n",
       "      <th>6</th>\n",
       "      <td>1</td>\n",
       "      <td>42</td>\n",
       "      <td>46</td>\n",
       "    </tr>\n",
       "    <tr>\n",
       "      <th>7</th>\n",
       "      <td>1</td>\n",
       "      <td>41</td>\n",
       "      <td>48</td>\n",
       "    </tr>\n",
       "    <tr>\n",
       "      <th>8</th>\n",
       "      <td>1</td>\n",
       "      <td>43</td>\n",
       "      <td>49</td>\n",
       "    </tr>\n",
       "    <tr>\n",
       "      <th>9</th>\n",
       "      <td>1</td>\n",
       "      <td>50</td>\n",
       "      <td>55</td>\n",
       "    </tr>\n",
       "  </tbody>\n",
       "</table>\n",
       "</div>"
      ],
      "text/plain": [
       "   client_id  facility_id  distance\n",
       "0          0           68        53\n",
       "1          0           49        55\n",
       "2          0           67        56\n",
       "3          0           32        59\n",
       "4          0           66        60\n",
       "5          1           52        18\n",
       "6          1           42        46\n",
       "7          1           41        48\n",
       "8          1           43        49\n",
       "9          1           50        55"
      ]
     },
     "execution_count": 18,
     "metadata": {},
     "output_type": "execute_result"
    }
   ],
   "source": [
    "new_distance_df.head(10)"
   ]
  },
  {
   "cell_type": "code",
   "execution_count": 19,
   "metadata": {},
   "outputs": [],
   "source": [
    "# transform the new df to the pivot table\n",
    "new_time_table = (\n",
    "    new_distance_df.pivot_table(\n",
    "        columns=\"facility_id\",\n",
    "        fill_value=10000,\n",
    "        index=\"client_id\",\n",
    "        sort=False,\n",
    "        values=\"distance\",\n",
    "    )\n",
    "    .astype(int)\n",
    "    .values\n",
    ")"
   ]
  },
  {
   "cell_type": "code",
   "execution_count": 20,
   "metadata": {},
   "outputs": [
    {
     "data": {
      "text/plain": [
       "array([[10000, 10000, 10000, 10000, 10000, 10000, 10000, 10000, 10000,\n",
       "        10000, 10000, 10000, 10000, 10000,    59, 10000, 10000, 10000,\n",
       "        10000, 10000, 10000, 10000, 10000,    55, 10000, 10000, 10000,\n",
       "        10000,    60,    56,    53, 10000],\n",
       "       [10000, 10000, 10000, 10000, 10000, 10000, 10000, 10000, 10000,\n",
       "        10000, 10000, 10000, 10000, 10000, 10000, 10000, 10000, 10000,\n",
       "        10000, 10000,    48,    46,    49, 10000,    55,    18, 10000,\n",
       "        10000, 10000, 10000, 10000, 10000],\n",
       "       [10000, 10000,     8, 10000, 10000, 10000,    15,    15,    13,\n",
       "            8, 10000, 10000, 10000, 10000, 10000, 10000, 10000, 10000,\n",
       "        10000, 10000, 10000, 10000, 10000, 10000, 10000, 10000, 10000,\n",
       "        10000, 10000, 10000, 10000, 10000],\n",
       "       [  130, 10000, 10000, 10000, 10000,   147, 10000, 10000, 10000,\n",
       "        10000, 10000, 10000, 10000,   153, 10000, 10000,   152,   151,\n",
       "        10000, 10000, 10000, 10000, 10000, 10000, 10000, 10000, 10000,\n",
       "        10000, 10000, 10000, 10000, 10000]])"
      ]
     },
     "execution_count": 20,
     "metadata": {},
     "output_type": "execute_result"
    }
   ],
   "source": [
    "new_time_table[:4]"
   ]
  },
  {
   "cell_type": "code",
   "execution_count": 21,
   "metadata": {},
   "outputs": [
    {
     "data": {
      "text/html": [
       "<div>\n",
       "<style scoped>\n",
       "    .dataframe tbody tr th:only-of-type {\n",
       "        vertical-align: middle;\n",
       "    }\n",
       "\n",
       "    .dataframe tbody tr th {\n",
       "        vertical-align: top;\n",
       "    }\n",
       "\n",
       "    .dataframe thead th {\n",
       "        text-align: right;\n",
       "    }\n",
       "</style>\n",
       "<table border=\"1\" class=\"dataframe\">\n",
       "  <thead>\n",
       "    <tr style=\"text-align: right;\">\n",
       "      <th></th>\n",
       "      <th>facility_id</th>\n",
       "      <th>Unnamed: 0</th>\n",
       "      <th>SE2 PP: Code</th>\n",
       "      <th>SE2 PP: PC</th>\n",
       "      <th>PL: Subject</th>\n",
       "      <th>Count</th>\n",
       "      <th>priority</th>\n",
       "    </tr>\n",
       "  </thead>\n",
       "  <tbody>\n",
       "    <tr>\n",
       "      <th>0</th>\n",
       "      <td>1</td>\n",
       "      <td>1</td>\n",
       "      <td>IOE00044</td>\n",
       "      <td>NW11RX</td>\n",
       "      <td>Mathematics</td>\n",
       "      <td>1</td>\n",
       "      <td>3.0</td>\n",
       "    </tr>\n",
       "    <tr>\n",
       "      <th>1</th>\n",
       "      <td>2</td>\n",
       "      <td>2</td>\n",
       "      <td>IOE00045</td>\n",
       "      <td>NW23RT</td>\n",
       "      <td>Mathematics</td>\n",
       "      <td>1</td>\n",
       "      <td>3.0</td>\n",
       "    </tr>\n",
       "    <tr>\n",
       "      <th>2</th>\n",
       "      <td>5</td>\n",
       "      <td>5</td>\n",
       "      <td>IOE00128</td>\n",
       "      <td>E28LS</td>\n",
       "      <td>Mathematics</td>\n",
       "      <td>1</td>\n",
       "      <td>2.0</td>\n",
       "    </tr>\n",
       "    <tr>\n",
       "      <th>3</th>\n",
       "      <td>8</td>\n",
       "      <td>8</td>\n",
       "      <td>IOE00172</td>\n",
       "      <td>SW64UN</td>\n",
       "      <td>Mathematics</td>\n",
       "      <td>1</td>\n",
       "      <td>3.0</td>\n",
       "    </tr>\n",
       "    <tr>\n",
       "      <th>4</th>\n",
       "      <td>12</td>\n",
       "      <td>12</td>\n",
       "      <td>IOE00348</td>\n",
       "      <td>SE264RD</td>\n",
       "      <td>Mathematics</td>\n",
       "      <td>1</td>\n",
       "      <td>2.0</td>\n",
       "    </tr>\n",
       "  </tbody>\n",
       "</table>\n",
       "</div>"
      ],
      "text/plain": [
       "   facility_id  Unnamed: 0 SE2 PP: Code SE2 PP: PC  PL: Subject  Count  \\\n",
       "0            1           1     IOE00044     NW11RX  Mathematics      1   \n",
       "1            2           2     IOE00045     NW23RT  Mathematics      1   \n",
       "2            5           5     IOE00128      E28LS  Mathematics      1   \n",
       "3            8           8     IOE00172     SW64UN  Mathematics      1   \n",
       "4           12          12     IOE00348    SE264RD  Mathematics      1   \n",
       "\n",
       "   priority  \n",
       "0       3.0  \n",
       "1       3.0  \n",
       "2       2.0  \n",
       "3       3.0  \n",
       "4       2.0  "
      ]
     },
     "execution_count": 21,
     "metadata": {},
     "output_type": "execute_result"
    }
   ],
   "source": [
    "# create capacity df\n",
    "new_school_index =  new_distance_df['facility_id'].sort_values().unique()\n",
    "new_school_df = pd.DataFrame({'facility_id': new_school_index})\n",
    "\n",
    "new_school_df = new_school_df.merge(schools_df, left_on='facility_id',right_on='Unnamed: 0', how='left')\n",
    "new_school_df.head(5)"
   ]
  },
  {
   "cell_type": "code",
   "execution_count": 22,
   "metadata": {},
   "outputs": [],
   "source": [
    "# set the parameter\n",
    "school_indices = range(len(new_time_table[0]))\n",
    "student_indices = range(len(new_time_table))"
   ]
  },
  {
   "cell_type": "code",
   "execution_count": 23,
   "metadata": {},
   "outputs": [
    {
     "data": {
      "text/plain": [
       "1"
      ]
     },
     "execution_count": 23,
     "metadata": {},
     "output_type": "execute_result"
    }
   ],
   "source": [
    "# p-median model considering k nearest facility\n",
    "\n",
    "from pulp import *\n",
    "import gurobipy\n",
    "\n",
    "prob = pulp.LpProblem(\"k-nearest\", LpMinimize)\n",
    "\n",
    "# create decision variable: whether student i is assigned to school j\n",
    "decision = LpVariable.dicts(\"x\", ((i, j) for i in student_indices for j in school_indices), 0, 1, LpBinary)\n",
    "\n",
    "# set the objective function to minimize the total distance travelled\n",
    "objective = pulp.lpSum(\n",
    "    pulp.lpSum(decision[i,j] * new_time_table[i,j] for j in school_indices) \n",
    "    for i in student_indices)\n",
    "prob += objective\n",
    "\n",
    "# add all the constraints\n",
    "\n",
    "# 1. Each client is assigned to a facility\n",
    "for i in student_indices:\n",
    "    prob +=  pulp.lpSum(decision[i,j] for j in school_indices) == 1\n",
    "\n",
    "# 2. Demand value the facility can serve is no more than its capacity.\n",
    "for j in school_indices:\n",
    "    prob +=  pulp.lpSum(decision[i,j] for i in student_indices) <= new_school_df['Count'][j]\n",
    "    \n",
    "# solve the problem\n",
    "prob.solve(pulp.PULP_CBC_CMD(msg=False))"
   ]
  },
  {
   "cell_type": "code",
   "execution_count": 24,
   "metadata": {},
   "outputs": [
    {
     "name": "stdout",
     "output_type": "stream",
     "text": [
      "0 30\n",
      "1 25\n",
      "2 9\n",
      "3 0\n",
      "4 3\n",
      "5 29\n",
      "6 23\n",
      "7 17\n",
      "8 27\n",
      "9 31\n"
     ]
    }
   ],
   "source": [
    "for i in student_indices:\n",
    "    for j in school_indices:\n",
    "        if decision[i,j].value() == 1:\n",
    "            print(i,j)"
   ]
  },
  {
   "cell_type": "markdown",
   "metadata": {},
   "source": [
    "### (old) second stage: find the infeasible K and implement the extra facility"
   ]
  },
  {
   "cell_type": "code",
   "execution_count": 25,
   "metadata": {},
   "outputs": [],
   "source": [
    "# define the function to get the new distance matrix only with k nearest facilities\n",
    "def get_k_facilities(k, distance_array):\n",
    "\n",
    "    # Create an empty list to hold the rows\n",
    "    rows = []\n",
    "\n",
    "    # Iterate over each client point and add the k nearest facility indices to the new pivot table\n",
    "    for client_idx in range(distance_array.shape[0]):\n",
    "        distances = distance_array[client_idx]\n",
    "        nearest_index = np.argsort(distances)[:k]\n",
    "        # Append rows to the list\n",
    "        for i in nearest_index:\n",
    "            row = {'client_id': client_idx, 'facility_id': i, 'distance': distances[i]}\n",
    "            rows.append(row)\n",
    "\n",
    "    # Create a new_distance_df dataframe by concatenating the rows\n",
    "    new_distance_df = pd.DataFrame(rows, columns=['client_id', 'facility_id', 'distance'])\n",
    "\n",
    "    # create new distance matrix\n",
    "    new_distance_array = (\n",
    "    new_distance_df.pivot_table(\n",
    "        columns=\"facility_id\",\n",
    "        fill_value=10000,\n",
    "        index=\"client_id\",\n",
    "        sort=False,\n",
    "        values=\"distance\",\n",
    "    )\n",
    "    .astype(int)\n",
    "    .values\n",
    "    )\n",
    "\n",
    "    return new_distance_df, new_distance_array"
   ]
  },
  {
   "cell_type": "code",
   "execution_count": 26,
   "metadata": {},
   "outputs": [],
   "source": [
    "# define the function to get the capacity df\n",
    "def get_capacity(new_distance_df,schools_df):\n",
    "\n",
    "    new_school_index = new_distance_df['facility_id'].sort_values().unique()\n",
    "    new_school_df = pd.DataFrame({'facility_id': new_school_index})\n",
    "\n",
    "    new_school_df = new_school_df.merge(schools_df, left_on='facility_id',right_on='Unnamed: 0', how='left')\n",
    "    return new_school_df"
   ]
  },
  {
   "cell_type": "markdown",
   "metadata": {},
   "source": [
    "#### (old) try k = 2"
   ]
  },
  {
   "cell_type": "code",
   "execution_count": 27,
   "metadata": {},
   "outputs": [],
   "source": [
    "# try k = 2\n",
    "distance_2_df, distance_2_arr = get_k_facilities(2, time_table)\n",
    "school_2_df = get_capacity(distance_2_df, schools_df)"
   ]
  },
  {
   "cell_type": "code",
   "execution_count": 28,
   "metadata": {},
   "outputs": [
    {
     "data": {
      "text/plain": [
       "1"
      ]
     },
     "execution_count": 28,
     "metadata": {},
     "output_type": "execute_result"
    }
   ],
   "source": [
    "# p-median model\n",
    "\n",
    "prob_2 = pulp.LpProblem(\"k-nearest-2\", LpMinimize)\n",
    "\n",
    "# set the parameter\n",
    "school_2_indices = range(len(distance_2_arr[0]))\n",
    "\n",
    "# create decision variable: whether student i is assigned to school j\n",
    "decision_2 = LpVariable.dicts(\"x\", ((i, j) for i in student_indices for j in school_2_indices), 0, 1, LpBinary)\n",
    "\n",
    "# set the objective function to minimize the total distance travelled\n",
    "objective_2 = pulp.lpSum(\n",
    "    pulp.lpSum(decision_2[i,j] * distance_2_arr[i,j] for j in school_2_indices) \n",
    "    for i in student_indices)\n",
    "prob_2 += objective_2\n",
    "\n",
    "# add all the constraints\n",
    "# 1. Each client is assigned to a facility\n",
    "for i in student_indices:\n",
    "    prob_2 +=  pulp.lpSum(decision_2[i,j] for j in school_2_indices) == 1\n",
    "\n",
    "# 2. Demand value the facility can serve is no more than its capacity.\n",
    "for j in school_2_indices:\n",
    "    prob_2 +=  pulp.lpSum(decision_2[i,j] for i in student_indices) <= school_2_df['Count'][j]\n",
    "    \n",
    "# solve the problem\n",
    "prob_2.solve(pulp.PULP_CBC_CMD(msg=False))"
   ]
  },
  {
   "cell_type": "code",
   "execution_count": 29,
   "metadata": {},
   "outputs": [
    {
     "data": {
      "text/html": [
       "<div>\n",
       "<style scoped>\n",
       "    .dataframe tbody tr th:only-of-type {\n",
       "        vertical-align: middle;\n",
       "    }\n",
       "\n",
       "    .dataframe tbody tr th {\n",
       "        vertical-align: top;\n",
       "    }\n",
       "\n",
       "    .dataframe thead th {\n",
       "        text-align: right;\n",
       "    }\n",
       "</style>\n",
       "<table border=\"1\" class=\"dataframe\">\n",
       "  <thead>\n",
       "    <tr style=\"text-align: right;\">\n",
       "      <th></th>\n",
       "      <th>client_id</th>\n",
       "      <th>facility_id</th>\n",
       "      <th>distance</th>\n",
       "    </tr>\n",
       "  </thead>\n",
       "  <tbody>\n",
       "    <tr>\n",
       "      <th>0</th>\n",
       "      <td>0</td>\n",
       "      <td>68</td>\n",
       "      <td>53</td>\n",
       "    </tr>\n",
       "    <tr>\n",
       "      <th>1</th>\n",
       "      <td>0</td>\n",
       "      <td>49</td>\n",
       "      <td>55</td>\n",
       "    </tr>\n",
       "    <tr>\n",
       "      <th>2</th>\n",
       "      <td>1</td>\n",
       "      <td>52</td>\n",
       "      <td>18</td>\n",
       "    </tr>\n",
       "    <tr>\n",
       "      <th>3</th>\n",
       "      <td>1</td>\n",
       "      <td>42</td>\n",
       "      <td>46</td>\n",
       "    </tr>\n",
       "    <tr>\n",
       "      <th>4</th>\n",
       "      <td>2</td>\n",
       "      <td>5</td>\n",
       "      <td>8</td>\n",
       "    </tr>\n",
       "    <tr>\n",
       "      <th>5</th>\n",
       "      <td>2</td>\n",
       "      <td>19</td>\n",
       "      <td>8</td>\n",
       "    </tr>\n",
       "    <tr>\n",
       "      <th>6</th>\n",
       "      <td>3</td>\n",
       "      <td>1</td>\n",
       "      <td>130</td>\n",
       "    </tr>\n",
       "    <tr>\n",
       "      <th>7</th>\n",
       "      <td>3</td>\n",
       "      <td>13</td>\n",
       "      <td>147</td>\n",
       "    </tr>\n",
       "    <tr>\n",
       "      <th>8</th>\n",
       "      <td>4</td>\n",
       "      <td>21</td>\n",
       "      <td>83</td>\n",
       "    </tr>\n",
       "    <tr>\n",
       "      <th>9</th>\n",
       "      <td>4</td>\n",
       "      <td>8</td>\n",
       "      <td>83</td>\n",
       "    </tr>\n",
       "    <tr>\n",
       "      <th>10</th>\n",
       "      <td>5</td>\n",
       "      <td>67</td>\n",
       "      <td>39</td>\n",
       "    </tr>\n",
       "    <tr>\n",
       "      <th>11</th>\n",
       "      <td>5</td>\n",
       "      <td>2</td>\n",
       "      <td>42</td>\n",
       "    </tr>\n",
       "    <tr>\n",
       "      <th>12</th>\n",
       "      <td>6</td>\n",
       "      <td>49</td>\n",
       "      <td>78</td>\n",
       "    </tr>\n",
       "    <tr>\n",
       "      <th>13</th>\n",
       "      <td>6</td>\n",
       "      <td>50</td>\n",
       "      <td>81</td>\n",
       "    </tr>\n",
       "    <tr>\n",
       "      <th>14</th>\n",
       "      <td>7</td>\n",
       "      <td>36</td>\n",
       "      <td>102</td>\n",
       "    </tr>\n",
       "    <tr>\n",
       "      <th>15</th>\n",
       "      <td>7</td>\n",
       "      <td>38</td>\n",
       "      <td>108</td>\n",
       "    </tr>\n",
       "    <tr>\n",
       "      <th>16</th>\n",
       "      <td>8</td>\n",
       "      <td>52</td>\n",
       "      <td>79</td>\n",
       "    </tr>\n",
       "    <tr>\n",
       "      <th>17</th>\n",
       "      <td>8</td>\n",
       "      <td>63</td>\n",
       "      <td>80</td>\n",
       "    </tr>\n",
       "    <tr>\n",
       "      <th>18</th>\n",
       "      <td>9</td>\n",
       "      <td>70</td>\n",
       "      <td>96</td>\n",
       "    </tr>\n",
       "    <tr>\n",
       "      <th>19</th>\n",
       "      <td>9</td>\n",
       "      <td>41</td>\n",
       "      <td>101</td>\n",
       "    </tr>\n",
       "  </tbody>\n",
       "</table>\n",
       "</div>"
      ],
      "text/plain": [
       "    client_id  facility_id  distance\n",
       "0           0           68        53\n",
       "1           0           49        55\n",
       "2           1           52        18\n",
       "3           1           42        46\n",
       "4           2            5         8\n",
       "5           2           19         8\n",
       "6           3            1       130\n",
       "7           3           13       147\n",
       "8           4           21        83\n",
       "9           4            8        83\n",
       "10          5           67        39\n",
       "11          5            2        42\n",
       "12          6           49        78\n",
       "13          6           50        81\n",
       "14          7           36       102\n",
       "15          7           38       108\n",
       "16          8           52        79\n",
       "17          8           63        80\n",
       "18          9           70        96\n",
       "19          9           41       101"
      ]
     },
     "execution_count": 29,
     "metadata": {},
     "output_type": "execute_result"
    }
   ],
   "source": [
    "distance_2_df"
   ]
  },
  {
   "cell_type": "code",
   "execution_count": 30,
   "metadata": {},
   "outputs": [
    {
     "name": "stdout",
     "output_type": "stream",
     "text": [
      "0 16\n",
      "1 13\n",
      "2 2\n",
      "3 0\n",
      "4 6\n",
      "5 15\n",
      "6 11\n",
      "7 7\n",
      "8 14\n",
      "9 17\n"
     ]
    }
   ],
   "source": [
    "for i in student_indices:\n",
    "    for j in school_2_indices:\n",
    "        if decision_2[i,j].value() == 1:\n",
    "            print(i,j)"
   ]
  },
  {
   "cell_type": "markdown",
   "metadata": {},
   "source": [
    "So, k = 2 has the optimal solution. k = 1 should have the infeasible result."
   ]
  },
  {
   "cell_type": "markdown",
   "metadata": {},
   "source": [
    "#### (old) try k = 1"
   ]
  },
  {
   "cell_type": "code",
   "execution_count": 31,
   "metadata": {},
   "outputs": [
    {
     "data": {
      "text/plain": [
       "1"
      ]
     },
     "execution_count": 31,
     "metadata": {},
     "output_type": "execute_result"
    }
   ],
   "source": [
    "distance_1_df, distance_1_arr = get_k_facilities(1, time_table)\n",
    "school_1_df = get_capacity(distance_1_df, schools_df)\n",
    "\n",
    "# p-median\n",
    "prob_1 = pulp.LpProblem(\"k-nearest-1\", LpMinimize)\n",
    "school_1_indices = range(len(distance_1_arr[0]))\n",
    "\n",
    "decision_1 = LpVariable.dicts(\"x\", ((i, j) for i in student_indices for j in school_1_indices), 0, 1, LpBinary)\n",
    "\n",
    "objective_1 = pulp.lpSum(\n",
    "    pulp.lpSum(decision_1[i,j] * distance_1_arr[i,j] for j in school_1_indices) \n",
    "    for i in student_indices)\n",
    "prob_1 += objective_1\n",
    "\n",
    "# 1. Each client is assigned to a facility\n",
    "for i in student_indices:\n",
    "    prob_1 +=  pulp.lpSum(decision_1[i,j] for j in school_1_indices) == 1\n",
    "\n",
    "# 2. Demand value the facility can serve is no more than its capacity.\n",
    "for j in school_1_indices:\n",
    "    prob_1 +=  pulp.lpSum(decision_1[i,j] for i in student_indices) <= school_1_df['Count'][j]\n",
    "    \n",
    "prob_1.solve(pulp.PULP_CBC_CMD(msg=False))"
   ]
  },
  {
   "cell_type": "code",
   "execution_count": 32,
   "metadata": {},
   "outputs": [
    {
     "name": "stdout",
     "output_type": "stream",
     "text": [
      "0 7\n",
      "1 5\n",
      "2 1\n",
      "3 0\n",
      "4 2\n",
      "5 6\n",
      "6 4\n",
      "7 3\n",
      "8 2\n",
      "9 8\n"
     ]
    }
   ],
   "source": [
    "for i in student_indices:\n",
    "    for j in school_1_indices:\n",
    "        if decision_1[i,j].value() == 1:\n",
    "            print(i,j)"
   ]
  },
  {
   "cell_type": "code",
   "execution_count": 33,
   "metadata": {},
   "outputs": [
    {
     "data": {
      "text/plain": [
       "array([ 1,  5, 21, 36, 49, 52, 67, 68, 70])"
      ]
     },
     "execution_count": 33,
     "metadata": {},
     "output_type": "execute_result"
    }
   ],
   "source": [
    "school_1_index =  distance_1_df['facility_id'].sort_values().unique()\n",
    "school_1_index"
   ]
  },
  {
   "cell_type": "code",
   "execution_count": 34,
   "metadata": {},
   "outputs": [
    {
     "data": {
      "text/plain": [
       "21"
      ]
     },
     "execution_count": 34,
     "metadata": {},
     "output_type": "execute_result"
    }
   ],
   "source": [
    "school_1_index[2]"
   ]
  },
  {
   "cell_type": "code",
   "execution_count": 35,
   "metadata": {},
   "outputs": [
    {
     "data": {
      "text/html": [
       "<div>\n",
       "<style scoped>\n",
       "    .dataframe tbody tr th:only-of-type {\n",
       "        vertical-align: middle;\n",
       "    }\n",
       "\n",
       "    .dataframe tbody tr th {\n",
       "        vertical-align: top;\n",
       "    }\n",
       "\n",
       "    .dataframe thead th {\n",
       "        text-align: right;\n",
       "    }\n",
       "</style>\n",
       "<table border=\"1\" class=\"dataframe\">\n",
       "  <thead>\n",
       "    <tr style=\"text-align: right;\">\n",
       "      <th></th>\n",
       "      <th>client_id</th>\n",
       "      <th>facility_id</th>\n",
       "      <th>distance</th>\n",
       "    </tr>\n",
       "  </thead>\n",
       "  <tbody>\n",
       "    <tr>\n",
       "      <th>0</th>\n",
       "      <td>0</td>\n",
       "      <td>68</td>\n",
       "      <td>53</td>\n",
       "    </tr>\n",
       "    <tr>\n",
       "      <th>1</th>\n",
       "      <td>1</td>\n",
       "      <td>52</td>\n",
       "      <td>18</td>\n",
       "    </tr>\n",
       "    <tr>\n",
       "      <th>2</th>\n",
       "      <td>2</td>\n",
       "      <td>5</td>\n",
       "      <td>8</td>\n",
       "    </tr>\n",
       "    <tr>\n",
       "      <th>3</th>\n",
       "      <td>3</td>\n",
       "      <td>1</td>\n",
       "      <td>130</td>\n",
       "    </tr>\n",
       "    <tr>\n",
       "      <th>4</th>\n",
       "      <td>4</td>\n",
       "      <td>21</td>\n",
       "      <td>83</td>\n",
       "    </tr>\n",
       "    <tr>\n",
       "      <th>5</th>\n",
       "      <td>5</td>\n",
       "      <td>67</td>\n",
       "      <td>39</td>\n",
       "    </tr>\n",
       "    <tr>\n",
       "      <th>6</th>\n",
       "      <td>6</td>\n",
       "      <td>49</td>\n",
       "      <td>78</td>\n",
       "    </tr>\n",
       "    <tr>\n",
       "      <th>7</th>\n",
       "      <td>7</td>\n",
       "      <td>36</td>\n",
       "      <td>102</td>\n",
       "    </tr>\n",
       "    <tr>\n",
       "      <th>8</th>\n",
       "      <td>8</td>\n",
       "      <td>52</td>\n",
       "      <td>79</td>\n",
       "    </tr>\n",
       "    <tr>\n",
       "      <th>9</th>\n",
       "      <td>9</td>\n",
       "      <td>70</td>\n",
       "      <td>96</td>\n",
       "    </tr>\n",
       "  </tbody>\n",
       "</table>\n",
       "</div>"
      ],
      "text/plain": [
       "   client_id  facility_id  distance\n",
       "0          0           68        53\n",
       "1          1           52        18\n",
       "2          2            5         8\n",
       "3          3            1       130\n",
       "4          4           21        83\n",
       "5          5           67        39\n",
       "6          6           49        78\n",
       "7          7           36       102\n",
       "8          8           52        79\n",
       "9          9           70        96"
      ]
     },
     "execution_count": 35,
     "metadata": {},
     "output_type": "execute_result"
    }
   ],
   "source": [
    "distance_1_df"
   ]
  },
  {
   "cell_type": "code",
   "execution_count": 36,
   "metadata": {},
   "outputs": [
    {
     "data": {
      "text/plain": [
       "array([[10000, 10000, 10000, 10000, 10000, 10000, 10000,    53, 10000],\n",
       "       [10000, 10000, 10000, 10000, 10000,    18, 10000, 10000, 10000],\n",
       "       [10000,     8, 10000, 10000, 10000, 10000, 10000, 10000, 10000],\n",
       "       [  130, 10000, 10000, 10000, 10000, 10000, 10000, 10000, 10000],\n",
       "       [10000, 10000,    83, 10000, 10000, 10000, 10000, 10000, 10000],\n",
       "       [10000, 10000, 10000, 10000, 10000, 10000,    39, 10000, 10000],\n",
       "       [10000, 10000, 10000, 10000,    78, 10000, 10000, 10000, 10000],\n",
       "       [10000, 10000, 10000,   102, 10000, 10000, 10000, 10000, 10000],\n",
       "       [10000, 10000, 10000, 10000, 10000,    79, 10000, 10000, 10000],\n",
       "       [10000, 10000, 10000, 10000, 10000, 10000, 10000, 10000,    96]])"
      ]
     },
     "execution_count": 36,
     "metadata": {},
     "output_type": "execute_result"
    }
   ],
   "source": [
    "distance_1_arr"
   ]
  },
  {
   "cell_type": "code",
   "execution_count": 37,
   "metadata": {},
   "outputs": [
    {
     "name": "stdout",
     "output_type": "stream",
     "text": [
      "10607.0\n"
     ]
    }
   ],
   "source": [
    "print(round(prob_1.objective.value(), 3))"
   ]
  },
  {
   "cell_type": "markdown",
   "metadata": {},
   "source": [
    "The problem is that it still takes one 10000 as the result, which is not allowed.   \n",
    "\n",
    "Here my solution is to add one constraint, to prevent the use of 10000 in the solution."
   ]
  },
  {
   "cell_type": "code",
   "execution_count": 38,
   "metadata": {},
   "outputs": [
    {
     "data": {
      "text/plain": [
       "-1"
      ]
     },
     "execution_count": 38,
     "metadata": {},
     "output_type": "execute_result"
    }
   ],
   "source": [
    "# p-median with constraint to prevent the use of 10000\n",
    "prob_1_new = pulp.LpProblem(\"k-nearest-1-new-constraint\", LpMinimize)\n",
    "\n",
    "decision_1_prevent = LpVariable.dicts(\"x\", ((i, j) for i in student_indices for j in school_1_indices), 0, 1, LpBinary)\n",
    "\n",
    "objective_1_prevent = pulp.lpSum(\n",
    "    pulp.lpSum(decision_1_prevent[i,j] * distance_1_arr[i,j] for j in school_1_indices) \n",
    "    for i in student_indices)\n",
    "prob_1_new += objective_1_prevent\n",
    "\n",
    "# 1. Each client is assigned to a facility\n",
    "for i in student_indices:\n",
    "    prob_1_new +=  pulp.lpSum(decision_1_prevent[i,j] for j in school_1_indices) == 1\n",
    "\n",
    "# 2. Demand value the facility can serve is no more than its capacity.\n",
    "for j in school_1_indices:\n",
    "    prob_1_new +=  pulp.lpSum(decision_1_prevent[i,j] for i in student_indices) <= school_1_df['Count'][j]\n",
    "\n",
    "# 3. To prevent the use of 10000\n",
    "for i in student_indices:\n",
    "    for j in school_1_indices:\n",
    "        if distance_1_arr[i,j] == 10000:\n",
    "            prob_1_new += decision_1_prevent[i,j] == 0\n",
    "\n",
    "prob_1_new.solve(pulp.PULP_CBC_CMD(msg=False))"
   ]
  },
  {
   "cell_type": "markdown",
   "metadata": {},
   "source": [
    "#### (old) add decision variable for placeholder/extra facility "
   ]
  },
  {
   "cell_type": "markdown",
   "metadata": {},
   "source": [
    "Since k = 1 is infeasible, we use this case to implement the extra facility."
   ]
  },
  {
   "cell_type": "code",
   "execution_count": 39,
   "metadata": {},
   "outputs": [],
   "source": [
    "# get the new distance matrix with k nearest facilities, and the rest facilities\n"
   ]
  },
  {
   "cell_type": "code",
   "execution_count": 40,
   "metadata": {},
   "outputs": [
    {
     "name": "stdout",
     "output_type": "stream",
     "text": [
      "9\n"
     ]
    }
   ],
   "source": [
    "k_facility_number = len(distance_1_df['facility_id'].unique())\n",
    "print(k_facility_number)"
   ]
  },
  {
   "cell_type": "code",
   "execution_count": 41,
   "metadata": {},
   "outputs": [
    {
     "data": {
      "text/plain": [
       "0    68\n",
       "1    52\n",
       "2     5\n",
       "3     1\n",
       "4    21\n",
       "5    67\n",
       "6    49\n",
       "7    36\n",
       "8    52\n",
       "9    70\n",
       "Name: facility_id, dtype: int64"
      ]
     },
     "execution_count": 41,
     "metadata": {},
     "output_type": "execute_result"
    }
   ],
   "source": [
    "distance_1_df['facility_id']"
   ]
  },
  {
   "cell_type": "code",
   "execution_count": 42,
   "metadata": {},
   "outputs": [
    {
     "data": {
      "text/plain": [
       "array([ 0,  2,  3,  4,  6,  7,  8,  9, 10, 11, 12, 13, 14, 15, 16, 17, 18,\n",
       "       19, 20, 22, 23, 24, 25, 26, 27, 28, 29, 30, 31, 32, 33, 34, 35, 37,\n",
       "       38, 39, 40, 41, 42, 43, 44, 45, 46, 47, 48, 50, 51, 53, 54, 55, 56,\n",
       "       57, 58, 59, 60, 61, 62, 63, 64, 65, 66, 69, 71, 72, 73])"
      ]
     },
     "execution_count": 42,
     "metadata": {},
     "output_type": "execute_result"
    }
   ],
   "source": [
    "# Get the complement of facility_id in distance_1_df\n",
    "extra_facility_ids = [i for i in range(len(time_table[0])) if i not in distance_1_df['facility_id'].values]\n",
    "extra_facility_ids = np.array(extra_facility_ids)\n",
    "extra_facility_ids"
   ]
  },
  {
   "cell_type": "code",
   "execution_count": 43,
   "metadata": {},
   "outputs": [
    {
     "data": {
      "text/plain": [
       "65"
      ]
     },
     "execution_count": 43,
     "metadata": {},
     "output_type": "execute_result"
    }
   ],
   "source": [
    "len(extra_facility_ids)"
   ]
  },
  {
   "cell_type": "code",
   "execution_count": 44,
   "metadata": {},
   "outputs": [
    {
     "data": {
      "text/plain": [
       "74"
      ]
     },
     "execution_count": 44,
     "metadata": {},
     "output_type": "execute_result"
    }
   ],
   "source": [
    "len(time_table[0])"
   ]
  },
  {
   "cell_type": "code",
   "execution_count": 45,
   "metadata": {},
   "outputs": [
    {
     "data": {
      "text/plain": [
       "array([ 83,  78,  70, 117,  84,  86,  78,  75,  83, 107, 122,  97,  95,\n",
       "       112,  88,  91,  86,  88,  88,  75,  71, 109, 125, 115,  79,  93,\n",
       "        97, 136, 133,  59,  77,  63, 138, 124, 113, 110, 114, 100, 100,\n",
       "        78,  92,  86,  84,  89,  82,  65, 119, 116, 107, 116, 117, 111,\n",
       "        98, 100,  99, 109, 117, 124, 116, 181,  60,  95,  84,  89, 115])"
      ]
     },
     "execution_count": 45,
     "metadata": {},
     "output_type": "execute_result"
    }
   ],
   "source": [
    "extra_distance_matrix = time_table[:, extra_facility_ids]\n",
    "extra_distance_matrix[0]"
   ]
  },
  {
   "cell_type": "code",
   "execution_count": 46,
   "metadata": {},
   "outputs": [],
   "source": [
    "# get the capacity of extra facilities\n",
    "school_extra_df = pd.DataFrame({'facility_id': extra_facility_ids})\n",
    "school_extra_df = school_extra_df.merge(schools_df, left_on='facility_id',right_on='Unnamed: 0', how='left')"
   ]
  },
  {
   "cell_type": "code",
   "execution_count": 47,
   "metadata": {},
   "outputs": [
    {
     "data": {
      "text/plain": [
       "array([[ 64,  85,  97, 110,  55,  90,  90,  56,  53,  79],\n",
       "       [ 76,  80,  96, 100,  61,  18,  18, 119, 106,  60],\n",
       "       [ 19,   8,  51,  68, 110, 129, 129, 163, 118,  36],\n",
       "       [130, 160, 169, 151, 184, 208, 208, 201, 208, 161],\n",
       "       [110, 129,  83,  93, 143, 156, 156, 153, 163, 107],\n",
       "       [ 52,  70,  93,  84,  73,  86,  86,  39,  59,  61],\n",
       "       [101, 114, 128, 131,  78,  97,  97, 127, 120,  90],\n",
       "       [125, 131, 119, 102, 150, 173, 173, 187, 183, 128],\n",
       "       [113, 120, 133, 144, 108,  79,  79, 157, 180,  93],\n",
       "       [118, 130, 146, 147, 133, 112, 112, 205, 182,  96]])"
      ]
     },
     "execution_count": 47,
     "metadata": {},
     "output_type": "execute_result"
    }
   ],
   "source": [
    "# create the new distance matrix of k nearest facilities\n",
    "# in the previous one, the non-k-nearest facilities have 10,000 as the distance\n",
    "# now we need to use the real distance\n",
    "facility_ids_array = distance_1_df['facility_id'].sort_values().values\n",
    "k_distance_matrix = time_table[:, facility_ids_array]\n",
    "k_distance_matrix"
   ]
  },
  {
   "cell_type": "code",
   "execution_count": 48,
   "metadata": {},
   "outputs": [
    {
     "data": {
      "text/plain": [
       "array([ 1,  5, 21, 36, 49, 52, 52, 67, 68, 70])"
      ]
     },
     "execution_count": 48,
     "metadata": {},
     "output_type": "execute_result"
    }
   ],
   "source": [
    "facility_ids_array"
   ]
  },
  {
   "cell_type": "code",
   "execution_count": 49,
   "metadata": {},
   "outputs": [
    {
     "data": {
      "text/plain": [
       "array([[10000, 10000, 10000, 10000, 10000, 10000, 10000,    53, 10000],\n",
       "       [10000, 10000, 10000, 10000, 10000,    18, 10000, 10000, 10000],\n",
       "       [10000,     8, 10000, 10000, 10000, 10000, 10000, 10000, 10000],\n",
       "       [  130, 10000, 10000, 10000, 10000, 10000, 10000, 10000, 10000],\n",
       "       [10000, 10000,    83, 10000, 10000, 10000, 10000, 10000, 10000],\n",
       "       [10000, 10000, 10000, 10000, 10000, 10000,    39, 10000, 10000],\n",
       "       [10000, 10000, 10000, 10000,    78, 10000, 10000, 10000, 10000],\n",
       "       [10000, 10000, 10000,   102, 10000, 10000, 10000, 10000, 10000],\n",
       "       [10000, 10000, 10000, 10000, 10000,    79, 10000, 10000, 10000],\n",
       "       [10000, 10000, 10000, 10000, 10000, 10000, 10000, 10000,    96]])"
      ]
     },
     "execution_count": 49,
     "metadata": {},
     "output_type": "execute_result"
    }
   ],
   "source": [
    "distance_1_arr"
   ]
  },
  {
   "cell_type": "code",
   "execution_count": 50,
   "metadata": {},
   "outputs": [
    {
     "data": {
      "text/plain": [
       "1"
      ]
     },
     "execution_count": 50,
     "metadata": {},
     "output_type": "execute_result"
    }
   ],
   "source": [
    "# p-median with all the facilities\n",
    "prob_all = pulp.LpProblem(\"k-nearest-all-facilities\", LpMinimize)\n",
    "\n",
    "# set parameter\n",
    "school_extra_indices = range(len(extra_distance_matrix[0]))\n",
    "decision_extra = LpVariable.dicts(\"x_extra\", ((i, j) for i in student_indices for j in school_extra_indices), 0, 1, LpBinary)\n",
    "decision_k_in_all = LpVariable.dicts(\"x_k\", ((i, j) for i in student_indices for j in school_1_indices), 0, 1, LpBinary)\n",
    "\n",
    "# set objective\n",
    "objective_all = (\n",
    "    pulp.lpSum(\n",
    "        pulp.lpSum(decision_k_in_all[i, j] * k_distance_matrix[i, j] for j in school_1_indices)\n",
    "        for i in student_indices\n",
    "    ) +\n",
    "    pulp.lpSum(\n",
    "        pulp.lpSum(decision_extra[i, j] * extra_distance_matrix[i, j] for j in school_extra_indices)\n",
    "        for i in student_indices\n",
    "    )\n",
    ")\n",
    "prob_all += objective_all\n",
    "\n",
    "# 1. Each client is assigned to a facility\n",
    "for i in student_indices:\n",
    "    prob_all += (\n",
    "        pulp.lpSum(decision_k_in_all[i, j] for j in school_1_indices)\n",
    "        + pulp.lpSum(decision_extra[i, j] for j in school_extra_indices)\n",
    "        == 1\n",
    "    )\n",
    "\n",
    "# 2. Demand value the facility can serve is no more than its capacity.\n",
    "for j in school_1_indices:\n",
    "    prob_all +=  pulp.lpSum(decision_k_in_all[i,j] for i in student_indices) <= school_1_df['Count'][j]\n",
    "for j in school_extra_indices:\n",
    "    prob_all +=  pulp.lpSum(decision_extra[i,j] for i in student_indices) <= school_extra_df['Count'][j]\n",
    "\n",
    "#prob_all.solve(pulp.PULP_CBC_CMD(msg=False))\n",
    "prob_all.solve(GLPK(msg=False))\n"
   ]
  },
  {
   "cell_type": "code",
   "execution_count": 51,
   "metadata": {},
   "outputs": [
    {
     "data": {
      "text/plain": [
       "1"
      ]
     },
     "execution_count": 51,
     "metadata": {},
     "output_type": "execute_result"
    }
   ],
   "source": [
    "prob_all.status"
   ]
  },
  {
   "cell_type": "markdown",
   "metadata": {},
   "source": [
    "status = 1: The problem was solved to optimality, and an optimal solution was found.   \n",
    "status = 0: The problem is feasible, but the solver was not able to prove that the solution is optimal.   \n",
    "status = -1: The problem is infeasible; no feasible solution exists.   \n",
    "status = -2: The problem is unbounded; the objective function can be improved infinitely.   \n",
    "status = -3: The solver encountered an error or was unable to solve the problem.    "
   ]
  },
  {
   "cell_type": "code",
   "execution_count": 52,
   "metadata": {},
   "outputs": [
    {
     "name": "stdout",
     "output_type": "stream",
     "text": [
      "decision_extra[2, 17] = 1\n",
      "decision_extra[4, 6] = 1\n",
      "decision_extra[9, 37] = 1\n",
      "decision_k_in_all[0, 8] = 1\n",
      "decision_k_in_all[1, 6] = 1\n",
      "decision_k_in_all[3, 0] = 1\n",
      "decision_k_in_all[5, 7] = 1\n",
      "decision_k_in_all[6, 4] = 1\n",
      "decision_k_in_all[7, 3] = 1\n",
      "decision_k_in_all[8, 5] = 1\n"
     ]
    }
   ],
   "source": [
    "for (i, j) in decision_extra.keys():\n",
    "    value = decision_extra[(i, j)].varValue\n",
    "    if value == 1:\n",
    "        print(\"decision_extra[{}, {}] = {}\".format(i, j, value))\n",
    "\n",
    "    # Access the optimal values of decision_k_in_all\n",
    "for (i, j) in decision_k_in_all.keys():\n",
    "    value = decision_k_in_all[(i, j)].varValue\n",
    "    if value == 1:\n",
    "        print(\"decision_k_in_all[{}, {}] = {}\".format(i, j, value))"
   ]
  },
  {
   "cell_type": "markdown",
   "metadata": {},
   "source": [
    "Another condition is when do extra facility is selected, but the k-nearest facility of other client is selected.   \n",
    "\n",
    "For example, when k = 2, client `a` has facility `1` and `2` as the nearest facility, client `b` has facility `3` and `4`.   \n",
    "\n",
    "It's possible that in the optimal solution client `b` is assigned to facility `1`, which is not its nearest facility."
   ]
  },
  {
   "cell_type": "markdown",
   "metadata": {},
   "source": [
    "### (please check this part) p-median with k facilities "
   ]
  },
  {
   "cell_type": "code",
   "execution_count": 76,
   "metadata": {},
   "outputs": [],
   "source": [
    "# to get the nearest facility of client, k = 1\n",
    "from scipy.spatial import KDTree\n",
    "k_pair = []\n",
    "for i in range(len(time_table)):\n",
    "    tree = KDTree(time_table[i].reshape(-1, 1))\n",
    "    distance, indices = tree.query(0, k=1)\n",
    "    k_pair.append([i, indices])"
   ]
  },
  {
   "cell_type": "code",
   "execution_count": 77,
   "metadata": {},
   "outputs": [
    {
     "data": {
      "text/plain": [
       "[[0, 68],\n",
       " [1, 52],\n",
       " [2, 19],\n",
       " [3, 1],\n",
       " [4, 8],\n",
       " [5, 67],\n",
       " [6, 49],\n",
       " [7, 36],\n",
       " [8, 52],\n",
       " [9, 70]]"
      ]
     },
     "execution_count": 77,
     "metadata": {},
     "output_type": "execute_result"
    }
   ],
   "source": [
    "k_pair"
   ]
  },
  {
   "cell_type": "code",
   "execution_count": 82,
   "metadata": {},
   "outputs": [
    {
     "data": {
      "text/plain": [
       "array([ 83,  64,  78,  70, 117,  85,  84,  86,  78,  75,  83, 107, 122,\n",
       "        97,  95, 112,  88,  91,  86,  88,  88,  97,  75,  71, 109, 125,\n",
       "       115,  79,  93,  97, 136, 133,  59,  77,  63, 138, 110, 124, 113,\n",
       "       110, 114, 100, 100,  78,  92,  86,  84,  89,  82,  55,  65, 119,\n",
       "        90, 116, 107, 116, 117, 111,  98, 100,  99, 109, 117, 124, 116,\n",
       "       181,  60,  56,  53,  95,  79,  84,  89, 115])"
      ]
     },
     "execution_count": 82,
     "metadata": {},
     "output_type": "execute_result"
    }
   ],
   "source": [
    "time_table[0]"
   ]
  },
  {
   "cell_type": "code",
   "execution_count": 80,
   "metadata": {},
   "outputs": [
    {
     "data": {
      "text/plain": [
       "-1"
      ]
     },
     "execution_count": 80,
     "metadata": {},
     "output_type": "execute_result"
    }
   ],
   "source": [
    "# p-median with k facilities\n",
    "problem_k = pulp.LpProblem(\"new-k-nearest-facilities\", LpMinimize)\n",
    "\n",
    "decision_of_k = LpVariable.dicts(\"x_of_k\", ((i, j) for i, j in k_pair), 0, 1, LpBinary)\n",
    "\n",
    "objective_of_k = pulp.lpSum(\n",
    "    pulp.lpSum(decision_of_k.get((i,j), 0) * time_table[i,j] for j in [row[1] for row in k_pair]) \n",
    "    for i in student_indices)\n",
    "problem_k += objective_of_k\n",
    "\n",
    "# 1. Each client is assigned to a facility\n",
    "for i in student_indices:\n",
    "    problem_k +=  pulp.lpSum(decision_of_k.get((i,j), 0) for j in [row[1] for row in k_pair]) == 1\n",
    "\n",
    "# 2. Demand value the facility can serve is no more than its capacity.\n",
    "for j in [row[1] for row in k_pair]:\n",
    "    problem_k +=  pulp.lpSum(decision_of_k.get((i,j), 0) for i in student_indices) <= schools_df['Count'][j]\n",
    "    \n",
    "problem_k.solve(pulp.PULP_CBC_CMD(msg=False))"
   ]
  },
  {
   "cell_type": "code",
   "execution_count": 81,
   "metadata": {},
   "outputs": [
    {
     "data": {
      "text/plain": [
       "{(0, 68): x_of_k_(0,_68),\n",
       " (1, 52): x_of_k_(1,_52),\n",
       " (2, 19): x_of_k_(2,_19),\n",
       " (3, 1): x_of_k_(3,_1),\n",
       " (4, 8): x_of_k_(4,_8),\n",
       " (5, 67): x_of_k_(5,_67),\n",
       " (6, 49): x_of_k_(6,_49),\n",
       " (7, 36): x_of_k_(7,_36),\n",
       " (8, 52): x_of_k_(8,_52),\n",
       " (9, 70): x_of_k_(9,_70)}"
      ]
     },
     "execution_count": 81,
     "metadata": {},
     "output_type": "execute_result"
    }
   ],
   "source": [
    "decision_of_k"
   ]
  }
 ],
 "metadata": {
  "interpreter": {
   "hash": "40d3a090f54c6569ab1632332b64b2c03c39dcf918b08424e98f38b5ae0af88f"
  },
  "kernelspec": {
   "display_name": "Python 3",
   "language": "python",
   "name": "python3"
  },
  "language_info": {
   "codemirror_mode": {
    "name": "ipython",
    "version": 3
   },
   "file_extension": ".py",
   "mimetype": "text/x-python",
   "name": "python",
   "nbconvert_exporter": "python",
   "pygments_lexer": "ipython3",
   "version": "3.8.3"
  }
 },
 "nbformat": 4,
 "nbformat_minor": 2
}
